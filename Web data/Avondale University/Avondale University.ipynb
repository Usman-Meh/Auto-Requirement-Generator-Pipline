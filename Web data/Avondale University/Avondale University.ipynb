{
 "cells": [
  {
   "cell_type": "code",
   "execution_count": 3,
   "metadata": {},
   "outputs": [
    {
     "name": "stdout",
     "output_type": "stream",
     "text": [
      "Empty DataFrame\n",
      "Columns: []\n",
      "Index: []\n"
     ]
    }
   ],
   "source": [
    "from bs4 import BeautifulSoup\n",
    "import requests\n",
    "import pandas as pd\n",
    "\n",
    "# Fetch the webpage content\n",
    "url = \"https://www.avondale.edu.au/courses/\"\n",
    "response = requests.get(url)\n",
    "soup = BeautifulSoup(response.content, 'html.parser')\n",
    "\n",
    "# Extract program names and URLs\n",
    "programs = []\n",
    "for link in soup.find_all('a', class_='ct-link'):\n",
    "    program_name = link.find('div', class_='ct-text-block').get_text(strip=True)\n",
    "    program_url = link.get('href')\n",
    "    print(program_url)\n",
    "    programs.append({'Program Name': program_name, 'Program URL': program_url})\n",
    "\n",
    "# Create DataFrame\n",
    "df = pd.DataFrame(programs)\n",
    "\n",
    "# Display the DataFrame\n",
    "print(df)\n"
   ]
  },
  {
   "cell_type": "code",
   "execution_count": 2,
   "metadata": {},
   "outputs": [
    {
     "name": "stdout",
     "output_type": "stream",
     "text": [
      "Program Name: Bachelor of Nursing, URL: https://www.avondale.edu.au/course/bachelor-of-nursing/\n",
      "Program Name: Graduate Certificate in Nursing, URL: https://www.avondale.edu.au/course/graduate-certificate-in-nursing/\n",
      "Program Name: Master of Nursing, URL: https://www.avondale.edu.au/course/master-of-nursing/\n",
      "Program Name: Undergraduate Certificate in University Preparation, URL: https://www.avondale.edu.au/course/undergraduate-certificate-in-university-preparation/\n",
      "Program Name: Undergraduate Certificate in Science, URL: https://www.avondale.edu.au/course/undergraduate-certificate-in-science/\n",
      "Program Name: Bachelor of Arts/Bachelor of Teaching (Primary), URL: https://www.avondale.edu.au/course/bachelor-of-arts-bachelor-of-teaching-primary/\n",
      "Program Name: Bachelor of Arts/Bachelor of Teaching (Secondary), URL: https://www.avondale.edu.au/course/bachelor-of-arts-bachelor-of-teaching-secondary/\n",
      "Program Name: Bachelor of Arts/Bachelor of Teaching (Birth-12) Not available for new students, URL: https://www.avondale.edu.au/course/bachelor-of-arts-bachelor-of-teaching-birth-12/\n",
      "Program Name: Bachelor of Science/Bachelor of Teaching, URL: https://www.avondale.edu.au/course/bachelor-of-science-bachelor-of-teaching/\n",
      "Program Name: Master of Teaching (Primary), URL: https://www.avondale.edu.au/course/master-of-teaching-primary/\n",
      "Program Name: Master of Teaching (Secondary), URL: https://www.avondale.edu.au/course/master-of-teaching-secondary/\n",
      "Program Name: Graduate Certificate in Educational Studies, URL: https://www.avondale.edu.au/course/graduate-certificate-in-educational-studies/\n",
      "Program Name: Master of Education, URL: https://www.avondale.edu.au/course/master-of-education/\n",
      "Program Name: Undergraduate Certificate in Business, URL: https://www.avondale.edu.au/course/undergraduate-certificate-in-business/\n",
      "Program Name: Diploma of Business, URL: https://www.avondale.edu.au/course/diploma-of-business/\n",
      "Program Name: Bachelor of Business, URL: https://www.avondale.edu.au/course/bachelor-of-business/\n",
      "Program Name: Graduate Certificate of Leadership & Management, URL: https://www.avondale.edu.au/course/graduate-certificate-in-leadership-and-management/\n",
      "Program Name: Graduate Diploma of Leadership & Management, URL: https://www.avondale.edu.au/course/graduate-diploma-of-leadership-and-management/\n",
      "Program Name: Master of Business Administration, URL: https://www.avondale.edu.au/course/master-of-business-administration/\n",
      "Program Name: Bachelor of Arts, URL: https://www.avondale.edu.au/course/bachelor-of-arts/\n",
      "Program Name: Bachelor of Arts (Counselling), URL: https://www.avondale.edu.au/course/bachelor-of-arts-counselling/\n",
      "Program Name: Graduate Certificate in Counselling, URL: https://www.avondale.edu.au/course/graduate-certificate-in-counselling/\n",
      "Program Name: Graduate Diploma in Counselling, URL: https://www.avondale.edu.au/course/graduate-diploma-in-counselling/\n",
      "Program Name: Master of Counselling, URL: https://www.avondale.edu.au/course/master-of-counselling/\n",
      "Program Name: Bachelor of Ministry and Theology, URL: https://www.avondale.edu.au/course/bachelor-of-ministry-and-theology/\n",
      "Program Name: Bachelor of Theology, URL: https://www.avondale.edu.au/course/bachelor-of-theology/\n",
      "Program Name: Associate Degree in Theological Studies, URL: https://www.avondale.edu.au/course/associate-degree-in-theological-studies/\n",
      "Program Name: Master of Ministry, URL: https://www.avondale.edu.au/course/master-of-ministry/\n",
      "Program Name: Graduate Certificate in Arts, URL: https://www.avondale.edu.au/course/graduate-certificate-in-arts/\n",
      "Program Name: Master of Arts, URL: https://www.avondale.edu.au/course/master-of-arts/\n",
      "Program Name: Graduate Certificate of Lifestyle Medicine, URL: https://www.avondale.edu.au/course/graduate-certificate-of-lifestyle-medicine/\n",
      "Program Name: Graduate Diploma of Lifestyle Medicine, URL: https://www.avondale.edu.au/course/graduate-diploma-in-lifestyle-medicine/\n",
      "Program Name: Master of Lifestyle Medicine, URL: https://www.avondale.edu.au/course/master-of-lifestyle-medicine/\n",
      "Program Name: Master of Philosophy, URL: https://www.avondale.edu.au/course/master-of-philosophy/\n",
      "Program Name: Doctor of Philosophy, URL: https://www.avondale.edu.au/course/doctor-of-philosophy/\n"
     ]
    }
   ],
   "source": [
    "from selenium import webdriver\n",
    "from selenium.webdriver.common.by import By\n",
    "import time\n",
    "\n",
    "# Initialize the WebDriver (Make sure to use the correct path to your WebDriver)\n",
    "driver = webdriver.Chrome()\n",
    "\n",
    "# Open the webpage\n",
    "driver.get(\"https://www.avondale.edu.au/courses/\")\n",
    "time.sleep(2)  # Allow some time for the page to load\n",
    "\n",
    "# Find all sections with program name links\n",
    "program_links = driver.find_elements(By.CSS_SELECTOR, 'a.ct-link.qld')\n",
    "\n",
    "# Extract program names and their URLs\n",
    "programs = []\n",
    "for link in program_links:\n",
    "    program_name = link.find_element(By.CLASS_NAME, 'ct-text-block').text\n",
    "    program_url = link.get_attribute('href')\n",
    "    programs.append((program_name, program_url))\n",
    "\n",
    "# Print extracted program names and links\n",
    "for name, url in programs:\n",
    "    print(f\"Program Name: {name}, URL: {url}\")\n",
    "\n",
    "# Close the WebDriver\n",
    "driver.quit()\n"
   ]
  },
  {
   "cell_type": "code",
   "execution_count": 3,
   "metadata": {},
   "outputs": [],
   "source": [
    "import pandas as pd\n",
    "df = pd.DataFrame(programs,columns=['Name','Link'])"
   ]
  },
  {
   "cell_type": "code",
   "execution_count": 4,
   "metadata": {},
   "outputs": [
    {
     "data": {
      "text/plain": [
       "Name    35\n",
       "Link    35\n",
       "dtype: int64"
      ]
     },
     "execution_count": 4,
     "metadata": {},
     "output_type": "execute_result"
    }
   ],
   "source": [
    "df.nunique()"
   ]
  },
  {
   "cell_type": "code",
   "execution_count": 5,
   "metadata": {},
   "outputs": [
    {
     "data": {
      "text/plain": [
       "35"
      ]
     },
     "execution_count": 5,
     "metadata": {},
     "output_type": "execute_result"
    }
   ],
   "source": [
    "len(df)"
   ]
  },
  {
   "cell_type": "code",
   "execution_count": null,
   "metadata": {},
   "outputs": [],
   "source": [
    "class=\"course-template-default single single-course postid-60 wp-embed-responsive  give-recurring oxygen-body\""
   ]
  },
  {
   "cell_type": "code",
   "execution_count": 10,
   "metadata": {},
   "outputs": [
    {
     "data": {
      "text/plain": [
       "Name    35\n",
       "Link    35\n",
       "dtype: int64"
      ]
     },
     "execution_count": 10,
     "metadata": {},
     "output_type": "execute_result"
    }
   ],
   "source": [
    "df."
   ]
  },
  {
   "cell_type": "code",
   "execution_count": 7,
   "metadata": {},
   "outputs": [
    {
     "name": "stdout",
     "output_type": "stream",
     "text": [
      "CURRENT STUDENTS\n",
      "STAFF\n",
      "LIBRARY\n",
      "ALUMNI\n",
      "NEWS & EVENTS\n",
      "DONATE\n",
      "YOUR UNI\n",
      "STUDY\n",
      "RESEARCH\n",
      "\n",
      "ENQUIRE NOW →\n",
      "Bachelor of Nursing\n",
      "Why study with us?\n",
      "Students rank Avondale’s Bachelor of Nursing as number one in Australia for overall experience, learner engagement, learning resources, skills development, student support and teaching quality (The Good Universities Guide 2024).\n",
      "Students can choose to study at our Sydney Campus located on the grounds of the Sydney Adventist Hospital, or the Lake Macquarie Campus, and will:\n",
      "learn in state-of-the-art facilities and hospital ward-like simulation centres\n",
      "gain experience in primarily local and private hospitals such as the Sydney Adventist Hospital, Newcastle Private, Wyong Hospital and Gosford Public and Private Hospitals and\n",
      "learn in other healthcare settings.\n",
      "\n",
      "On completion, students will be eligible to apply for registration as a registered nurse to provide high quality care to patients. There is significant demand for registered nurses in the health care system in public, private and community settings with employment opportunities in local, national, and international healthcare environments.\n",
      "Key Information\n",
      "Study Mode:\n",
      "On campus\n",
      "Location:\n",
      "Lake Macquarie, Sydney\n",
      "Duration:\n",
      "Full-time: 3 years, Part-time: Equivalent years\n",
      "Course Code:\n",
      "4030\n",
      "CRICOS Code:\n",
      "057311C\n",
      "APPLY NOW\n",
      "Course Details\n",
      "Learning Outcomes\n",
      "\n",
      "Admission Criteria\n",
      "\n",
      "Course Structure\n",
      "Practical Experience\n",
      "\n",
      "\n",
      "\n",
      "Professional Registration\n",
      "Career Opportunities\n",
      "Our nursing graduates have gained employment in:\n",
      "Medical, surgical, or critical care\n",
      "Maternal and paediatric health\n",
      "Mental health\n",
      "Gynaecological/women's health\n",
      "International hospitals and communities\n",
      "Aged care and community health\n",
      "Cancer and palliative care\n",
      "Perioperative/operating theatres\n",
      "Health related industries such as medical products and services\n",
      "Education, administration and management.\n",
      "As a registered nurse, graduates will have the opportunity to specialise in a particular area and/or diversify into other health areas.\n",
      "\n",
      "Download course guide\n",
      "\"*\" indicates required fields\n",
      "Name:\n",
      "*\n",
      "First Name\n",
      "Last Name\n",
      "Email Address:\n",
      "*\n",
      "Mobile Phone:\n",
      "*\n",
      "Student Type:\n",
      "*\n",
      "Select...\n",
      "Domestic student (Australian or New Zealand)\n",
      "International student\n",
      "I am...\n",
      "*\n",
      "Select...\n",
      "a High School Student\n",
      "a Parent/Guardian\n",
      "a Teacher\n",
      "Other\n",
      "Emma's Story\n",
      "\"The community at Avondale is what makes it so enjoyable. Not only are the facilities amazing, but the lecturers' personalised care is amazing too. They want you to succeed. They want you to be the best nurse that you can be.\" \n",
      "\n",
      "- Emma, Bachelor of Nursing.\n",
      "Scholarships →\n",
      "Want to reduce the cost of your study? We offer a range of scholarships and grants. View all available\n",
      "Fees →\n",
      "You may be eligible for a Fee-Help loan. Commonwealth Supported Place offers are available for some courses.\n",
      "Enquiries\n",
      "Phone: +61 2 4980 2377\n",
      "Email: study@avondale.edu.au\n",
      "Monday-Thursday, 9.00am-5pm\n",
      "Friday, 9.00am-12.00noon\n",
      "Apply Now →\n",
      "Find another course →\n",
      "ASK A QUESTION\n",
      "LIVE CHAT\n",
      "CALL\n"
     ]
    }
   ],
   "source": [
    "from selenium import webdriver\n",
    "from selenium.webdriver.common.by import By\n",
    "import time\n",
    "\n",
    "# Initialize the WebDriver\n",
    "driver = webdriver.Chrome()\n",
    "\n",
    "# Open the webpage\n",
    "driver.get(\"https://www.avondale.edu.au/course/bachelor-of-nursing/\")\n",
    "time.sleep(3)  # Allow time for the page to load fully\n",
    "\n",
    "# Locate the body content and extract all text\n",
    "main_div = driver.find_element(By.TAG_NAME, 'body')\n",
    "\n",
    "if main_div:\n",
    "    # Remove any header or footer elements using JavaScript\n",
    "    driver.execute_script(\"document.querySelectorAll('header, footer').forEach(el => el.remove());\")\n",
    "\n",
    "    # Extract the text from the cleaned main div\n",
    "    text = main_div.text\n",
    "    print(text)\n",
    "\n",
    "else:\n",
    "    print(\"Main body tag not found.\")\n",
    "\n",
    "# Close the WebDriver\n",
    "driver.quit()\n"
   ]
  },
  {
   "cell_type": "code",
   "execution_count": 19,
   "metadata": {},
   "outputs": [
    {
     "data": {
      "text/plain": [
       "Name    35\n",
       "Link    35\n",
       "dtype: int64"
      ]
     },
     "execution_count": 19,
     "metadata": {},
     "output_type": "execute_result"
    }
   ],
   "source": [
    "df.count()"
   ]
  },
  {
   "cell_type": "code",
   "execution_count": 29,
   "metadata": {},
   "outputs": [
    {
     "data": {
      "text/plain": [
       "'https://www.avondale.edu.au/course/master-of-nursing/'"
      ]
     },
     "execution_count": 29,
     "metadata": {},
     "output_type": "execute_result"
    }
   ],
   "source": [
    "df.iloc[2,1]"
   ]
  },
  {
   "cell_type": "code",
   "execution_count": 37,
   "metadata": {},
   "outputs": [
    {
     "data": {
      "text/plain": [
       "'https://www.avondale.edu.au/course/undergraduate-certificate-in-science/'"
      ]
     },
     "execution_count": 37,
     "metadata": {},
     "output_type": "execute_result"
    }
   ],
   "source": [
    "df.iloc[4,1]"
   ]
  },
  {
   "cell_type": "code",
   "execution_count": 73,
   "metadata": {},
   "outputs": [
    {
     "name": "stdout",
     "output_type": "stream",
     "text": [
      "Text content saved to Avondale University/Doctor_of_Philosophy.txt\n"
     ]
    }
   ],
   "source": [
    "from selenium import webdriver\n",
    "from selenium.webdriver.common.by import By\n",
    "from bs4 import BeautifulSoup\n",
    "import os\n",
    "import time\n",
    "\n",
    "a=34\n",
    "degree_name = df.iloc[a,0]\n",
    "url = df.iloc[a,1]\n",
    "# Set up the Selenium WebDriver\n",
    "driver = webdriver.Chrome()  # Replace with the correct WebDriver for your browser\n",
    "\n",
    "# Open the webpage\n",
    "driver.get(url)\n",
    "\n",
    "# Allow the page to load completely\n",
    "time.sleep(5)  # Adjust this as necessary for loading time\n",
    "\n",
    "try:\n",
    "    # Find the main content div with class 'layout-container' and get its HTML\n",
    "    main_div = driver.find_element(By.TAG_NAME, 'body')\n",
    "    main_div_html = main_div.get_attribute('outerHTML')\n",
    "\n",
    "    # Use BeautifulSoup to parse the HTML content\n",
    "    soup = BeautifulSoup(main_div_html, 'html.parser')\n",
    "\n",
    "    # Remove any header or footer elements inside the main div (if they exist)\n",
    "    for tag in soup.find_all(['header', 'footer']):\n",
    "        tag.decompose()  # Remove these tags and their content\n",
    "\n",
    "    # Extract the text from the cleaned main div\n",
    "    text_content = soup.get_text(separator='\\n', strip=True)\n",
    "    #print(text_content)\n",
    "\n",
    "\n",
    "    file_path = f\"Avondale University/{degree_name.replace('/', '_').replace(' ', '_')}.txt\"\n",
    "    with open(file_path, 'w', encoding='utf-8') as file:\n",
    "        file.write(f\"Link: {url}\\n\\n\")\n",
    "        file.write(text_content)\n",
    "        \n",
    "    print(f\"Text content saved to {file_path}\")\n",
    "\n",
    "except Exception as e:\n",
    "    print(\"Error:\", e)\n",
    "\n",
    "# Close the driver\n",
    "driver.quit()\n"
   ]
  },
  {
   "cell_type": "code",
   "execution_count": 51,
   "metadata": {},
   "outputs": [
    {
     "data": {
      "text/plain": [
       "Name    35\n",
       "Link    35\n",
       "dtype: int64"
      ]
     },
     "execution_count": 51,
     "metadata": {},
     "output_type": "execute_result"
    }
   ],
   "source": [
    "df.count()"
   ]
  },
  {
   "cell_type": "code",
   "execution_count": 27,
   "metadata": {},
   "outputs": [
    {
     "name": "stdout",
     "output_type": "stream",
     "text": [
      "The phrase 'Why study with us?' was found in the file.\n"
     ]
    }
   ],
   "source": [
    "\n",
    "# Search for the phrase \"200 and 300-level\" in the content\n",
    "search_phrase = \"Why study with us?\"\n",
    "\n",
    "# Check if the phrase exists in the file content\n",
    "if search_phrase in text_content:\n",
    "    print(f\"The phrase '{search_phrase}' was found in the file.\")\n",
    "else:\n",
    "    print(f\"The phrase '{search_phrase}' was NOT found in the file.\")"
   ]
  },
  {
   "cell_type": "code",
   "execution_count": null,
   "metadata": {},
   "outputs": [],
   "source": []
  },
  {
   "cell_type": "code",
   "execution_count": 61,
   "metadata": {},
   "outputs": [
    {
     "data": {
      "text/plain": [
       "'https://www.avondale.edu.au/course/graduate-certificate-in-nursing/'"
      ]
     },
     "execution_count": 61,
     "metadata": {},
     "output_type": "execute_result"
    }
   ],
   "source": [
    "df.iloc[1,1]"
   ]
  },
  {
   "cell_type": "code",
   "execution_count": 11,
   "metadata": {},
   "outputs": [
    {
     "ename": "NameError",
     "evalue": "name 'os' is not defined",
     "output_type": "error",
     "traceback": [
      "\u001b[1;31m---------------------------------------------------------------------------\u001b[0m",
      "\u001b[1;31mNameError\u001b[0m                                 Traceback (most recent call last)",
      "\u001b[1;32m<ipython-input-11-03921560c617>\u001b[0m in \u001b[0;36m<module>\u001b[1;34m\u001b[0m\n\u001b[0;32m     11\u001b[0m \u001b[1;33m\u001b[0m\u001b[0m\n\u001b[0;32m     12\u001b[0m \u001b[1;31m# Create a directory to store the text files\u001b[0m\u001b[1;33m\u001b[0m\u001b[1;33m\u001b[0m\u001b[1;33m\u001b[0m\u001b[0m\n\u001b[1;32m---> 13\u001b[1;33m \u001b[0mos\u001b[0m\u001b[1;33m.\u001b[0m\u001b[0mmakedirs\u001b[0m\u001b[1;33m(\u001b[0m\u001b[1;34m\"Avondale_university\"\u001b[0m\u001b[1;33m,\u001b[0m \u001b[0mexist_ok\u001b[0m\u001b[1;33m=\u001b[0m\u001b[1;32mTrue\u001b[0m\u001b[1;33m)\u001b[0m\u001b[1;33m\u001b[0m\u001b[1;33m\u001b[0m\u001b[0m\n\u001b[0m\u001b[0;32m     14\u001b[0m \u001b[1;33m\u001b[0m\u001b[0m\n\u001b[0;32m     15\u001b[0m \u001b[1;31m# Iterate through each row in the DataFrame\u001b[0m\u001b[1;33m\u001b[0m\u001b[1;33m\u001b[0m\u001b[1;33m\u001b[0m\u001b[0m\n",
      "\u001b[1;31mNameError\u001b[0m: name 'os' is not defined"
     ]
    }
   ],
   "source": [
    "from selenium import webdriver\n",
    "from selenium.webdriver.common.by import By\n",
    "from bs4 import BeautifulSoup\n",
    "import time\n",
    "import pandas as pd\n",
    "\n",
    "\n",
    "# Set up the Selenium WebDriver\n",
    "driver = webdriver.Chrome()  # Replace with the correct WebDriver for your browser\n",
    "\n",
    "\n",
    "# Create a directory to store the text files\n",
    "os.makedirs(\"Avondale_university\", exist_ok=True)\n",
    "\n",
    "# Iterate through each row in the DataFrame\n",
    "for index, row in df.iterrows():\n",
    "    degree_name = row['Name']\n",
    "    url = row['Link']\n",
    "\n",
    "    # Open the webpage\n",
    "    driver.get(url)\n",
    "\n",
    "    # Allow the page to load completely\n",
    "    time.sleep(5)  # Adjust this as necessary for loading time\n",
    "\n",
    "    try:\n",
    "        # Use BeautifulSoup to parse the HTML content\n",
    "        \n",
    "\n",
    "        # Find the main content div (you can adjust the tag and class to suit the page)\n",
    "        main_div = driver.find_element(By.TAG_NAME, 'body')\n",
    "\n",
    "        main_div_html = main_div.get_attribute('outerHTML')\n",
    "\n",
    "        soup = BeautifulSoup(main_div_html, 'html.parser')\n",
    "        # Remove any header or footer elements inside the main div (if they exist)\n",
    "        for tag in soup.find_all(['header', 'footer']):\n",
    "            tag.decompose()  # Remove these tags and their content\n",
    "\n",
    "        # Extract the text from the cleaned main div\n",
    "        text_content = soup.get_text(separator='\\n', strip=True)\n",
    "\n",
    "        # Create a valid filename by replacing invalid characters\n",
    "        filename = f\"Avondale_university/{degree_name.replace('/', '_').replace(' ', '_')}.txt\"\n",
    "\n",
    "        # Save the link and text content to the file\n",
    "        with open(filename, \"w\", encoding=\"utf-8\") as file:\n",
    "            # Write the link at the top\n",
    "            file.write(f\"Link: {url}\\n\\n\")\n",
    "            # Write the extracted content below the link\n",
    "            file.write(text_content)\n",
    "\n",
    "    except Exception as e:\n",
    "        print(f\"Error processing {degree_name}: {e}\")\n",
    "\n",
    "# Close the driver\n",
    "driver.quit()\n"
   ]
  },
  {
   "cell_type": "code",
   "execution_count": 12,
   "metadata": {},
   "outputs": [
    {
     "name": "stdout",
     "output_type": "stream",
     "text": [
      "Error processing Bachelor of Nursing: Message: \n",
      "Stacktrace:\n",
      "\tGetHandleVerifier [0x00007FF6FBC438A5+3004357]\n",
      "\t(No symbol) [0x00007FF6FB8D9970]\n",
      "\t(No symbol) [0x00007FF6FB78582A]\n",
      "\t(No symbol) [0x00007FF6FB7D5B8E]\n",
      "\t(No symbol) [0x00007FF6FB7D5E7C]\n",
      "\t(No symbol) [0x00007FF6FB81EC27]\n",
      "\t(No symbol) [0x00007FF6FB7FBC1F]\n",
      "\t(No symbol) [0x00007FF6FB81BA4C]\n",
      "\t(No symbol) [0x00007FF6FB7FB983]\n",
      "\t(No symbol) [0x00007FF6FB7C7628]\n",
      "\t(No symbol) [0x00007FF6FB7C8791]\n",
      "\tGetHandleVerifier [0x00007FF6FBC6A00D+3161901]\n",
      "\tGetHandleVerifier [0x00007FF6FBCBE060+3506048]\n",
      "\tGetHandleVerifier [0x00007FF6FBCB400D+3465005]\n",
      "\tGetHandleVerifier [0x00007FF6FBA30EEB+830987]\n",
      "\t(No symbol) [0x00007FF6FB8E467F]\n",
      "\t(No symbol) [0x00007FF6FB8E09D4]\n",
      "\t(No symbol) [0x00007FF6FB8E0B6D]\n",
      "\t(No symbol) [0x00007FF6FB8D0149]\n",
      "\tBaseThreadInitThunk [0x00007FF926297374+20]\n",
      "\tRtlUserThreadStart [0x00007FF927D9CC91+33]\n",
      "\n",
      "Error processing Graduate Certificate in Nursing: Message: \n",
      "Stacktrace:\n",
      "\tGetHandleVerifier [0x00007FF6FBC438A5+3004357]\n",
      "\t(No symbol) [0x00007FF6FB8D9970]\n",
      "\t(No symbol) [0x00007FF6FB78582A]\n",
      "\t(No symbol) [0x00007FF6FB7D5B8E]\n",
      "\t(No symbol) [0x00007FF6FB7D5E7C]\n",
      "\t(No symbol) [0x00007FF6FB81EC27]\n",
      "\t(No symbol) [0x00007FF6FB7FBC1F]\n",
      "\t(No symbol) [0x00007FF6FB81BA4C]\n",
      "\t(No symbol) [0x00007FF6FB7FB983]\n",
      "\t(No symbol) [0x00007FF6FB7C7628]\n",
      "\t(No symbol) [0x00007FF6FB7C8791]\n",
      "\tGetHandleVerifier [0x00007FF6FBC6A00D+3161901]\n",
      "\tGetHandleVerifier [0x00007FF6FBCBE060+3506048]\n",
      "\tGetHandleVerifier [0x00007FF6FBCB400D+3465005]\n",
      "\tGetHandleVerifier [0x00007FF6FBA30EEB+830987]\n",
      "\t(No symbol) [0x00007FF6FB8E467F]\n",
      "\t(No symbol) [0x00007FF6FB8E09D4]\n",
      "\t(No symbol) [0x00007FF6FB8E0B6D]\n",
      "\t(No symbol) [0x00007FF6FB8D0149]\n",
      "\tBaseThreadInitThunk [0x00007FF926297374+20]\n",
      "\tRtlUserThreadStart [0x00007FF927D9CC91+33]\n",
      "\n",
      "Error processing Master of Nursing: Message: \n",
      "Stacktrace:\n",
      "\tGetHandleVerifier [0x00007FF6FBC438A5+3004357]\n",
      "\t(No symbol) [0x00007FF6FB8D9970]\n",
      "\t(No symbol) [0x00007FF6FB78582A]\n",
      "\t(No symbol) [0x00007FF6FB7D5B8E]\n",
      "\t(No symbol) [0x00007FF6FB7D5E7C]\n",
      "\t(No symbol) [0x00007FF6FB81EC27]\n",
      "\t(No symbol) [0x00007FF6FB7FBC1F]\n",
      "\t(No symbol) [0x00007FF6FB81BA4C]\n",
      "\t(No symbol) [0x00007FF6FB7FB983]\n",
      "\t(No symbol) [0x00007FF6FB7C7628]\n",
      "\t(No symbol) [0x00007FF6FB7C8791]\n",
      "\tGetHandleVerifier [0x00007FF6FBC6A00D+3161901]\n",
      "\tGetHandleVerifier [0x00007FF6FBCBE060+3506048]\n",
      "\tGetHandleVerifier [0x00007FF6FBCB400D+3465005]\n",
      "\tGetHandleVerifier [0x00007FF6FBA30EEB+830987]\n",
      "\t(No symbol) [0x00007FF6FB8E467F]\n",
      "\t(No symbol) [0x00007FF6FB8E09D4]\n",
      "\t(No symbol) [0x00007FF6FB8E0B6D]\n",
      "\t(No symbol) [0x00007FF6FB8D0149]\n",
      "\tBaseThreadInitThunk [0x00007FF926297374+20]\n",
      "\tRtlUserThreadStart [0x00007FF927D9CC91+33]\n",
      "\n",
      "Error processing Undergraduate Certificate in University Preparation: Message: \n",
      "Stacktrace:\n",
      "\tGetHandleVerifier [0x00007FF6FBC438A5+3004357]\n",
      "\t(No symbol) [0x00007FF6FB8D9970]\n",
      "\t(No symbol) [0x00007FF6FB78582A]\n",
      "\t(No symbol) [0x00007FF6FB7D5B8E]\n",
      "\t(No symbol) [0x00007FF6FB7D5E7C]\n",
      "\t(No symbol) [0x00007FF6FB81EC27]\n",
      "\t(No symbol) [0x00007FF6FB7FBC1F]\n",
      "\t(No symbol) [0x00007FF6FB81BA4C]\n",
      "\t(No symbol) [0x00007FF6FB7FB983]\n",
      "\t(No symbol) [0x00007FF6FB7C7628]\n",
      "\t(No symbol) [0x00007FF6FB7C8791]\n",
      "\tGetHandleVerifier [0x00007FF6FBC6A00D+3161901]\n",
      "\tGetHandleVerifier [0x00007FF6FBCBE060+3506048]\n",
      "\tGetHandleVerifier [0x00007FF6FBCB400D+3465005]\n",
      "\tGetHandleVerifier [0x00007FF6FBA30EEB+830987]\n",
      "\t(No symbol) [0x00007FF6FB8E467F]\n",
      "\t(No symbol) [0x00007FF6FB8E09D4]\n",
      "\t(No symbol) [0x00007FF6FB8E0B6D]\n",
      "\t(No symbol) [0x00007FF6FB8D0149]\n",
      "\tBaseThreadInitThunk [0x00007FF926297374+20]\n",
      "\tRtlUserThreadStart [0x00007FF927D9CC91+33]\n",
      "\n",
      "Error processing Undergraduate Certificate in Science: Message: \n",
      "Stacktrace:\n",
      "\tGetHandleVerifier [0x00007FF6FBC438A5+3004357]\n",
      "\t(No symbol) [0x00007FF6FB8D9970]\n",
      "\t(No symbol) [0x00007FF6FB78582A]\n",
      "\t(No symbol) [0x00007FF6FB7D5B8E]\n",
      "\t(No symbol) [0x00007FF6FB7D5E7C]\n",
      "\t(No symbol) [0x00007FF6FB81EC27]\n",
      "\t(No symbol) [0x00007FF6FB7FBC1F]\n",
      "\t(No symbol) [0x00007FF6FB81BA4C]\n",
      "\t(No symbol) [0x00007FF6FB7FB983]\n",
      "\t(No symbol) [0x00007FF6FB7C7628]\n",
      "\t(No symbol) [0x00007FF6FB7C8791]\n",
      "\tGetHandleVerifier [0x00007FF6FBC6A00D+3161901]\n",
      "\tGetHandleVerifier [0x00007FF6FBCBE060+3506048]\n",
      "\tGetHandleVerifier [0x00007FF6FBCB400D+3465005]\n",
      "\tGetHandleVerifier [0x00007FF6FBA30EEB+830987]\n",
      "\t(No symbol) [0x00007FF6FB8E467F]\n",
      "\t(No symbol) [0x00007FF6FB8E09D4]\n",
      "\t(No symbol) [0x00007FF6FB8E0B6D]\n",
      "\t(No symbol) [0x00007FF6FB8D0149]\n",
      "\tBaseThreadInitThunk [0x00007FF926297374+20]\n",
      "\tRtlUserThreadStart [0x00007FF927D9CC91+33]\n",
      "\n",
      "Error processing Bachelor of Arts/Bachelor of Teaching (Primary): Message: no such window: target window already closed\n",
      "from unknown error: web view not found\n",
      "  (Session info: chrome=130.0.6723.117)\n",
      "Stacktrace:\n",
      "\tGetHandleVerifier [0x00007FF6FBC438A5+3004357]\n",
      "\t(No symbol) [0x00007FF6FB8D9970]\n",
      "\t(No symbol) [0x00007FF6FB78582A]\n",
      "\t(No symbol) [0x00007FF6FB75FA75]\n",
      "\t(No symbol) [0x00007FF6FB802C77]\n",
      "\t(No symbol) [0x00007FF6FB81B351]\n",
      "\t(No symbol) [0x00007FF6FB7FB983]\n",
      "\t(No symbol) [0x00007FF6FB7C7628]\n",
      "\t(No symbol) [0x00007FF6FB7C8791]\n",
      "\tGetHandleVerifier [0x00007FF6FBC6A00D+3161901]\n",
      "\tGetHandleVerifier [0x00007FF6FBCBE060+3506048]\n",
      "\tGetHandleVerifier [0x00007FF6FBCB400D+3465005]\n",
      "\tGetHandleVerifier [0x00007FF6FBA30EEB+830987]\n",
      "\t(No symbol) [0x00007FF6FB8E467F]\n",
      "\t(No symbol) [0x00007FF6FB8E09D4]\n",
      "\t(No symbol) [0x00007FF6FB8E0B6D]\n",
      "\t(No symbol) [0x00007FF6FB8D0149]\n",
      "\tBaseThreadInitThunk [0x00007FF926297374+20]\n",
      "\tRtlUserThreadStart [0x00007FF927D9CC91+33]\n",
      "\n"
     ]
    },
    {
     "ename": "NoSuchWindowException",
     "evalue": "Message: no such window: target window already closed\nfrom unknown error: web view not found\n  (Session info: chrome=130.0.6723.117)\nStacktrace:\n\tGetHandleVerifier [0x00007FF6FBC438A5+3004357]\n\t(No symbol) [0x00007FF6FB8D9970]\n\t(No symbol) [0x00007FF6FB78582A]\n\t(No symbol) [0x00007FF6FB75FA75]\n\t(No symbol) [0x00007FF6FB802C77]\n\t(No symbol) [0x00007FF6FB81B351]\n\t(No symbol) [0x00007FF6FB7FB983]\n\t(No symbol) [0x00007FF6FB7C7628]\n\t(No symbol) [0x00007FF6FB7C8791]\n\tGetHandleVerifier [0x00007FF6FBC6A00D+3161901]\n\tGetHandleVerifier [0x00007FF6FBCBE060+3506048]\n\tGetHandleVerifier [0x00007FF6FBCB400D+3465005]\n\tGetHandleVerifier [0x00007FF6FBA30EEB+830987]\n\t(No symbol) [0x00007FF6FB8E467F]\n\t(No symbol) [0x00007FF6FB8E09D4]\n\t(No symbol) [0x00007FF6FB8E0B6D]\n\t(No symbol) [0x00007FF6FB8D0149]\n\tBaseThreadInitThunk [0x00007FF926297374+20]\n\tRtlUserThreadStart [0x00007FF927D9CC91+33]\n",
     "output_type": "error",
     "traceback": [
      "\u001b[1;31m---------------------------------------------------------------------------\u001b[0m",
      "\u001b[1;31mNoSuchWindowException\u001b[0m                     Traceback (most recent call last)",
      "\u001b[1;32m<ipython-input-12-82e15d3bfc9e>\u001b[0m in \u001b[0;36m<module>\u001b[1;34m\u001b[0m\n\u001b[0;32m     19\u001b[0m \u001b[1;33m\u001b[0m\u001b[0m\n\u001b[0;32m     20\u001b[0m     \u001b[1;31m# Open the webpage\u001b[0m\u001b[1;33m\u001b[0m\u001b[1;33m\u001b[0m\u001b[1;33m\u001b[0m\u001b[0m\n\u001b[1;32m---> 21\u001b[1;33m     \u001b[0mdriver\u001b[0m\u001b[1;33m.\u001b[0m\u001b[0mget\u001b[0m\u001b[1;33m(\u001b[0m\u001b[0murl\u001b[0m\u001b[1;33m)\u001b[0m\u001b[1;33m\u001b[0m\u001b[1;33m\u001b[0m\u001b[0m\n\u001b[0m\u001b[0;32m     22\u001b[0m \u001b[1;33m\u001b[0m\u001b[0m\n\u001b[0;32m     23\u001b[0m     \u001b[1;31m# Allow the page to load\u001b[0m\u001b[1;33m\u001b[0m\u001b[1;33m\u001b[0m\u001b[1;33m\u001b[0m\u001b[0m\n",
      "\u001b[1;32m~\\anaconda3\\anaconda\\lib\\site-packages\\selenium\\webdriver\\remote\\webdriver.py\u001b[0m in \u001b[0;36mget\u001b[1;34m(self, url)\u001b[0m\n\u001b[0;32m    361\u001b[0m     \u001b[1;32mdef\u001b[0m \u001b[0mget\u001b[0m\u001b[1;33m(\u001b[0m\u001b[0mself\u001b[0m\u001b[1;33m,\u001b[0m \u001b[0murl\u001b[0m\u001b[1;33m:\u001b[0m \u001b[0mstr\u001b[0m\u001b[1;33m)\u001b[0m \u001b[1;33m->\u001b[0m \u001b[1;32mNone\u001b[0m\u001b[1;33m:\u001b[0m\u001b[1;33m\u001b[0m\u001b[1;33m\u001b[0m\u001b[0m\n\u001b[0;32m    362\u001b[0m         \u001b[1;34m\"\"\"Loads a web page in the current browser session.\"\"\"\u001b[0m\u001b[1;33m\u001b[0m\u001b[1;33m\u001b[0m\u001b[0m\n\u001b[1;32m--> 363\u001b[1;33m         \u001b[0mself\u001b[0m\u001b[1;33m.\u001b[0m\u001b[0mexecute\u001b[0m\u001b[1;33m(\u001b[0m\u001b[0mCommand\u001b[0m\u001b[1;33m.\u001b[0m\u001b[0mGET\u001b[0m\u001b[1;33m,\u001b[0m \u001b[1;33m{\u001b[0m\u001b[1;34m\"url\"\u001b[0m\u001b[1;33m:\u001b[0m \u001b[0murl\u001b[0m\u001b[1;33m}\u001b[0m\u001b[1;33m)\u001b[0m\u001b[1;33m\u001b[0m\u001b[1;33m\u001b[0m\u001b[0m\n\u001b[0m\u001b[0;32m    364\u001b[0m \u001b[1;33m\u001b[0m\u001b[0m\n\u001b[0;32m    365\u001b[0m     \u001b[1;33m@\u001b[0m\u001b[0mproperty\u001b[0m\u001b[1;33m\u001b[0m\u001b[1;33m\u001b[0m\u001b[0m\n",
      "\u001b[1;32m~\\anaconda3\\anaconda\\lib\\site-packages\\selenium\\webdriver\\remote\\webdriver.py\u001b[0m in \u001b[0;36mexecute\u001b[1;34m(self, driver_command, params)\u001b[0m\n\u001b[0;32m    352\u001b[0m         \u001b[0mresponse\u001b[0m \u001b[1;33m=\u001b[0m \u001b[0mself\u001b[0m\u001b[1;33m.\u001b[0m\u001b[0mcommand_executor\u001b[0m\u001b[1;33m.\u001b[0m\u001b[0mexecute\u001b[0m\u001b[1;33m(\u001b[0m\u001b[0mdriver_command\u001b[0m\u001b[1;33m,\u001b[0m \u001b[0mparams\u001b[0m\u001b[1;33m)\u001b[0m\u001b[1;33m\u001b[0m\u001b[1;33m\u001b[0m\u001b[0m\n\u001b[0;32m    353\u001b[0m         \u001b[1;32mif\u001b[0m \u001b[0mresponse\u001b[0m\u001b[1;33m:\u001b[0m\u001b[1;33m\u001b[0m\u001b[1;33m\u001b[0m\u001b[0m\n\u001b[1;32m--> 354\u001b[1;33m             \u001b[0mself\u001b[0m\u001b[1;33m.\u001b[0m\u001b[0merror_handler\u001b[0m\u001b[1;33m.\u001b[0m\u001b[0mcheck_response\u001b[0m\u001b[1;33m(\u001b[0m\u001b[0mresponse\u001b[0m\u001b[1;33m)\u001b[0m\u001b[1;33m\u001b[0m\u001b[1;33m\u001b[0m\u001b[0m\n\u001b[0m\u001b[0;32m    355\u001b[0m             \u001b[0mresponse\u001b[0m\u001b[1;33m[\u001b[0m\u001b[1;34m\"value\"\u001b[0m\u001b[1;33m]\u001b[0m \u001b[1;33m=\u001b[0m \u001b[0mself\u001b[0m\u001b[1;33m.\u001b[0m\u001b[0m_unwrap_value\u001b[0m\u001b[1;33m(\u001b[0m\u001b[0mresponse\u001b[0m\u001b[1;33m.\u001b[0m\u001b[0mget\u001b[0m\u001b[1;33m(\u001b[0m\u001b[1;34m\"value\"\u001b[0m\u001b[1;33m,\u001b[0m \u001b[1;32mNone\u001b[0m\u001b[1;33m)\u001b[0m\u001b[1;33m)\u001b[0m\u001b[1;33m\u001b[0m\u001b[1;33m\u001b[0m\u001b[0m\n\u001b[0;32m    356\u001b[0m             \u001b[1;32mreturn\u001b[0m \u001b[0mresponse\u001b[0m\u001b[1;33m\u001b[0m\u001b[1;33m\u001b[0m\u001b[0m\n",
      "\u001b[1;32m~\\anaconda3\\anaconda\\lib\\site-packages\\selenium\\webdriver\\remote\\errorhandler.py\u001b[0m in \u001b[0;36mcheck_response\u001b[1;34m(self, response)\u001b[0m\n\u001b[0;32m    227\u001b[0m                 \u001b[0malert_text\u001b[0m \u001b[1;33m=\u001b[0m \u001b[0mvalue\u001b[0m\u001b[1;33m[\u001b[0m\u001b[1;34m\"alert\"\u001b[0m\u001b[1;33m]\u001b[0m\u001b[1;33m.\u001b[0m\u001b[0mget\u001b[0m\u001b[1;33m(\u001b[0m\u001b[1;34m\"text\"\u001b[0m\u001b[1;33m)\u001b[0m\u001b[1;33m\u001b[0m\u001b[1;33m\u001b[0m\u001b[0m\n\u001b[0;32m    228\u001b[0m             \u001b[1;32mraise\u001b[0m \u001b[0mexception_class\u001b[0m\u001b[1;33m(\u001b[0m\u001b[0mmessage\u001b[0m\u001b[1;33m,\u001b[0m \u001b[0mscreen\u001b[0m\u001b[1;33m,\u001b[0m \u001b[0mstacktrace\u001b[0m\u001b[1;33m,\u001b[0m \u001b[0malert_text\u001b[0m\u001b[1;33m)\u001b[0m  \u001b[1;31m# type: ignore[call-arg]  # mypy is not smart enough here\u001b[0m\u001b[1;33m\u001b[0m\u001b[1;33m\u001b[0m\u001b[0m\n\u001b[1;32m--> 229\u001b[1;33m         \u001b[1;32mraise\u001b[0m \u001b[0mexception_class\u001b[0m\u001b[1;33m(\u001b[0m\u001b[0mmessage\u001b[0m\u001b[1;33m,\u001b[0m \u001b[0mscreen\u001b[0m\u001b[1;33m,\u001b[0m \u001b[0mstacktrace\u001b[0m\u001b[1;33m)\u001b[0m\u001b[1;33m\u001b[0m\u001b[1;33m\u001b[0m\u001b[0m\n\u001b[0m",
      "\u001b[1;31mNoSuchWindowException\u001b[0m: Message: no such window: target window already closed\nfrom unknown error: web view not found\n  (Session info: chrome=130.0.6723.117)\nStacktrace:\n\tGetHandleVerifier [0x00007FF6FBC438A5+3004357]\n\t(No symbol) [0x00007FF6FB8D9970]\n\t(No symbol) [0x00007FF6FB78582A]\n\t(No symbol) [0x00007FF6FB75FA75]\n\t(No symbol) [0x00007FF6FB802C77]\n\t(No symbol) [0x00007FF6FB81B351]\n\t(No symbol) [0x00007FF6FB7FB983]\n\t(No symbol) [0x00007FF6FB7C7628]\n\t(No symbol) [0x00007FF6FB7C8791]\n\tGetHandleVerifier [0x00007FF6FBC6A00D+3161901]\n\tGetHandleVerifier [0x00007FF6FBCBE060+3506048]\n\tGetHandleVerifier [0x00007FF6FBCB400D+3465005]\n\tGetHandleVerifier [0x00007FF6FBA30EEB+830987]\n\t(No symbol) [0x00007FF6FB8E467F]\n\t(No symbol) [0x00007FF6FB8E09D4]\n\t(No symbol) [0x00007FF6FB8E0B6D]\n\t(No symbol) [0x00007FF6FB8D0149]\n\tBaseThreadInitThunk [0x00007FF926297374+20]\n\tRtlUserThreadStart [0x00007FF927D9CC91+33]\n"
     ]
    }
   ],
   "source": [
    "from selenium import webdriver\n",
    "from selenium.webdriver.common.by import By\n",
    "from selenium.webdriver.support.ui import WebDriverWait\n",
    "from selenium.webdriver.support import expected_conditions as EC\n",
    "import time\n",
    "import os\n",
    "import pandas as pd\n",
    "\n",
    "# Set up the Selenium WebDriver\n",
    "driver = webdriver.Chrome()  # Replace with the correct WebDriver for your browser\n",
    "\n",
    "# Create a directory to store the text files\n",
    "os.makedirs(\"Avondale_university\", exist_ok=True)\n",
    "\n",
    "# Iterate through each row in the DataFrame\n",
    "for index, row in df.iterrows():\n",
    "    degree_name = row['Name']\n",
    "    url = row['Link']\n",
    "\n",
    "    # Open the webpage\n",
    "    driver.get(url)\n",
    "\n",
    "    # Allow the page to load\n",
    "    time.sleep(5)  # Adjust as needed for page loading time\n",
    "\n",
    "    try:\n",
    "        # Attempt to find and click on the CAPTCHA checkbox\n",
    "        captcha_checkbox = WebDriverWait(driver, 10).until(\n",
    "            EC.element_to_be_clickable((By.XPATH, '//div[@class=\"recaptcha-checkbox-border\"]'))  # Adjust this XPath based on the site's structure\n",
    "        )\n",
    "        captcha_checkbox.click()\n",
    "        print(\"CAPTCHA checkbox clicked\")\n",
    "\n",
    "        # Add a small wait to allow CAPTCHA verification to complete\n",
    "        time.sleep(5)\n",
    "\n",
    "        # Proceed with your data extraction after CAPTCHA is handled\n",
    "        main_div = driver.find_element(By.TAG_NAME, 'body')\n",
    "        main_div_html = main_div.get_attribute('outerHTML')\n",
    "        soup = BeautifulSoup(main_div_html, 'html.parser')\n",
    "\n",
    "        # Remove any header or footer elements inside the main div (if they exist)\n",
    "        for tag in soup.find_all(['header', 'footer']):\n",
    "            tag.decompose()\n",
    "\n",
    "        # Extract the text from the cleaned main div\n",
    "        text_content = soup.get_text(separator='\\n', strip=True)\n",
    "\n",
    "        # Create a valid filename by replacing invalid characters\n",
    "        filename = f\"Avondale_university/{degree_name.replace('/', '_').replace(' ', '_')}.txt\"\n",
    "\n",
    "        # Save the link and text content to the file\n",
    "        with open(filename, \"w\", encoding=\"utf-8\") as file:\n",
    "            file.write(f\"Link: {url}\\n\\n\")\n",
    "            file.write(text_content)\n",
    "\n",
    "    except Exception as e:\n",
    "        print(f\"Error processing {degree_name}: {e}\")\n",
    "\n",
    "# Close the driver\n",
    "driver.quit()\n"
   ]
  },
  {
   "cell_type": "code",
   "execution_count": 69,
   "metadata": {},
   "outputs": [],
   "source": [
    "df=df.iloc[30:]"
   ]
  },
  {
   "cell_type": "code",
   "execution_count": null,
   "metadata": {},
   "outputs": [],
   "source": []
  }
 ],
 "metadata": {
  "kernelspec": {
   "display_name": "Python 3",
   "language": "python",
   "name": "python3"
  },
  "language_info": {
   "codemirror_mode": {
    "name": "ipython",
    "version": 3
   },
   "file_extension": ".py",
   "mimetype": "text/x-python",
   "name": "python",
   "nbconvert_exporter": "python",
   "pygments_lexer": "ipython3",
   "version": "3.8.5"
  }
 },
 "nbformat": 4,
 "nbformat_minor": 4
}
