{
 "cells": [
  {
   "cell_type": "code",
   "execution_count": 1,
   "metadata": {},
   "outputs": [],
   "source": [
    "import pandas as pd"
   ]
  },
  {
   "cell_type": "code",
   "execution_count": 2,
   "metadata": {},
   "outputs": [],
   "source": [
    "df= pd.read_csv(\"degrees_links.csv\")"
   ]
  },
  {
   "cell_type": "code",
   "execution_count": 4,
   "metadata": {},
   "outputs": [
    {
     "data": {
      "text/plain": [
       "Degree Name    298\n",
       "Link           299\n",
       "dtype: int64"
      ]
     },
     "execution_count": 4,
     "metadata": {},
     "output_type": "execute_result"
    }
   ],
   "source": [
    "df.nunique()"
   ]
  },
  {
   "cell_type": "code",
   "execution_count": 57,
   "metadata": {},
   "outputs": [
    {
     "ename": "FileNotFoundError",
     "evalue": "[Errno 2] No such file or directory: 'certificate_in_arts_body.txt'",
     "output_type": "error",
     "traceback": [
      "\u001b[1;31m---------------------------------------------------------------------------\u001b[0m",
      "\u001b[1;31mFileNotFoundError\u001b[0m                         Traceback (most recent call last)",
      "\u001b[1;32m<ipython-input-57-2e7ebfa07a79>\u001b[0m in \u001b[0;36m<module>\u001b[1;34m\u001b[0m\n\u001b[0;32m      1\u001b[0m \u001b[1;31m# Open and read the text file\u001b[0m\u001b[1;33m\u001b[0m\u001b[1;33m\u001b[0m\u001b[1;33m\u001b[0m\u001b[0m\n\u001b[1;32m----> 2\u001b[1;33m \u001b[1;32mwith\u001b[0m \u001b[0mopen\u001b[0m\u001b[1;33m(\u001b[0m\u001b[1;34m'certificate_in_arts_body.txt'\u001b[0m\u001b[1;33m,\u001b[0m \u001b[1;34m'r'\u001b[0m\u001b[1;33m,\u001b[0m \u001b[0mencoding\u001b[0m\u001b[1;33m=\u001b[0m\u001b[1;34m'utf-8'\u001b[0m\u001b[1;33m)\u001b[0m \u001b[1;32mas\u001b[0m \u001b[0mfile\u001b[0m\u001b[1;33m:\u001b[0m\u001b[1;33m\u001b[0m\u001b[1;33m\u001b[0m\u001b[0m\n\u001b[0m\u001b[0;32m      3\u001b[0m     \u001b[1;31m# Store the entire content in a variable\u001b[0m\u001b[1;33m\u001b[0m\u001b[1;33m\u001b[0m\u001b[1;33m\u001b[0m\u001b[0m\n\u001b[0;32m      4\u001b[0m     \u001b[0mfile_content\u001b[0m \u001b[1;33m=\u001b[0m \u001b[0mfile\u001b[0m\u001b[1;33m.\u001b[0m\u001b[0mread\u001b[0m\u001b[1;33m(\u001b[0m\u001b[1;33m)\u001b[0m\u001b[1;33m\u001b[0m\u001b[1;33m\u001b[0m\u001b[0m\n\u001b[0;32m      5\u001b[0m \u001b[1;33m\u001b[0m\u001b[0m\n",
      "\u001b[1;31mFileNotFoundError\u001b[0m: [Errno 2] No such file or directory: 'certificate_in_arts_body.txt'"
     ]
    }
   ],
   "source": [
    "\n",
    "# Open and read the text file\n",
    "with open('certificate_in_arts_body.txt', 'r', encoding='utf-8') as file:\n",
    "    # Store the entire content in a variable\n",
    "    file_content = file.read()\n",
    "\n",
    "# Search for the phrase \"200 and 300-level\" in the content\n",
    "search_phrase = \" 5.0 in other bands, \"\n",
    "\n",
    "# Check if the phrase exists in the file content\n",
    "if search_phrase in file_content:\n",
    "    print(f\"The phrase '{search_phrase}' was found in the file.\")\n",
    "else:\n",
    "    print(f\"The phrase '{search_phrase}' was NOT found in the file.\")\n",
    "\n"
   ]
  },
  {
   "cell_type": "markdown",
   "metadata": {},
   "source": [
    "# Extracted link"
   ]
  },
  {
   "cell_type": "code",
   "execution_count": null,
   "metadata": {},
   "outputs": [],
   "source": []
  },
  {
   "cell_type": "code",
   "execution_count": 43,
   "metadata": {},
   "outputs": [],
   "source": [
    "a=[1]\n",
    "b=0\n",
    "c=[]\n",
    "c.append(a)"
   ]
  },
  {
   "cell_type": "code",
   "execution_count": 54,
   "metadata": {},
   "outputs": [
    {
     "name": "stdout",
     "output_type": "stream",
     "text": [
      "Data successfully saved to all_degree_links.csv\n"
     ]
    }
   ],
   "source": [
    "import requests\n",
    "from bs4 import BeautifulSoup\n",
    "import csv\n",
    "\n",
    "# Base URL of the website with placeholders for pagination\n",
    "base_url = \"https://www.aut.ac.nz/s/search.html?collection=aut-ac-nz-meta-dev&f.Tabs%7CT=Course&form=simple&query=&sitetheme=&start_rank={}&tab=Course\"\n",
    "\n",
    "# CSV file to save the data\n",
    "csv_file = \"all_degree_links.csv\"\n",
    "\n",
    "# Open the CSV file for writing\n",
    "with open(csv_file, mode='w', newline='', encoding='utf-8') as file:\n",
    "    writer = csv.writer(file)\n",
    "    # Write the header row\n",
    "    writer.writerow([\"Degree Name\", \"Link\"])\n",
    "\n",
    "    # Loop through pages (start_rank from 1 to 241, with a step of 10)\n",
    "    for start_rank in range(1, 320, 10):\n",
    "        # Format the URL with the current start_rank\n",
    "        url = base_url.format(start_rank)\n",
    "\n",
    "        # Send a GET request to the webpage\n",
    "        response = requests.get(url)\n",
    "\n",
    "        # Parse the HTML content with BeautifulSoup\n",
    "        soup = BeautifulSoup(response.text, 'html.parser')\n",
    "\n",
    "        # Find all course items (li elements with class 'courseItem')\n",
    "        courses = soup.find_all('li', class_='courseItem')\n",
    "        b+=1\n",
    "        # Extract the degree name and URL for each course\n",
    "        \n",
    "        for course in courses:\n",
    "            degree_name = course.find('h3').get_text(strip=True)  # Get the degree name\n",
    "            link = course.find('a')['href']  # Get the link\n",
    "            full_link = f\"https://www.aut.ac.nz{link}\"  # Complete the URL\n",
    "            a.append(1)\n",
    "            \n",
    "\n",
    "            # Write the data to the CSV file\n",
    "            writer.writerow([degree_name, full_link])\n",
    "\n",
    "#             # Print each entry (for reference)\n",
    "#             print(f\"Degree Name: {degree_name}\")\n",
    "#             print(f\"Link: {full_link}\")\n",
    "#             print()\n",
    "        c.append(a)\n",
    "\n",
    "print(f\"Data successfully saved to {csv_file}\")\n"
   ]
  },
  {
   "cell_type": "code",
   "execution_count": 56,
   "metadata": {},
   "outputs": [
    {
     "data": {
      "text/plain": [
       "Degree Name    298\n",
       "Link           299\n",
       "dtype: int64"
      ]
     },
     "execution_count": 56,
     "metadata": {},
     "output_type": "execute_result"
    }
   ],
   "source": [
    "import pandas as pd\n",
    "df =pd.read_csv('all_degree_links.csv')\n",
    "df.count()\n",
    "df.nunique()"
   ]
  },
  {
   "cell_type": "markdown",
   "metadata": {},
   "source": [
    "# Single code extraion"
   ]
  },
  {
   "cell_type": "code",
   "execution_count": 58,
   "metadata": {},
   "outputs": [
    {
     "name": "stdout",
     "output_type": "stream",
     "text": [
      "Text saved and printed line by line successfully.\n"
     ]
    }
   ],
   "source": [
    "import requests\n",
    "from bs4 import BeautifulSoup\n",
    "import re\n",
    "\n",
    "# URL to scrape\n",
    "url = \"https://www.aut.ac.nz/courses/certificate-in-arts\"\n",
    "\n",
    "# Send a GET request to the URL\n",
    "response = requests.get(url)\n",
    "\n",
    "# Parse the HTML content using BeautifulSoup\n",
    "soup = BeautifulSoup(response.text, 'html.parser')\n",
    "\n",
    "# Find the div with id=\"body\"\n",
    "body_div = soup.find('div', id='body')\n",
    "\n",
    "# Extract the text from the div and clean it up using regex\n",
    "if body_div:\n",
    "    text = body_div.get_text(separator='\\n', strip=True)\n",
    "    \n",
    "    # Ensure each sentence or section ends up on a new line\n",
    "    # This regex replaces multiple spaces with single space\n",
    "    cleaned_text = re.sub(r'\\s+', ' ', text)\n",
    "    \n",
    "    # Now split by actual line breaks to preserve the structure\n",
    "    lines = cleaned_text.split('. ')  # You can split by period if you want lines based on sentences\n",
    "    \n",
    "    # Write line by line into the file\n",
    "    with open('certificate_in_arts_body.txt', 'w', encoding='utf-8') as file:\n",
    "        for line in lines:\n",
    "            file.write(line.strip() + '\\n')  # Ensures each line is written separately with a newline\n",
    "            #print(line.strip())  # Prints line by line\n",
    "    \n",
    "    print(\"Text saved and printed line by line successfully.\")\n",
    "else:\n",
    "    print(\"Div with id='body' not found.\")\n"
   ]
  },
  {
   "cell_type": "code",
   "execution_count": 61,
   "metadata": {},
   "outputs": [
    {
     "data": {
      "text/html": [
       "<div>\n",
       "<style scoped>\n",
       "    .dataframe tbody tr th:only-of-type {\n",
       "        vertical-align: middle;\n",
       "    }\n",
       "\n",
       "    .dataframe tbody tr th {\n",
       "        vertical-align: top;\n",
       "    }\n",
       "\n",
       "    .dataframe thead th {\n",
       "        text-align: right;\n",
       "    }\n",
       "</style>\n",
       "<table border=\"1\" class=\"dataframe\">\n",
       "  <thead>\n",
       "    <tr style=\"text-align: right;\">\n",
       "      <th></th>\n",
       "      <th>Degree Name</th>\n",
       "      <th>Link</th>\n",
       "    </tr>\n",
       "  </thead>\n",
       "  <tbody>\n",
       "    <tr>\n",
       "      <th>0</th>\n",
       "      <td>Certificate in Arts</td>\n",
       "      <td>https://www.aut.ac.nz/s/redirect?collection=au...</td>\n",
       "    </tr>\n",
       "    <tr>\n",
       "      <th>1</th>\n",
       "      <td>Bachelor of Business and Bachelor of Health Sc...</td>\n",
       "      <td>https://www.aut.ac.nz/s/redirect?collection=au...</td>\n",
       "    </tr>\n",
       "  </tbody>\n",
       "</table>\n",
       "</div>"
      ],
      "text/plain": [
       "                                         Degree Name  \\\n",
       "0                                Certificate in Arts   \n",
       "1  Bachelor of Business and Bachelor of Health Sc...   \n",
       "\n",
       "                                                Link  \n",
       "0  https://www.aut.ac.nz/s/redirect?collection=au...  \n",
       "1  https://www.aut.ac.nz/s/redirect?collection=au...  "
      ]
     },
     "execution_count": 61,
     "metadata": {},
     "output_type": "execute_result"
    }
   ],
   "source": [
    "import pandas as pd\n",
    "df=pd.read_csv('all_degree_links.csv')\n",
    "df.nunique()\n",
    "df.head(2)"
   ]
  },
  {
   "cell_type": "markdown",
   "metadata": {},
   "source": [
    "# extract all file data"
   ]
  },
  {
   "cell_type": "code",
   "execution_count": 62,
   "metadata": {},
   "outputs": [
    {
     "name": "stdout",
     "output_type": "stream",
     "text": [
      "Content from https://www.aut.ac.nz/s/redirect?collection=aut-ac-nz-meta-dev&url=https%3A%2F%2Fwww.aut.ac.nz%2Fcourses%2Fcertificate-in-arts&auth=DbChqZDyMzIXOOPYgvzu7Q&profile=_default&rank=4&query=%7CT%3A%22%24%2B%2B+Course+%24%2B%2B%22 saved successfully in Certificate_in_Arts.txt.\n",
      "Content from https://www.aut.ac.nz/s/redirect?collection=aut-ac-nz-meta-dev&url=https%3A%2F%2Fwww.aut.ac.nz%2Fcourses%2Fbachelor-of-business-and-bachelor-of-health-science-psychology-conjoint&auth=BfGq3WMMadbAWSh8LBUJvw&profile=_default&rank=6&query=%7CT%3A%22%24%2B%2B+Course+%24%2B%2B%22 saved successfully in Bachelor_of_Business_and_Bachelor_of_Health_Science_in_Psychology….txt.\n",
      "Content from https://www.aut.ac.nz/s/redirect?collection=aut-ac-nz-meta-dev&url=https%3A%2F%2Fwww.aut.ac.nz%2Fstudy%2Fstudy-options%2Fhospitality-tourism-and-events%2Fcourses%2Fpostgraduate-certificate-in-gastronomy&auth=AwM2RkwXRzqbAvJ8xLf1qA&profile=_default&rank=7&query=%7CT%3A%22%24%2B%2B+Course+%24%2B%2B%22 saved successfully in Postgraduate_Certificate_in_Gastronomy.txt.\n",
      "Content from https://www.aut.ac.nz/s/redirect?collection=aut-ac-nz-meta-dev&url=https%3A%2F%2Fwww.aut.ac.nz%2Fcourses%2Fbachelor-of-business-and-bachelor-of-computer-and-information-sciences-conjoint&auth=nXiS9G6onbty75zlnXOLpw&profile=_default&rank=9&query=%7CT%3A%22%24%2B%2B+Course+%24%2B%2B%22 saved successfully in Bachelor_of_Business_and_Bachelor_of_Computer_and_Information….txt.\n",
      "Content from https://www.aut.ac.nz/s/redirect?collection=aut-ac-nz-meta-dev&url=https%3A%2F%2Fwww.aut.ac.nz%2Fcourses%2Fbachelor-of-arts-and-bachelor-of-business-conjoint&auth=3xNb9r2GQAkC9OA1eROTqg&profile=_default&rank=10&query=%7CT%3A%22%24%2B%2B+Course+%24%2B%2B%22 saved successfully in Bachelor_of_Arts_and_Bachelor_of_Business_Conjoint_Programmes.txt.\n",
      "Content from https://www.aut.ac.nz/s/redirect?collection=aut-ac-nz-meta-dev&url=https%3A%2F%2Fwww.aut.ac.nz%2Fstudy%2Fstudy-options%2Fscience%2Fcourses%2Fcertificate-in-applied-science&auth=ERXhwTz%2FFEZUukPZvILAMQ&profile=_default&rank=11&query=%7CT%3A%22%24%2B%2B+Course+%24%2B%2B%22 saved successfully in Certificate_in_Applied_Science.txt.\n",
      "Content from https://www.aut.ac.nz/s/redirect?collection=aut-ac-nz-meta-dev&url=https%3A%2F%2Fwww.aut.ac.nz%2Fcourses%2Fbachelor-of-design-te-tohu-paetahi-mo-te-hoahoa&auth=LcA9xAN4uDbWaQe7mMM1sw&profile=_default&rank=12&query=%7CT%3A%22%24%2B%2B+Course+%24%2B%2B%22 saved successfully in Bachelor_of_Design_Te_Tohu_Paetahi_mō_te_Hoahoa.txt.\n",
      "Content from https://www.aut.ac.nz/s/redirect?collection=aut-ac-nz-meta-dev&url=https%3A%2F%2Fwww.aut.ac.nz%2Fstudy%2Fstudy-options%2Feducation%2Fcourses%2Fpostgraduate-diploma-in-education%2Feducational-leadership-specialisation-postgraduate-diploma-in-education&auth=l6G4Jjk%2BXXfTGdSBouvT4Q&profile=_default&rank=13&query=%7CT%3A%22%24%2B%2B+Course+%24%2B%2B%22 saved successfully in Educational_Leadership_specialisation_-_Postgraduate_Diploma_in….txt.\n",
      "Content from https://www.aut.ac.nz/s/redirect?collection=aut-ac-nz-meta-dev&url=https%3A%2F%2Fwww.aut.ac.nz%2Fcourses%2Fbachelor-of-business-and-bachelor-of-international-hospitality-management-conjoint&auth=oyZAL0uEZ6iG3ydoKrDoHQ&profile=_default&rank=14&query=%7CT%3A%22%24%2B%2B+Course+%24%2B%2B%22 saved successfully in Bachelor_of_Business_and_Bachelor_of_International_Hospitality….txt.\n",
      "Content from https://www.aut.ac.nz/s/redirect?collection=aut-ac-nz-meta-dev&url=https%3A%2F%2Fwww.aut.ac.nz%2Fcourses%2Fpostgraduate-certificate-in-arts&auth=oHNOHymJZ5d%2BWiWW6%2Bbexg&profile=_default&rank=15&query=%7CT%3A%22%24%2B%2B+Course+%24%2B%2B%22 saved successfully in Postgraduate_Certificate_in_Arts.txt.\n",
      "Content from https://www.aut.ac.nz/s/redirect?collection=aut-ac-nz-meta-dev&url=https%3A%2F%2Fwww.aut.ac.nz%2Fstudy%2Fstudy-options%2Fbusiness%2Fcourses%2Fmaster-of-marketing&auth=YDLE9SGYQraUPIqZtlAWbQ&profile=_default&rank=16&query=%7CT%3A%22%24%2B%2B+Course+%24%2B%2B%22 saved successfully in Master_of_Marketing.txt.\n",
      "Content from https://www.aut.ac.nz/s/redirect?collection=aut-ac-nz-meta-dev&url=https%3A%2F%2Fwww.aut.ac.nz%2Fstudy%2Fstudy-options%2Fscience%2Fcourses%2Fpostgraduate-certificate-in-medical-laboratory-science&auth=Zgg1wlszkHFfH9%2BX6SY6FA&profile=_default&rank=17&query=%7CT%3A%22%24%2B%2B+Course+%24%2B%2B%22 saved successfully in Postgraduate_Certificate_in_Medical_Laboratory_Science.txt.\n",
      "Content from https://www.aut.ac.nz/s/redirect?collection=aut-ac-nz-meta-dev&url=https%3A%2F%2Fwww.aut.ac.nz%2Fstudy%2Fstudy-options%2Fhospitality-tourism-and-events%2Fcourses%2Fpostgraduate-diploma-in-gastronomy&auth=gLv5hY4bVLFKun8YSGmnOA&profile=_default&rank=18&query=%7CT%3A%22%24%2B%2B+Course+%24%2B%2B%22 saved successfully in Postgraduate_Diploma_in_Gastronomy.txt.\n",
      "Content from https://www.aut.ac.nz/s/redirect?collection=aut-ac-nz-meta-dev&url=https%3A%2F%2Fwww.aut.ac.nz%2Fcourses%2Fbachelor-of-arts-and-bachelor-of-computer-and-information-sciences-conjoint&auth=YOduWCyXwtWzJqJapHLKuA&profile=_default&rank=19&query=%7CT%3A%22%24%2B%2B+Course+%24%2B%2B%22 saved successfully in Bachelor_of_Arts_and_Bachelor_of_Computer_and_Information_Sciences….txt.\n",
      "Content from https://www.aut.ac.nz/s/redirect?collection=aut-ac-nz-meta-dev&url=https%3A%2F%2Fwww.aut.ac.nz%2Fcourses%2Fpostgraduate-certificate-in-science&auth=pDVfqFV%2B0RWg%2FUEPzlRGuA&profile=_default&rank=20&query=%7CT%3A%22%24%2B%2B+Course+%24%2B%2B%22 saved successfully in Postgraduate_Certificate_in_Science.txt.\n",
      "Content from https://www.aut.ac.nz/s/redirect?collection=aut-ac-nz-meta-dev&url=https%3A%2F%2Fwww.aut.ac.nz%2Fcourses%2Fcertificate-in-science-and-technology&auth=iy%2BJ1fQMYi0icLBNd1mzKw&profile=_default&rank=21&query=%7CT%3A%22%24%2B%2B+Course+%24%2B%2B%22 saved successfully in Certificate_in_Science_and_Technology.txt.\n",
      "Content from https://www.aut.ac.nz/s/redirect?collection=aut-ac-nz-meta-dev&url=https%3A%2F%2Fwww.aut.ac.nz%2Fstudy%2Fstudy-options%2Fhealth-sciences%2Fcourses%2Fmaster-of-health-practice%2Fmidwifery&auth=nv%2B76oyoUQ%2FDrEo%2BrZtC%2Bw&profile=_default&rank=22&query=%7CT%3A%22%24%2B%2B+Course+%24%2B%2B%22 saved successfully in Midwifery_-_Master_of_Health_Practice.txt.\n",
      "Content from https://www.aut.ac.nz/s/redirect?collection=aut-ac-nz-meta-dev&url=https%3A%2F%2Fwww.aut.ac.nz%2Fstudy%2Fstudy-options%2Fhealth-sciences%2Fcourses%2Fpostgraduate-certificate-in-health-science%2Fviolence-and-trauma-studies&auth=79n50wi4gxANGQHy0TiA2Q&profile=_default&rank=23&query=%7CT%3A%22%24%2B%2B+Course+%24%2B%2B%22 saved successfully in Violence_and_Trauma_Studies_-_Postgraduate_Certificate_in_Health….txt.\n",
      "Content from https://www.aut.ac.nz/s/redirect?collection=aut-ac-nz-meta-dev&url=https%3A%2F%2Fwww.aut.ac.nz%2Fstudy%2Fstudy-options%2Fart-and-design%2Fcourses%2Fdiploma-in-visual-arts-titohu-mo-te-toi-ataata&auth=vQd3ZDtFOF7JFFos2n0Vjg&profile=_default&rank=24&query=%7CT%3A%22%24%2B%2B+Course+%24%2B%2B%22 saved successfully in Diploma_in_Visual_Arts_Tītohu_mō_te_Toi_Ataata.txt.\n",
      "Content from https://www.aut.ac.nz/s/redirect?collection=aut-ac-nz-meta-dev&url=https%3A%2F%2Fwww.aut.ac.nz%2Fstudy%2Fstudy-options%2Fhospitality-tourism-and-events%2Fcourses%2Fdiploma-in-patisserie&auth=erZj8U19fPwHCUu0zRBNgw&profile=_default&rank=25&query=%7CT%3A%22%24%2B%2B+Course+%24%2B%2B%22 saved successfully in Diploma_in_Pâtisserie.txt.\n",
      "Content from https://www.aut.ac.nz/s/redirect?collection=aut-ac-nz-meta-dev&url=https%3A%2F%2Fwww.aut.ac.nz%2Fstudy%2Fstudy-options%2Fhealth-sciences%2Fcourses%2Fmaster-of-health-practice%2Fmental-health-and-addictions&auth=UzKrjIN%2BKH6GvULerea2%2FA&profile=_default&rank=27&query=%7CT%3A%22%24%2B%2B+Course+%24%2B%2B%22 saved successfully in Mental_Health_and_Addictions_Course_-_Master_of_Health_Practice.txt.\n",
      "Content from https://www.aut.ac.nz/s/redirect?collection=aut-ac-nz-meta-dev&url=https%3A%2F%2Fwww.aut.ac.nz%2Fcourses%2Fbachelor-of-engineering-honours%2Fmaritime-majors&auth=0u3VXeaFIZjjgX0hkc%2F9RQ&profile=_default&rank=28&query=%7CT%3A%22%24%2B%2B+Course+%24%2B%2B%22 saved successfully in Maritime_Engineering_Majors_-_Bachelor_of_Engineering_(Honours).txt.\n",
      "Content from https://www.aut.ac.nz/s/redirect?collection=aut-ac-nz-meta-dev&url=https%3A%2F%2Fwww.aut.ac.nz%2Fstudy%2Fstudy-options%2Fhealth-sciences%2Fcourses%2Fbachelor-of-health-science-in-physiotherapy&auth=qm%2FF%2FL%2FyyyQ0u81wfXpPzg&profile=_default&rank=29&query=%7CT%3A%22%24%2B%2B+Course+%24%2B%2B%22 saved successfully in Bachelor_of_Health_Science_(Physiotherapy).txt.\n"
     ]
    },
    {
     "name": "stdout",
     "output_type": "stream",
     "text": [
      "Content from https://www.aut.ac.nz/s/redirect?collection=aut-ac-nz-meta-dev&url=https%3A%2F%2Fwww.aut.ac.nz%2Fstudy%2Fstudy-options%2Fbusiness%2Fcourses%2Fmaster-of-applied-finance&auth=g8PacaUzGsGv5GkTuRs5oQ&profile=_default&rank=30&query=%7CT%3A%22%24%2B%2B+Course+%24%2B%2B%22 saved successfully in Master_of_Applied_Finance.txt.\n",
      "Content from https://www.aut.ac.nz/s/redirect?collection=aut-ac-nz-meta-dev&url=https%3A%2F%2Fwww.aut.ac.nz%2Fcourses%2Fgraduate-certificate-in-arts&auth=%2BG%2BSIxnOaDbyTsVKtu9qkA&profile=_default&rank=31&query=%7CT%3A%22%24%2B%2B+Course+%24%2B%2B%22 saved successfully in Graduate_Certificate_in_Arts.txt.\n",
      "Content from https://www.aut.ac.nz/s/redirect?collection=aut-ac-nz-meta-dev&url=https%3A%2F%2Fwww.aut.ac.nz%2Fcourses%2Fbachelor-of-design-te-tohu-paetahi-mo-te-hoahoa%2Finteraction-design-major-bachelor-of-design&auth=hn6ED9FCfz%2Fl9LZaeskU1A&profile=_default&rank=32&query=%7CT%3A%22%24%2B%2B+Course+%24%2B%2B%22 saved successfully in Study_Interaction_Design_-_Bachelor_of_Design_Te_Tohu_Paetahi_mō_te….txt.\n",
      "Content from https://www.aut.ac.nz/s/redirect?collection=aut-ac-nz-meta-dev&url=https%3A%2F%2Fwww.aut.ac.nz%2Fstudy%2Fstudy-options%2Fhealth-sciences%2Fcourses%2Fbachelor-of-health-science-in-oral-health&auth=56%2F6prjZjwo4%2FdJPMFVqTA&profile=_default&rank=33&query=%7CT%3A%22%24%2B%2B+Course+%24%2B%2B%22 saved successfully in Bachelor_of_Health_Science_(Oral_Health).txt.\n",
      "Content from https://www.aut.ac.nz/s/redirect?collection=aut-ac-nz-meta-dev&url=https%3A%2F%2Fwww.aut.ac.nz%2Fcourses%2Fgraduate-diploma-in-arts&auth=uo86qKxzfj21AwwPlovp4w&profile=_default&rank=34&query=%7CT%3A%22%24%2B%2B+Course+%24%2B%2B%22 saved successfully in Graduate_Diploma_in_Arts.txt.\n",
      "Content from https://www.aut.ac.nz/s/redirect?collection=aut-ac-nz-meta-dev&url=https%3A%2F%2Fwww.aut.ac.nz%2Fstudy%2Fstudy-options%2Fhealth-sciences%2Fcourses%2Fbachelor-of-health-science-in-occupational-therapy&auth=mv%2FzX7xrDczPwlq%2BAikiyg&profile=_default&rank=35&query=%7CT%3A%22%24%2B%2B+Course+%24%2B%2B%22 saved successfully in Bachelor_of_Health_Science_(Occupational_Therapy).txt.\n",
      "Content from https://www.aut.ac.nz/s/redirect?collection=aut-ac-nz-meta-dev&url=https%3A%2F%2Fwww.aut.ac.nz%2Fstudy%2Fstudy-options%2Fscience%2Fcourses%2Fpostgraduate-diploma-in-medical-laboratory-science&auth=LRVmo5p5fraqsHULmt6Lpg&profile=_default&rank=36&query=%7CT%3A%22%24%2B%2B+Course+%24%2B%2B%22 saved successfully in Postgraduate_Diploma_in_Medical_Laboratory_Science.txt.\n",
      "Content from https://www.aut.ac.nz/s/redirect?collection=aut-ac-nz-meta-dev&url=https%3A%2F%2Fwww.aut.ac.nz%2Fstudy%2Fstudy-options%2Fengineering-computer-and-mathematical-sciences%2Fcourses%2Fmaster-of-engineering-project-management&auth=6Up9KAT4dlv%2BtJrBMo32Ww&profile=_default&rank=37&query=%7CT%3A%22%24%2B%2B+Course+%24%2B%2B%22 saved successfully in Master_of_Engineering_Project_Management.txt.\n",
      "Content from https://www.aut.ac.nz/s/redirect?collection=aut-ac-nz-meta-dev&url=https%3A%2F%2Fwww.aut.ac.nz%2Fstudy%2Fstudy-options%2Fhealth-sciences%2Fcourses%2Fpostgraduate-certificate-in-advanced-nursing-practice&auth=p7d4uySfU5Wh3vOMR4jOmA&profile=_default&rank=38&query=%7CT%3A%22%24%2B%2B+Course+%24%2B%2B%22 saved successfully in Postgraduate_Certificate_in_Advanced_Nursing_Practice.txt.\n",
      "Content from https://www.aut.ac.nz/s/redirect?collection=aut-ac-nz-meta-dev&url=https%3A%2F%2Fwww.aut.ac.nz%2Fstudy%2Fstudy-options%2Fbusiness%2Fcourses%2Fpostgraduate-diploma-in-applied-finance&auth=0IxSjM7fdWaqQtBDdaYVSg&profile=_default&rank=39&query=%7CT%3A%22%24%2B%2B+Course+%24%2B%2B%22 saved successfully in Postgraduate_Diploma_in_Applied_Finance.txt.\n",
      "Content from https://www.aut.ac.nz/s/redirect?collection=aut-ac-nz-meta-dev&url=https%3A%2F%2Fwww.aut.ac.nz%2Fstudy%2Fstudy-options%2Fengineering-computer-and-mathematical-sciences%2Fcourses%2Fbachelor-of-computer-and-information-sciences%2Fsoftware-development-major&auth=q%2BvdV8rreFlowD5HBj%2BWLw&profile=_default&rank=40&query=%7CT%3A%22%24%2B%2B+Course+%24%2B%2B%22 saved successfully in Software_Development_Major_-_Bachelor_of_Computer_and_Information….txt.\n",
      "Content from https://www.aut.ac.nz/s/redirect?collection=aut-ac-nz-meta-dev&url=https%3A%2F%2Fwww.aut.ac.nz%2Fstudy%2Fstudy-options%2Fhealth-sciences%2Fcourses%2Fpostgraduate-certificate-in-health-science%2Folder-adult-health-and-wellness&auth=aYDqMHc3MP6grOL%2F%2BuAFcQ&profile=_default&rank=41&query=%7CT%3A%22%24%2B%2B+Course+%24%2B%2B%22 saved successfully in Older_Adult_Health_and_Wellness_-_Postgraduate_Certificate_in_Health….txt.\n",
      "Content from https://www.aut.ac.nz/s/redirect?collection=aut-ac-nz-meta-dev&url=https%3A%2F%2Fwww.aut.ac.nz%2Fstudy%2Fstudy-options%2Fhealth-sciences%2Fcourses%2Fbachelor-of-health-science-in-midwifery&auth=GOQo29nukOOsWyM5gr9q%2Bg&profile=_default&rank=43&query=%7CT%3A%22%24%2B%2B+Course+%24%2B%2B%22 saved successfully in Bachelor_of_Health_Science_(Midwifery).txt.\n",
      "Content from https://www.aut.ac.nz/s/redirect?collection=aut-ac-nz-meta-dev&url=https%3A%2F%2Fwww.aut.ac.nz%2Fcourses%2Fbachelor-of-engineering-honours%2Farchitectural-engineering-major&auth=m33AxrJo9OXIoHp7BkRcDg&profile=_default&rank=44&query=%7CT%3A%22%24%2B%2B+Course+%24%2B%2B%22 saved successfully in Architectural_Engineering_Major_-_Bachelor_of_Engineering_(Honours).txt.\n",
      "Content from https://www.aut.ac.nz/s/redirect?collection=aut-ac-nz-meta-dev&url=https%3A%2F%2Fwww.aut.ac.nz%2Fstudy%2Fstudy-options%2Fart-and-design%2Fcourses%2Fbachelor-of-visual-arts&auth=zHpUcIJzRmzoPm%2BBAaIhSA&profile=_default&rank=45&query=%7CT%3A%22%24%2B%2B+Course+%24%2B%2B%22 saved successfully in Bachelor_of_Visual_Arts_Te_Tohu_Paetahi_mō_Toi_Ataata.txt.\n",
      "Content from https://www.aut.ac.nz/s/redirect?collection=aut-ac-nz-meta-dev&url=https%3A%2F%2Fwww.aut.ac.nz%2Fstudy%2Fstudy-options%2Fsport-and-recreation%2Fcourses%2Fcertificate-in-sport-and-recreation&auth=Ab4oknaDUt1yZQ52bCPOgg&profile=_default&rank=46&query=%7CT%3A%22%24%2B%2B+Course+%24%2B%2B%22 saved successfully in Certificate_in_Sport_and_Recreation.txt.\n",
      "Content from https://www.aut.ac.nz/s/redirect?collection=aut-ac-nz-meta-dev&url=https%3A%2F%2Fwww.aut.ac.nz%2Fstudy%2Fstudy-options%2Fhealth-sciences%2Fcourses%2Fbachelor-of-health-science%2Fhealth-management-major&auth=IbyTb9%2Fc4Db%2FTthmH18VFA&profile=_default&rank=47&query=%7CT%3A%22%24%2B%2B+Course+%24%2B%2B%22 saved successfully in Health_Management_Major_-_Bachelor_of_Health_Science.txt.\n",
      "Content from https://www.aut.ac.nz/s/redirect?collection=aut-ac-nz-meta-dev&url=https%3A%2F%2Fwww.aut.ac.nz%2Fstudy%2Fstudy-options%2Fhealth-sciences%2Fcourses%2Fpostgraduate-certificate-in-health-science%2Fmaori-health&auth=mAh15qWmgvpcMIzO1FQr1g&profile=_default&rank=48&query=%7CT%3A%22%24%2B%2B+Course+%24%2B%2B%22 saved successfully in Māori_Health_-_Postgraduate_Certificate_in_Health_Science.txt.\n",
      "Content from https://www.aut.ac.nz/s/redirect?collection=aut-ac-nz-meta-dev&url=https%3A%2F%2Fwww.aut.ac.nz%2Fcourses%2Fmaster-of-arts%2Fmaori-development&auth=r3N%2BJI5lBoJJkhCfqPAl8A&profile=_default&rank=49&query=%7CT%3A%22%24%2B%2B+Course+%24%2B%2B%22 saved successfully in Māori_Development_Specialisation_-_Master_of_Arts.txt.\n",
      "Content from https://www.aut.ac.nz/s/redirect?collection=aut-ac-nz-meta-dev&url=https%3A%2F%2Fwww.aut.ac.nz%2Fcourses%2Fbachelor-of-arts-honours%2Finternational-hospitality-management-bachelor-of-arts-honours&auth=OLSEV%2FCrjVgDT%2B02AI4O4Q&profile=_default&rank=50&query=%7CT%3A%22%24%2B%2B+Course+%24%2B%2B%22 saved successfully in International_Hospitality_Management_-_Bachelor_of_Arts_(Honours).txt.\n",
      "Content from https://www.aut.ac.nz/s/redirect?collection=aut-ac-nz-meta-dev&url=https%3A%2F%2Fwww.aut.ac.nz%2Fstudy%2Fstudy-options%2Fhealth-sciences%2Fcourses%2Fmaster-of-health-practice%2Fviolence-and-trauma-studies&auth=IiyMlr%2BGU0KrYAiydQB4VQ&profile=_default&rank=51&query=%7CT%3A%22%24%2B%2B+Course+%24%2B%2B%22 saved successfully in Violence_and_Trauma_Studies_-_Master_of_Health_Practice.txt.\n",
      "Content from https://www.aut.ac.nz/s/redirect?collection=aut-ac-nz-meta-dev&url=https%3A%2F%2Fwww.aut.ac.nz%2Fcourses%2Fpostgraduate-diploma-in-arts&auth=dGLPMI7zSBJvNfJW%2F8gspQ&profile=_default&rank=52&query=%7CT%3A%22%24%2B%2B+Course+%24%2B%2B%22 saved successfully in Postgraduate_Diploma_in_Arts.txt.\n"
     ]
    },
    {
     "name": "stdout",
     "output_type": "stream",
     "text": [
      "Content from https://www.aut.ac.nz/s/redirect?collection=aut-ac-nz-meta-dev&url=https%3A%2F%2Fwww.aut.ac.nz%2Fstudy%2Fstudy-options%2Fhospitality-tourism-and-events%2Fcourses%2Fdiploma-in-culinary-arts&auth=bjplnJy89BABCVQY1Glbvw&profile=_default&rank=53&query=%7CT%3A%22%24%2B%2B+Course+%24%2B%2B%22 saved successfully in Diploma_in_Culinary_Arts.txt.\n",
      "Content from https://www.aut.ac.nz/s/redirect?collection=aut-ac-nz-meta-dev&url=https%3A%2F%2Fwww.aut.ac.nz%2Fstudy%2Fstudy-options%2Fengineering-computer-and-mathematical-sciences%2Fcourses%2Fbachelor-of-computer-and-information-sciences%2Fdata-science-major-bachelor-of-computer-and-information-sciences&auth=Cz657sAW6Fc5zi%2BRp4cb9g&profile=_default&rank=54&query=%7CT%3A%22%24%2B%2B+Course+%24%2B%2B%22 saved successfully in Data_Science_Major_-_Bachelor_of_Computer_and_Information_Sciences.txt.\n",
      "Content from https://www.aut.ac.nz/s/redirect?collection=aut-ac-nz-meta-dev&url=https%3A%2F%2Fwww.aut.ac.nz%2Fcourses%2Fmaster-of-philosophy&auth=OjIGw%2BOgvUHS1%2FvicrirPA&profile=_default&rank=55&query=%7CT%3A%22%24%2B%2B+Course+%24%2B%2B%22 saved successfully in Master_of_Philosophy.txt.\n",
      "Content from https://www.aut.ac.nz/s/redirect?collection=aut-ac-nz-meta-dev&url=https%3A%2F%2Fwww.aut.ac.nz%2Fstudy%2Fstudy-options%2Fsport-and-recreation%2Fcourses%2Fbachelor-of-sport-exercise-and-health%2Fsport-and-exercise-science-major-bachelor-of-sport%2C-exercise-and-health&auth=nqFkpCgPsBhLaX%2Fy0Q9sFA&profile=_default&rank=56&query=%7CT%3A%22%24%2B%2B+Course+%24%2B%2B%22 saved successfully in Sport_and_Exercise_Science_Major_-_Bachelor_of_Sport,_Exercise_and….txt.\n",
      "Content from https://www.aut.ac.nz/s/redirect?collection=aut-ac-nz-meta-dev&url=https%3A%2F%2Fwww.aut.ac.nz%2Fstudy%2Fstudy-options%2Fbusiness%2Fcourses%2Fpostgraduate-diploma-in-marketing&auth=HaBWLP6Lse8UEu7GA1Lw9w&profile=_default&rank=57&query=%7CT%3A%22%24%2B%2B+Course+%24%2B%2B%22 saved successfully in Postgraduate_Diploma_in_Marketing.txt.\n",
      "Content from https://www.aut.ac.nz/s/redirect?collection=aut-ac-nz-meta-dev&url=https%3A%2F%2Fwww.aut.ac.nz%2Fcourses%2Fbachelor-of-science&auth=9Bi9A%2BUzvmh9uQk0Hjecpg&profile=_default&rank=58&query=%7CT%3A%22%24%2B%2B+Course+%24%2B%2B%22 saved successfully in Bachelor_of_Science.txt.\n",
      "Content from https://www.aut.ac.nz/s/redirect?collection=aut-ac-nz-meta-dev&url=https%3A%2F%2Fwww.aut.ac.nz%2Fstudy%2Fstudy-options%2Fhealth-sciences%2Fcourses%2Fbachelor-of-health-science%2Fcase-management-major&auth=Yfe2uybQwsF1CheMGcI2yg&profile=_default&rank=59&query=%7CT%3A%22%24%2B%2B+Course+%24%2B%2B%22 saved successfully in Case_Management_Major_-_Bachelor_of_Health_Science.txt.\n",
      "Content from https://www.aut.ac.nz/s/redirect?collection=aut-ac-nz-meta-dev&url=https%3A%2F%2Fwww.aut.ac.nz%2Fstudy%2Fstudy-options%2Fbusiness%2Fcourses%2Fmaster-of-business%2Finternational-business&auth=t7aryF5oF55LMvUkzO3IjA&profile=_default&rank=60&query=%7CT%3A%22%24%2B%2B+Course+%24%2B%2B%22 saved successfully in International_Business_Specialisation_-_Master_of_Business.txt.\n",
      "Content from https://www.aut.ac.nz/s/redirect?collection=aut-ac-nz-meta-dev&url=https%3A%2F%2Fwww.aut.ac.nz%2Fstudy%2Fstudy-options%2Fhealth-sciences%2Fcourses%2Fpostgraduate-diploma-in-registered-nurse-prescribing&auth=P17IMDR6N%2FBFPPgpZooq5A&profile=_default&rank=61&query=%7CT%3A%22%24%2B%2B+Course+%24%2B%2B%22 saved successfully in Postgraduate_Diploma_in_Registered_Nurse_Prescribing.txt.\n",
      "Content from https://www.aut.ac.nz/s/redirect?collection=aut-ac-nz-meta-dev&url=https%3A%2F%2Fwww.aut.ac.nz%2Fstudy%2Fstudy-options%2Fengineering-computer-and-mathematical-sciences%2Fcourses%2Fmaster-of-analytics&auth=PZXzbR57N42KYVfq%2BOFxng&profile=_default&rank=62&query=%7CT%3A%22%24%2B%2B+Course+%24%2B%2B%22 saved successfully in Master_of_Analytics.txt.\n",
      "Content from https://www.aut.ac.nz/s/redirect?collection=aut-ac-nz-meta-dev&url=https%3A%2F%2Fwww.aut.ac.nz%2Fcourses%2Fbachelor-of-engineering-honours%2Fmechatronics-engineering-major&auth=1%2FzYBmMzG4zf%2FUCm6140ZA&profile=_default&rank=63&query=%7CT%3A%22%24%2B%2B+Course+%24%2B%2B%22 saved successfully in Study_Mechatronics_Engineering_-_Bachelor_of_Engineering_(Honours).txt.\n",
      "Content from https://www.aut.ac.nz/s/redirect?collection=aut-ac-nz-meta-dev&url=https%3A%2F%2Fwww.aut.ac.nz%2Fstudy%2Fstudy-options%2Fengineering-computer-and-mathematical-sciences%2Fcourses%2Fbachelor-of-engineering-technology%2Fmechanical-engineering-major&auth=Vv%2FvRneP%2BaakQ0jY1gsaNA&profile=_default&rank=64&query=%7CT%3A%22%24%2B%2B+Course+%24%2B%2B%22 saved successfully in Mechanical_Engineering_Major_-_Bachelor_of_Engineering_Technology.txt.\n",
      "Content from https://www.aut.ac.nz/s/redirect?collection=aut-ac-nz-meta-dev&url=https%3A%2F%2Fwww.aut.ac.nz%2Fcourses%2Fbachelor-of-arts%2Fnew-zealand-sign-language-and-deaf-studies-major&auth=4vMGENew0JeGfmJousxNEw&profile=_default&rank=65&query=%7CT%3A%22%24%2B%2B+Course+%24%2B%2B%22 saved successfully in New_Zealand_Sign_Language_and_Deaf_Studies_Major_-_Bachelor_of_Arts.txt.\n",
      "Content from https://www.aut.ac.nz/s/redirect?collection=aut-ac-nz-meta-dev&url=https%3A%2F%2Fwww.aut.ac.nz%2Fstudy%2Fstudy-options%2Fbusiness%2Fcourses%2Fmaster-of-professional-accounting&auth=pMzrWxcWjqv918vrjHV%2BIg&profile=_default&rank=66&query=%7CT%3A%22%24%2B%2B+Course+%24%2B%2B%22 saved successfully in Master_of_Professional_Accounting.txt.\n",
      "Content from https://www.aut.ac.nz/s/redirect?collection=aut-ac-nz-meta-dev&url=https%3A%2F%2Fwww.aut.ac.nz%2Fstudy%2Fstudy-options%2Fhealth-sciences%2Fcourses%2Fmaster-of-nursing-science&auth=rj9Zi%2BlDAkbB1nJiFolKhA&profile=_default&rank=67&query=%7CT%3A%22%24%2B%2B+Course+%24%2B%2B%22 saved successfully in Master_of_Nursing_Science.txt.\n",
      "Content from https://www.aut.ac.nz/s/redirect?collection=aut-ac-nz-meta-dev&url=https%3A%2F%2Fwww.aut.ac.nz%2Fstudy%2Fstudy-options%2Feducation%2Fcourses%2Fpostgraduate-diploma-in-education&auth=FnSXCmrDOReCyCO%2FRVw3lw&profile=_default&rank=68&query=%7CT%3A%22%24%2B%2B+Course+%24%2B%2B%22 saved successfully in Postgraduate_Diploma_in_Education.txt.\n",
      "Content from https://www.aut.ac.nz/s/redirect?collection=aut-ac-nz-meta-dev&url=https%3A%2F%2Fwww.aut.ac.nz%2Fcourses%2Fbachelor-of-arts-honours%2Finternational-tourism-management-bachelor-of-arts-honours&auth=qZH8kvDX6ZGkytsZ5SDViA&profile=_default&rank=69&query=%7CT%3A%22%24%2B%2B+Course+%24%2B%2B%22 saved successfully in Global_Tourism_-_Bachelor_of_Arts_(Honours).txt.\n",
      "Content from https://www.aut.ac.nz/s/redirect?collection=aut-ac-nz-meta-dev&url=https%3A%2F%2Fwww.aut.ac.nz%2Fstudy%2Fstudy-options%2Fhospitality-tourism-and-events%2Fcourses%2Fpostgraduate-certificate-in-international-tourism-management&auth=876WxW%2BSOgl97FKk3w%2Btgg&profile=_default&rank=70&query=%7CT%3A%22%24%2B%2B+Course+%24%2B%2B%22 saved successfully in Postgraduate_Certificate_in_International_Tourism_Management.txt.\n",
      "Content from https://www.aut.ac.nz/s/redirect?collection=aut-ac-nz-meta-dev&url=https%3A%2F%2Fwww.aut.ac.nz%2Fcourses%2Fmaster-of-arts&auth=Wpo8FIZYvZfm%2B3pKd4QfdQ&profile=_default&rank=71&query=%7CT%3A%22%24%2B%2B+Course+%24%2B%2B%22 saved successfully in Master_of_Arts.txt.\n",
      "Content from https://www.aut.ac.nz/s/redirect?collection=aut-ac-nz-meta-dev&url=https%3A%2F%2Fwww.aut.ac.nz%2Fstudy%2Fstudy-options%2Fsport-and-recreation%2Fcourses%2Fpostgraduate-certificate-in-sport%2C-exercise-and-health&auth=OJ%2B0iLV01U6i1fEVUmbf5Q&profile=_default&rank=72&query=%7CT%3A%22%24%2B%2B+Course+%24%2B%2B%22 saved successfully in Postgraduate_Certificate_in_Sport,_Exercise_and_Health.txt.\n",
      "Content from https://www.aut.ac.nz/s/redirect?collection=aut-ac-nz-meta-dev&url=https%3A%2F%2Fwww.aut.ac.nz%2Fstudy%2Fstudy-options%2Fbusiness%2Fcourses%2Fpostgraduate-diploma-in-professional-accounting&auth=zVfAqfWLs4FcjrZTcYCDnw&profile=_default&rank=73&query=%7CT%3A%22%24%2B%2B+Course+%24%2B%2B%22 saved successfully in Postgraduate_Diploma_in_Professional_Accounting.txt.\n",
      "Content from https://www.aut.ac.nz/s/redirect?collection=aut-ac-nz-meta-dev&url=https%3A%2F%2Fwww.aut.ac.nz%2Fstudy%2Fstudy-options%2Fbusiness%2Fcourses%2Fmaster-of-supply-chain-management&auth=REY4pdIsnamM9empBA2cjA&profile=_default&rank=74&query=%7CT%3A%22%24%2B%2B+Course+%24%2B%2B%22 saved successfully in Master_of_Supply_Chain_Management.txt.\n"
     ]
    },
    {
     "name": "stdout",
     "output_type": "stream",
     "text": [
      "Content from https://www.aut.ac.nz/s/redirect?collection=aut-ac-nz-meta-dev&url=https%3A%2F%2Fwww.aut.ac.nz%2Fstudy%2Fstudy-options%2Fsocial-sciences-and-public-policy%2Fcourses%2Fpostgraduate-diploma-in-criminology-and-criminal-justice&auth=D10VJWYT9s6zf2b4N9Zosw&profile=_default&rank=75&query=%7CT%3A%22%24%2B%2B+Course+%24%2B%2B%22 saved successfully in Postgraduate_Diploma_in_Criminology_and_Criminal_Justice.txt.\n",
      "Content from https://www.aut.ac.nz/s/redirect?collection=aut-ac-nz-meta-dev&url=https%3A%2F%2Fwww.aut.ac.nz%2Fstudy%2Fstudy-options%2Fhealth-sciences%2Fcourses%2Fmaster-of-health-practice%2Fmusculoskeletal-physiotherapy&auth=Kba6ovvLwlOrO%2FycYnw3rA&profile=_default&rank=76&query=%7CT%3A%22%24%2B%2B+Course+%24%2B%2B%22 saved successfully in Musculoskeletal_Physiotherapy_-_Master_of_Health_Practice.txt.\n",
      "Content from https://www.aut.ac.nz/s/redirect?collection=aut-ac-nz-meta-dev&url=https%3A%2F%2Fwww.aut.ac.nz%2Fstudy%2Fstudy-options%2Fhealth-sciences%2Fcourses%2Fbachelor-of-health-science-in-nursing&auth=Mc3BBKHPrA%2BP9t3BiHr5Lw&profile=_default&rank=77&query=%7CT%3A%22%24%2B%2B+Course+%24%2B%2B%22 saved successfully in Bachelor_of_Health_Science_(Nursing).txt.\n",
      "Content from https://www.aut.ac.nz/s/redirect?collection=aut-ac-nz-meta-dev&url=https%3A%2F%2Fwww.aut.ac.nz%2Fstudy%2Fstudy-options%2Fsocial-sciences-and-public-policy%2Fcourses%2Fpostgraduate-diploma-in-human-rights&auth=8QQf8lF%2FvKuaInWcYwhnNg&profile=_default&rank=78&query=%7CT%3A%22%24%2B%2B+Course+%24%2B%2B%22 saved successfully in Postgraduate_Diploma_in_Human_Rights.txt.\n",
      "Content from https://www.aut.ac.nz/s/redirect?collection=aut-ac-nz-meta-dev&url=https%3A%2F%2Fwww.aut.ac.nz%2Fstudy%2Fstudy-options%2Fbusiness%2Fcourses%2Fmaster-of-business-management&auth=3%2BKrzayfwI54yN6IWvQBTQ&profile=_default&rank=79&query=%7CT%3A%22%24%2B%2B+Course+%24%2B%2B%22 saved successfully in Master_of_Business_Management.txt.\n",
      "Content from https://www.aut.ac.nz/s/redirect?collection=aut-ac-nz-meta-dev&url=https%3A%2F%2Fwww.aut.ac.nz%2Fstudy%2Fstudy-options%2Fengineering-computer-and-mathematical-sciences%2Fcourses%2Fmaster-of-cyber-security-and-digital-forensics&auth=%2Bpd4Q8%2F%2B%2BDJnBeUhQnBwHQ&profile=_default&rank=80&query=%7CT%3A%22%24%2B%2B+Course+%24%2B%2B%22 saved successfully in Master_of_Cyber_Security_and_Digital_Forensics.txt.\n",
      "Content from https://www.aut.ac.nz/s/redirect?collection=aut-ac-nz-meta-dev&url=https%3A%2F%2Fwww.aut.ac.nz%2Fcourses%2Fnew-zealand-sign-language-english-interpreting-major-bachelor-of-arts&auth=pp8xu2pla%2FPxTlmaPhfcLQ&profile=_default&rank=81&query=%7CT%3A%22%24%2B%2B+Course+%24%2B%2B%22 saved successfully in New_Zealand_Sign_Language_-_English_Interpreting_Major_-_Bachelor_of….txt.\n",
      "Content from https://www.aut.ac.nz/s/redirect?collection=aut-ac-nz-meta-dev&url=https%3A%2F%2Fwww.aut.ac.nz%2Fstudy%2Fstudy-options%2Fhealth-sciences%2Fcourses%2Fpostgraduate-diploma-in-health-science%2Fmental-health-and-addictions&auth=WPaEkEko9BB4g0gjZEsWOQ&profile=_default&rank=82&query=%7CT%3A%22%24%2B%2B+Course+%24%2B%2B%22 saved successfully in Mental_Health_and_Addictions_-_Postgraduate_Diploma_in_Health_Science.txt.\n",
      "Content from https://www.aut.ac.nz/s/redirect?collection=aut-ac-nz-meta-dev&url=https%3A%2F%2Fwww.aut.ac.nz%2Fstudy%2Fstudy-options%2Fhealth-sciences%2Fcourses%2Fmaster-of-health-practice&auth=RNi%2BGnQk3s%2FNjHThpAs7Jg&profile=_default&rank=83&query=%7CT%3A%22%24%2B%2B+Course+%24%2B%2B%22 saved successfully in Master_of_Health_Practice.txt.\n",
      "Content from https://www.aut.ac.nz/s/redirect?collection=aut-ac-nz-meta-dev&url=https%3A%2F%2Fwww.aut.ac.nz%2Fcourses%2Fbachelor-of-arts%2Fculinary-arts-major&auth=TnNgNK3m2z%2Fqo8R7KizYew&profile=_default&rank=84&query=%7CT%3A%22%24%2B%2B+Course+%24%2B%2B%22 saved successfully in Culinary_Arts_Major_-_Bachelor_of_Arts.txt.\n",
      "Content from https://www.aut.ac.nz/s/redirect?collection=aut-ac-nz-meta-dev&url=https%3A%2F%2Fwww.aut.ac.nz%2Fstudy%2Fstudy-options%2Fengineering-computer-and-mathematical-sciences%2Fcourses%2Fbachelor-of-engineering-technology%2Felectrical-engineering-major&auth=o9VKnhaXFCQbHssb4bAwRQ&profile=_default&rank=85&query=%7CT%3A%22%24%2B%2B+Course+%24%2B%2B%22 saved successfully in Electrical_and_Electronic_Engineering_Major_-_Bachelor_of_Engineering_….txt.\n",
      "Content from https://www.aut.ac.nz/s/redirect?collection=aut-ac-nz-meta-dev&url=https%3A%2F%2Fwww.aut.ac.nz%2Fstudy%2Fstudy-options%2Fbusiness%2Fcourses%2Fpostgraduate-diploma-in-supply-chain-management&auth=fp2uTZA610RlzGZpzB%2BleQ&profile=_default&rank=86&query=%7CT%3A%22%24%2B%2B+Course+%24%2B%2B%22 saved successfully in Postgraduate_Diploma_in_Supply_Chain_Management.txt.\n",
      "Content from https://www.aut.ac.nz/s/redirect?collection=aut-ac-nz-meta-dev&url=https%3A%2F%2Fwww.aut.ac.nz%2Fstudy%2Fstudy-options%2Fsport-and-recreation%2Fcourses%2Fbachelor-of-sport-exercise-and-health%2Fsport-leadership-and-management-major-bachelor-of-sport%2C-exercise-and-health&auth=F2kfpQ004LxTrk9n6Q2vTw&profile=_default&rank=87&query=%7CT%3A%22%24%2B%2B+Course+%24%2B%2B%22 saved successfully in Sport_Leadership_and_Management_Major_-_Bachelor_of_Sport,_Exercise….txt.\n",
      "Content from https://www.aut.ac.nz/s/redirect?collection=aut-ac-nz-meta-dev&url=https%3A%2F%2Fwww.aut.ac.nz%2Fstudy%2Fstudy-options%2Fengineering-computer-and-mathematical-sciences%2Fcourses%2Fbachelor-of-computer-and-information-sciences%2Fnetworks-and-cybersecurity-major-bachelor-of-computer-and-information-sciences&auth=b4zTIQzdgmDdjdr04y8RTA&profile=_default&rank=88&query=%7CT%3A%22%24%2B%2B+Course+%24%2B%2B%22 saved successfully in Networks_and_Cybersecurity_Major_-_Bachelor_of_Computer_and….txt.\n",
      "Content from https://www.aut.ac.nz/s/redirect?collection=aut-ac-nz-meta-dev&url=https%3A%2F%2Fwww.aut.ac.nz%2Fstudy%2Fstudy-options%2Feducation%2Fcourses%2Fmaster-of-education&auth=EQTqlvCYYAsmiRIxFfGS%2FA&profile=_default&rank=89&query=%7CT%3A%22%24%2B%2B+Course+%24%2B%2B%22 saved successfully in Master_of_Education.txt.\n",
      "Content from https://www.aut.ac.nz/s/redirect?collection=aut-ac-nz-meta-dev&url=https%3A%2F%2Fwww.aut.ac.nz%2Fstudy%2Fstudy-options%2Fhealth-sciences%2Fcourses%2Fmaster-of-health-practice%2Fchild-health&auth=%2F53D6bdtXNm6zAB4ytSzpw&profile=_default&rank=90&query=%7CT%3A%22%24%2B%2B+Course+%24%2B%2B%22 saved successfully in Child_Health_-_Master_of_Health_Practice.txt.\n",
      "Content from https://www.aut.ac.nz/s/redirect?collection=aut-ac-nz-meta-dev&url=https%3A%2F%2Fwww.aut.ac.nz%2Fstudy%2Fstudy-options%2Fsocial-sciences-and-public-policy%2Fcourses%2Fmaster-of-human-rights&auth=Nw3WRt%2F%2FNuTLaeaMhCQwbg&profile=_default&rank=91&query=%7CT%3A%22%24%2B%2B+Course+%24%2B%2B%22 saved successfully in Master_of_Human_Rights.txt.\n",
      "Content from https://www.aut.ac.nz/s/redirect?collection=aut-ac-nz-meta-dev&url=https%3A%2F%2Fwww.aut.ac.nz%2Fstudy%2Fstudy-options%2Fart-and-design%2Fcourses%2Fdiploma-in-design&auth=urm1AqB8w9HIa0gkynjpGA&profile=_default&rank=92&query=%7CT%3A%22%24%2B%2B+Course+%24%2B%2B%22 saved successfully in Diploma_in_Design_Tītohu_mō_te_Hoahoa.txt.\n",
      "Content from https://www.aut.ac.nz/s/redirect?collection=aut-ac-nz-meta-dev&url=https%3A%2F%2Fwww.aut.ac.nz%2Fstudy%2Fstudy-options%2Fsocial-sciences-and-public-policy%2Fcourses%2Fpostgraduate-certificate-in-human-rights&auth=sgDmbqO98rQczPIdJtOnxQ&profile=_default&rank=94&query=%7CT%3A%22%24%2B%2B+Course+%24%2B%2B%22 saved successfully in Postgraduate_Certificate_in_Human_Rights.txt.\n",
      "Content from https://www.aut.ac.nz/s/redirect?collection=aut-ac-nz-meta-dev&url=https%3A%2F%2Fwww.aut.ac.nz%2Fstudy%2Fstudy-options%2Fcommunication-studies%2Fcourses%2Fpostgraduate-certificate-in-communication-studies&auth=THbe%2FkIBQ2erff8FOBnnbQ&profile=_default&rank=95&query=%7CT%3A%22%24%2B%2B+Course+%24%2B%2B%22 saved successfully in Postgraduate_Certificate_in_Communication_Studies.txt.\n",
      "Content from https://www.aut.ac.nz/s/redirect?collection=aut-ac-nz-meta-dev&url=https%3A%2F%2Fwww.aut.ac.nz%2Fstudy%2Fstudy-options%2Fhospitality-tourism-and-events%2Fcourses%2Fpostgraduate-diploma-in-international-hospitality-management&auth=bC6%2Bh8d8J0HflE5NhVdmZA&profile=_default&rank=96&query=%7CT%3A%22%24%2B%2B+Course+%24%2B%2B%22 saved successfully in Postgraduate_Diploma_in_International_Hospitality_Management.txt.\n"
     ]
    },
    {
     "name": "stdout",
     "output_type": "stream",
     "text": [
      "Content from https://www.aut.ac.nz/s/redirect?collection=aut-ac-nz-meta-dev&url=https%3A%2F%2Fwww.aut.ac.nz%2Fstudy%2Fstudy-options%2Fengineering-computer-and-mathematical-sciences%2Fcourses%2Fpostgraduate-certificate-in-computer-and-information-sciences&auth=AFMdiS0666dCbbEl44ve9Q&profile=_default&rank=97&query=%7CT%3A%22%24%2B%2B+Course+%24%2B%2B%22 saved successfully in Postgraduate_Certificate_in_Computer_and_Information_Sciences.txt.\n",
      "Content from https://www.aut.ac.nz/s/redirect?collection=aut-ac-nz-meta-dev&url=https%3A%2F%2Fwww.aut.ac.nz%2Fstudy%2Fstudy-options%2Fhealth-sciences%2Fcourses%2Fpostgraduate-diploma-in-health-science%2Fchild-health&auth=59d7I2YkO%2BglDe%2FbSQey4A&profile=_default&rank=98&query=%7CT%3A%22%24%2B%2B+Course+%24%2B%2B%22 saved successfully in Child_Health_-_Postgraduate_Diploma_in_Health_Science.txt.\n",
      "Content from https://www.aut.ac.nz/s/redirect?collection=aut-ac-nz-meta-dev&url=https%3A%2F%2Fwww.aut.ac.nz%2Fstudy%2Fstudy-options%2Fhealth-sciences%2Fcourses%2Fdiploma-in-paramedic-science&auth=kJANrcPiDXiOk3SXG8o3zg&profile=_default&rank=99&query=%7CT%3A%22%24%2B%2B+Course+%24%2B%2B%22 saved successfully in Diploma_in_Paramedic_Science.txt.\n",
      "Content from https://www.aut.ac.nz/s/redirect?collection=aut-ac-nz-meta-dev&url=https%3A%2F%2Fwww.aut.ac.nz%2Fstudy%2Fstudy-options%2Fhealth-sciences%2Fcourses%2Fbachelor-of-health-science%2Fpublic-and-environmental-health-major&auth=WPVBKusY9GYA0vks57hZiA&profile=_default&rank=100&query=%7CT%3A%22%24%2B%2B+Course+%24%2B%2B%22 saved successfully in Public_and_Environmental_Health_Major_-_Bachelor_of_Health_Science.txt.\n",
      "Content from https://www.aut.ac.nz/s/redirect?collection=aut-ac-nz-meta-dev&url=https%3A%2F%2Fwww.aut.ac.nz%2Fstudy%2Fstudy-options%2Fcommunication-studies%2Fcourses%2Fbachelor-of-communication-studies%2Fscreen-production-major&auth=FiYkFoim5W8LXzf%2FIGqZqg&profile=_default&rank=101&query=%7CT%3A%22%24%2B%2B+Course+%24%2B%2B%22 saved successfully in Screen_Production_Major_-_Bachelor_of_Communication_Studies.txt.\n",
      "Content from https://www.aut.ac.nz/s/redirect?collection=aut-ac-nz-meta-dev&url=https%3A%2F%2Fwww.aut.ac.nz%2Fcourses%2Fbachelor-of-engineering-honours%2Fconstruction-engineering-major&auth=PyxJ9GDXM%2FlE%2BkMVb3bzYw&profile=_default&rank=102&query=%7CT%3A%22%24%2B%2B+Course+%24%2B%2B%22 saved successfully in Civil_Construction_Engineering_Major_-_Bachelor_of_Engineering….txt.\n",
      "Content from https://www.aut.ac.nz/s/redirect?collection=aut-ac-nz-meta-dev&url=https%3A%2F%2Fwww.aut.ac.nz%2Fstudy%2Fstudy-options%2Fengineering-computer-and-mathematical-sciences%2Fcourses%2Fdiploma-in-engineering&auth=Xo7AuwcvaOJnFXS21498QQ&profile=_default&rank=103&query=%7CT%3A%22%24%2B%2B+Course+%24%2B%2B%22 saved successfully in Diploma_in_Engineering.txt.\n",
      "Content from https://www.aut.ac.nz/s/redirect?collection=aut-ac-nz-meta-dev&url=https%3A%2F%2Fwww.aut.ac.nz%2Fstudy%2Fstudy-options%2Fhospitality-tourism-and-events%2Fcourses%2Fpostgraduate-certificate-in-international-hospitality-management&auth=Qw4hovYog%2BonF87XLfUJ7g&profile=_default&rank=104&query=%7CT%3A%22%24%2B%2B+Course+%24%2B%2B%22 saved successfully in Postgraduate_Certificate_in_International_Hospitality_Management.txt.\n",
      "Content from https://www.aut.ac.nz/s/redirect?collection=aut-ac-nz-meta-dev&url=https%3A%2F%2Fwww.aut.ac.nz%2Fstudy%2Fstudy-options%2Feducation%2Fcourses%2Fbachelor-of-education&auth=BlqL9X4qjCeYems5nWpG0w&profile=_default&rank=105&query=%7CT%3A%22%24%2B%2B+Course+%24%2B%2B%22 saved successfully in Bachelor_of_Education_([Specialty]_Teaching).txt.\n",
      "Content from https://www.aut.ac.nz/s/redirect?collection=aut-ac-nz-meta-dev&url=https%3A%2F%2Fwww.aut.ac.nz%2Fstudy%2Fstudy-options%2Fhealth-sciences%2Fcourses%2Fbachelor-of-health-science%2Fcounselling-major&auth=aRsZ85W%2BdHODj0TPH%2B8LLw&profile=_default&rank=106&query=%7CT%3A%22%24%2B%2B+Course+%24%2B%2B%22 saved successfully in Counselling_Major_-_Bachelor_of_Health_Science.txt.\n",
      "Content from https://www.aut.ac.nz/s/redirect?collection=aut-ac-nz-meta-dev&url=https%3A%2F%2Fwww.aut.ac.nz%2Fstudy%2Fstudy-options%2Fhealth-sciences%2Fcourses%2Fpostgraduate-certificate-in-disaster-risk-management-and-development&auth=ghedi%2BrmO89hOZ9tKq3i%2BA&profile=_default&rank=107&query=%7CT%3A%22%24%2B%2B+Course+%24%2B%2B%22 saved successfully in Postgraduate_Certificate_in_Disaster_Risk_Management_and_Development.txt.\n",
      "Content from https://www.aut.ac.nz/s/redirect?collection=aut-ac-nz-meta-dev&url=https%3A%2F%2Fwww.aut.ac.nz%2Fstudy%2Fstudy-options%2Fhospitality-tourism-and-events%2Fcourses%2Fpostgraduate-diploma-in-international-tourism-management&auth=xnFl2nZU20y5BcDVRO4B9w&profile=_default&rank=108&query=%7CT%3A%22%24%2B%2B+Course+%24%2B%2B%22 saved successfully in Postgraduate_Diploma_in_International_Tourism_Management.txt.\n",
      "Content from https://www.aut.ac.nz/s/redirect?collection=aut-ac-nz-meta-dev&url=https%3A%2F%2Fwww.aut.ac.nz%2Fstudy%2Fstudy-options%2Fscience%2Fcourses%2Fmaster-of-medical-laboratory-science&auth=rqarZy6a0ImnP5qqI1htqg&profile=_default&rank=109&query=%7CT%3A%22%24%2B%2B+Course+%24%2B%2B%22 saved successfully in Master_of_Medical_Laboratory_Science.txt.\n",
      "Content from https://www.aut.ac.nz/s/redirect?collection=aut-ac-nz-meta-dev&url=https%3A%2F%2Fwww.aut.ac.nz%2Fstudy%2Fstudy-options%2Flaw%2Fcourses%2Fbachelor-of-laws&auth=FnTsUFHSrWJZSdxm%2Bm0vxg&profile=_default&rank=110&query=%7CT%3A%22%24%2B%2B+Course+%24%2B%2B%22 saved successfully in Bachelor_of_Laws.txt.\n",
      "Content from https://www.aut.ac.nz/s/redirect?collection=aut-ac-nz-meta-dev&url=https%3A%2F%2Fwww.aut.ac.nz%2Fstudy%2Fstudy-options%2Fhealth-sciences%2Fcourses%2Fpostgraduate-certificate-in-health-science%2Fhealth-care-ethics&auth=ppHsTkvM4QHvoVF%2FdpZSBg&profile=_default&rank=111&query=%7CT%3A%22%24%2B%2B+Course+%24%2B%2B%22 saved successfully in Health_Care_Ethics_-_Postgraduate_Certificate_in_Health_Science.txt.\n",
      "Content from https://www.aut.ac.nz/s/redirect?collection=aut-ac-nz-meta-dev&url=https%3A%2F%2Fwww.aut.ac.nz%2Fstudy%2Fstudy-options%2Fhospitality-tourism-and-events%2Fcourses%2Fmaster-of-gastronomy&auth=IqohHr9DKIAzzSjZWSS0BQ&profile=_default&rank=112&query=%7CT%3A%22%24%2B%2B+Course+%24%2B%2B%22 saved successfully in Master_of_Gastronomy.txt.\n",
      "Content from https://www.aut.ac.nz/s/redirect?collection=aut-ac-nz-meta-dev&url=https%3A%2F%2Fwww.aut.ac.nz%2Fstudy%2Fstudy-options%2Fhealth-sciences%2Fcourses%2Fpostgraduate-diploma-in-health-science%2Folder-adult-health-and-wellness&auth=mfNuOnoKofH%2F%2Fnn6w1ZX1A&profile=_default&rank=113&query=%7CT%3A%22%24%2B%2B+Course+%24%2B%2B%22 saved successfully in Older_Adult_Health_and_Wellness_-_Postgraduate_Diploma_in_Health….txt.\n",
      "Content from https://www.aut.ac.nz/s/redirect?collection=aut-ac-nz-meta-dev&url=https%3A%2F%2Fwww.aut.ac.nz%2Fstudy%2Fstudy-options%2Fart-and-design%2Fcourses%2Fmaster-of-visual-arts&auth=ug0Q7L8zqQlGftB1cbktYg&profile=_default&rank=114&query=%7CT%3A%22%24%2B%2B+Course+%24%2B%2B%22 saved successfully in Master_of_Visual_Arts.txt.\n",
      "Content from https://www.aut.ac.nz/s/redirect?collection=aut-ac-nz-meta-dev&url=https%3A%2F%2Fwww.aut.ac.nz%2Fstudy%2Fstudy-options%2Flaw%2Fcourses%2Fcertificate-in-legal-studies&auth=enpPW9%2Bm6b6lDVQxDt6PRw&profile=_default&rank=115&query=%7CT%3A%22%24%2B%2B+Course+%24%2B%2B%22 saved successfully in Certificate_in_Legal_Studies.txt.\n",
      "Content from https://www.aut.ac.nz/s/redirect?collection=aut-ac-nz-meta-dev&url=https%3A%2F%2Fwww.aut.ac.nz%2Fstudy%2Fstudy-options%2Fbusiness%2Fcourses%2Fcertificate-in-business-studies&auth=X%2B23L92QFdWqvXt6%2BZ6WWw&profile=_default&rank=116&query=%7CT%3A%22%24%2B%2B+Course+%24%2B%2B%22 saved successfully in Certificate_in_Business_Studies.txt.\n",
      "Content from https://www.aut.ac.nz/s/redirect?collection=aut-ac-nz-meta-dev&url=https%3A%2F%2Fwww.aut.ac.nz%2Fstudy%2Fstudy-options%2Fengineering-computer-and-mathematical-sciences%2Fcourses%2Fbachelor-of-computer-and-information-sciences%2Fdigital-services-major-bachelor-of-computer-and-information-sciences&auth=wH1xn5TO7EZf1UbE6RRKXw&profile=_default&rank=117&query=%7CT%3A%22%24%2B%2B+Course+%24%2B%2B%22 saved successfully in Digital_Services_Major_-_Bachelor_of_Computer_and_Information_Sciences.txt.\n",
      "Content from https://www.aut.ac.nz/s/redirect?collection=aut-ac-nz-meta-dev&url=https%3A%2F%2Fwww.aut.ac.nz%2Fstudy%2Fstudy-options%2Fscience%2Fcourses%2Fbachelor-of-medical-laboratory-science&auth=cA7WEYF5mYshKW15%2BoCYvQ&profile=_default&rank=118&query=%7CT%3A%22%24%2B%2B+Course+%24%2B%2B%22 saved successfully in Bachelor_of_Medical_Laboratory_Science.txt.\n"
     ]
    },
    {
     "name": "stdout",
     "output_type": "stream",
     "text": [
      "Content from https://www.aut.ac.nz/s/redirect?collection=aut-ac-nz-meta-dev&url=https%3A%2F%2Fwww.aut.ac.nz%2Fstudy%2Fstudy-options%2Fhealth-sciences%2Fcourses%2Fbachelor-of-health-science&auth=%2Fy60Umaxb%2FEj6uwmQbP8Hg&profile=_default&rank=119&query=%7CT%3A%22%24%2B%2B+Course+%24%2B%2B%22 saved successfully in Bachelor_of_Health_Science.txt.\n",
      "Content from https://www.aut.ac.nz/s/redirect?collection=aut-ac-nz-meta-dev&url=https%3A%2F%2Fwww.aut.ac.nz%2Fcourses%2Fbachelor-of-arts%2Fcreative-writing-major&auth=y9TTEIcxWiQ8zz1BXHeOEg&profile=_default&rank=120&query=%7CT%3A%22%24%2B%2B+Course+%24%2B%2B%22 saved successfully in Creative_Writing_Major_-_Bachelor_of_Arts.txt.\n",
      "Content from https://www.aut.ac.nz/s/redirect?collection=aut-ac-nz-meta-dev&url=https%3A%2F%2Fwww.aut.ac.nz%2Fcourses%2Fbachelor-of-design-te-tohu-paetahi-mo-te-hoahoa%2Ffashion-design-major&auth=uPwEa2BkqTcfmyIHnWRpMQ&profile=_default&rank=121&query=%7CT%3A%22%24%2B%2B+Course+%24%2B%2B%22 saved successfully in Fashion_Design_Major_-_Bachelor_of_Design_Te_Tohu_Paetahi_mō_te_Hoahoa.txt.\n",
      "Content from https://www.aut.ac.nz/s/redirect?collection=aut-ac-nz-meta-dev&url=https%3A%2F%2Fwww.aut.ac.nz%2Fstudy%2Fstudy-options%2Fbusiness%2Fcourses%2Fpostgraduate-diploma-in-business&auth=dt3CNVOGJx7GAciroo%2FnHA&profile=_default&rank=122&query=%7CT%3A%22%24%2B%2B+Course+%24%2B%2B%22 saved successfully in Postgraduate_Diploma_in_Business.txt.\n",
      "Content from https://www.aut.ac.nz/s/redirect?collection=aut-ac-nz-meta-dev&url=https%3A%2F%2Fwww.aut.ac.nz%2Fstudy%2Fstudy-options%2Fcommunication-studies%2Fcourses%2Fbachelor-of-communication-studies%2Fjournalism-major&auth=imET80vSR4XXfkLEiXzCSQ&profile=_default&rank=123&query=%7CT%3A%22%24%2B%2B+Course+%24%2B%2B%22 saved successfully in Journalism_Major_-_Bachelor_of_Communication_Studies.txt.\n",
      "Content from https://www.aut.ac.nz/s/redirect?collection=aut-ac-nz-meta-dev&url=https%3A%2F%2Fwww.aut.ac.nz%2Fstudy%2Fstudy-options%2Fbusiness%2Fcourses%2Fmaster-of-business&auth=krradRhXw5WwONzkF2kPxw&profile=_default&rank=124&query=%7CT%3A%22%24%2B%2B+Course+%24%2B%2B%22 saved successfully in Master_of_Business.txt.\n",
      "Content from https://www.aut.ac.nz/s/redirect?collection=aut-ac-nz-meta-dev&url=https%3A%2F%2Fwww.aut.ac.nz%2Fcourses%2Fbachelor-of-engineering-honours%2Fmechanical-engineering-major&auth=0%2F4vRSnrvl0gjvcBEg0%2FDw&profile=_default&rank=125&query=%7CT%3A%22%24%2B%2B+Course+%24%2B%2B%22 saved successfully in Mechanical_Engineering_Major_-_Bachelor_of_Engineering_(Honours).txt.\n",
      "Content from https://www.aut.ac.nz/s/redirect?collection=aut-ac-nz-meta-dev&url=https%3A%2F%2Fwww.aut.ac.nz%2Fcourses%2Fbachelor-of-arts%2Fpsychology-major&auth=3cfGWKkF6e5WRVnTOdfRXg&profile=_default&rank=126&query=%7CT%3A%22%24%2B%2B+Course+%24%2B%2B%22 saved successfully in Psychology_Major_-_Bachelor_of_Arts.txt.\n",
      "Content from https://www.aut.ac.nz/s/redirect?collection=aut-ac-nz-meta-dev&url=https%3A%2F%2Fwww.aut.ac.nz%2Fstudy%2Fstudy-options%2Fhealth-sciences%2Fcourses%2Fpostgraduate-diploma-in-disaster-risk-management-and-development&auth=ifyBmBLJsLjBjsaSmdgn3A&profile=_default&rank=127&query=%7CT%3A%22%24%2B%2B+Course+%24%2B%2B%22 saved successfully in Postgraduate_Diploma_in_Disaster_Risk_Management_and_Development.txt.\n",
      "Content from https://www.aut.ac.nz/s/redirect?collection=aut-ac-nz-meta-dev&url=https%3A%2F%2Fwww.aut.ac.nz%2Fstudy%2Fstudy-options%2Fcommunication-studies%2Fcourses%2Fbachelor-of-communication-studies&auth=sZkLF85%2FRBgS7o8zyPMT5g&profile=_default&rank=128&query=%7CT%3A%22%24%2B%2B+Course+%24%2B%2B%22 saved successfully in Bachelor_of_Communication_Studies.txt.\n",
      "Content from https://www.aut.ac.nz/s/redirect?collection=aut-ac-nz-meta-dev&url=https%3A%2F%2Fwww.aut.ac.nz%2Fcourses%2Fbachelor-of-design-te-tohu-paetahi-mo-te-hoahoa%2Fanimation-visual-effects-and-game-design-major&auth=s6bDGApj4HkRFZxT7Dct7w&profile=_default&rank=129&query=%7CT%3A%22%24%2B%2B+Course+%24%2B%2B%22 saved successfully in Animation,_Visual_Effects_and_Game_Design_Major_-_Bachelor_of_Design….txt.\n",
      "Content from https://www.aut.ac.nz/s/redirect?collection=aut-ac-nz-meta-dev&url=https%3A%2F%2Fwww.aut.ac.nz%2Fstudy%2Fstudy-options%2Feducation%2Fcourses%2Fdoctor-of-education&auth=GLE5KwzoqMIzTfW85t%2Fp8g&profile=_default&rank=130&query=%7CT%3A%22%24%2B%2B+Course+%24%2B%2B%22 saved successfully in Doctor_of_Education.txt.\n",
      "Content from https://www.aut.ac.nz/s/redirect?collection=aut-ac-nz-meta-dev&url=https%3A%2F%2Fwww.aut.ac.nz%2Fstudy%2Fstudy-options%2Feducation%2Fcourses%2Fpostgraduate-certificate-in-education&auth=NQ%2FqP%2Be1lnwjDcIHnv6nAA&profile=_default&rank=131&query=%7CT%3A%22%24%2B%2B+Course+%24%2B%2B%22 saved successfully in Postgraduate_Certificate_in_Education.txt.\n",
      "Content from https://www.aut.ac.nz/s/redirect?collection=aut-ac-nz-meta-dev&url=https%3A%2F%2Fwww.aut.ac.nz%2Fcourses%2Fgraduate-certificate-in-science&auth=KUsUIV5E7JjjsSw%2FvkOuCA&profile=_default&rank=133&query=%7CT%3A%22%24%2B%2B+Course+%24%2B%2B%22 saved successfully in Graduate_Certificate_in_Science.txt.\n",
      "Content from https://www.aut.ac.nz/s/redirect?collection=aut-ac-nz-meta-dev&url=https%3A%2F%2Fwww.aut.ac.nz%2Fcourses%2Fdiploma-in-applied-science&auth=iA7tXXxpPQ0CFVht1SEq6g&profile=_default&rank=134&query=%7CT%3A%22%24%2B%2B+Course+%24%2B%2B%22 saved successfully in Diploma_in_Applied_Science.txt.\n",
      "Content from https://www.aut.ac.nz/s/redirect?collection=aut-ac-nz-meta-dev&url=https%3A%2F%2Fwww.aut.ac.nz%2Fstudy%2Fstudy-options%2Fhealth-sciences%2Fcourses%2Fpostgraduate-certificate-in-health-science&auth=bBfv4xAN9wkqOlGyuXdymw&profile=_default&rank=135&query=%7CT%3A%22%24%2B%2B+Course+%24%2B%2B%22 saved successfully in Postgraduate_Certificate_in_Health_Science.txt.\n",
      "Content from https://www.aut.ac.nz/s/redirect?collection=aut-ac-nz-meta-dev&url=https%3A%2F%2Fwww.aut.ac.nz%2Fcourses%2Fgraduate-diploma-in-science&auth=ysomJ3TZF04be8Fc4WtwIw&profile=_default&rank=136&query=%7CT%3A%22%24%2B%2B+Course+%24%2B%2B%22 saved successfully in Graduate_Diploma_in_Science.txt.\n",
      "Content from https://www.aut.ac.nz/s/redirect?collection=aut-ac-nz-meta-dev&url=https%3A%2F%2Fwww.aut.ac.nz%2Fstudy%2Fstudy-options%2Fhospitality-tourism-and-events%2Fcourses%2Fmaster-of-international-tourism-management&auth=IMfV0KteiWzUCFA%2B%2BCXzlQ&profile=_default&rank=137&query=%7CT%3A%22%24%2B%2B+Course+%24%2B%2B%22 saved successfully in Master_of_International_Tourism_Management.txt.\n",
      "Content from https://www.aut.ac.nz/s/redirect?collection=aut-ac-nz-meta-dev&url=https%3A%2F%2Fwww.aut.ac.nz%2Fstudy%2Fstudy-options%2Fhealth-sciences%2Fcourses%2Fbachelor-of-health-science-in-podiatry&auth=VJxZR7N%2BlOVTPTKvn9Ui1Q&profile=_default&rank=138&query=%7CT%3A%22%24%2B%2B+Course+%24%2B%2B%22 saved successfully in Bachelor_of_Health_Science_(Podiatry).txt.\n",
      "Content from https://www.aut.ac.nz/s/redirect?collection=aut-ac-nz-meta-dev&url=https%3A%2F%2Fwww.aut.ac.nz%2Fcourses%2Fdiploma-in-arts&auth=UbwEwXhpRmYgoUcZbLsO0Q&profile=_default&rank=139&query=%7CT%3A%22%24%2B%2B+Course+%24%2B%2B%22 saved successfully in Diploma_in_Arts.txt.\n",
      "Content from https://www.aut.ac.nz/s/redirect?collection=aut-ac-nz-meta-dev&url=https%3A%2F%2Fwww.aut.ac.nz%2Fstudy%2Fstudy-options%2Fhealth-sciences%2Fcourses%2Fmaster-of-health-practice%2Facupuncture&auth=RZls2AWE9YCeoFMLOBXIaQ&profile=_default&rank=141&query=%7CT%3A%22%24%2B%2B+Course+%24%2B%2B%22 saved successfully in Acupuncture_-_Master_of_Health_Practice.txt.\n",
      "Content from https://www.aut.ac.nz/s/redirect?collection=aut-ac-nz-meta-dev&url=https%3A%2F%2Fwww.aut.ac.nz%2Fcourses%2Fbachelor-of-engineering-honours%2Fsoftware-engineering-major&auth=b2kE49RJbJ%2F1VupIDUsk4A&profile=_default&rank=142&query=%7CT%3A%22%24%2B%2B+Course+%24%2B%2B%22 saved successfully in Study_Software_Engineering_-_Bachelor_of_Engineering_(Honours).txt.\n",
      "Content from https://www.aut.ac.nz/s/redirect?collection=aut-ac-nz-meta-dev&url=https%3A%2F%2Fwww.aut.ac.nz%2Fstudy%2Fstudy-options%2Fhealth-sciences%2Fcourses%2Fbachelor-of-health-science-honours&auth=gTbm%2By70V4j0ZzmdGs8NQA&profile=_default&rank=143&query=%7CT%3A%22%24%2B%2B+Course+%24%2B%2B%22 saved successfully in Bachelor_of_Health_Science_(Honours).txt.\n",
      "Content from https://www.aut.ac.nz/s/redirect?collection=aut-ac-nz-meta-dev&url=https%3A%2F%2Fwww.aut.ac.nz%2Fstudy%2Fstudy-options%2Fengineering-computer-and-mathematical-sciences%2Fcourses%2Fbachelor-of-computer-and-information-sciences%2Fcomputer-science-major-bachelor-of-computer-and-information-sciences&auth=GMtcreNRqE7rflaobw4uXQ&profile=_default&rank=144&query=%7CT%3A%22%24%2B%2B+Course+%24%2B%2B%22 saved successfully in Computer_Science_Major_-_Bachelor_of_Computer_and_Information_Sciences.txt.\n"
     ]
    },
    {
     "name": "stdout",
     "output_type": "stream",
     "text": [
      "Content from https://www.aut.ac.nz/s/redirect?collection=aut-ac-nz-meta-dev&url=https%3A%2F%2Fwww.aut.ac.nz%2Fstudy%2Fstudy-options%2Fbusiness%2Fcourses%2Fbachelor-of-business-honours%2Finternational-business-specialisation-bachelor-of-business-honours&auth=Oarlqvz8fJP40T1rzGv9pg&profile=_default&rank=145&query=%7CT%3A%22%24%2B%2B+Course+%24%2B%2B%22 saved successfully in International_Business_Specialisation_-_Bachelor_of_Business_(Honours).txt.\n",
      "Content from https://www.aut.ac.nz/s/redirect?collection=aut-ac-nz-meta-dev&url=https%3A%2F%2Fwww.aut.ac.nz%2Fstudy%2Fstudy-options%2Farchitecture-and-built-environment%2Fcourses%2Fbachelor-of-construction%2Fquantity-surveying-major-bachelor-of-construction&auth=Pcj6snmlXSNetVJ4kETj1w&profile=_default&rank=146&query=%7CT%3A%22%24%2B%2B+Course+%24%2B%2B%22 saved successfully in Study_Quantity_Surveying_–_Bachelor_of_Construction.txt.\n",
      "Content from https://www.aut.ac.nz/s/redirect?collection=aut-ac-nz-meta-dev&url=https%3A%2F%2Fwww.aut.ac.nz%2Fstudy%2Fstudy-options%2Fengineering-computer-and-mathematical-sciences%2Fcourses%2Fpostgraduate-diploma-in-computer-and-information-sciences&auth=nB4F3zGseSUcPDY8vK%2FMOA&profile=_default&rank=147&query=%7CT%3A%22%24%2B%2B+Course+%24%2B%2B%22 saved successfully in Postgraduate_Diploma_in_Computer_and_Information_Sciences.txt.\n",
      "Content from https://www.aut.ac.nz/s/redirect?collection=aut-ac-nz-meta-dev&url=https%3A%2F%2Fwww.aut.ac.nz%2Fstudy%2Fstudy-options%2Fcommunication-studies%2Fcourses%2Fbachelor-of-communication-studies%2Fdigital-communication-major&auth=zOSTv1SzaS7Unc%2FQL1Jkjg&profile=_default&rank=148&query=%7CT%3A%22%24%2B%2B+Course+%24%2B%2B%22 saved successfully in Digital_Communication_Major_-_Bachelor_of_Communication_Studies.txt.\n",
      "Content from https://www.aut.ac.nz/s/redirect?collection=aut-ac-nz-meta-dev&url=https%3A%2F%2Fwww.aut.ac.nz%2Fstudy%2Fstudy-options%2Fhospitality-tourism-and-events%2Fcourses%2Fbachelor-of-international-hospitality-management%2Fhospitality-enterprise-major-bachelor-of-international-hospitality-management&auth=pmA%2Flmo%2BPiq9AZ%2FbeVEXJQ&profile=_default&rank=149&query=%7CT%3A%22%24%2B%2B+Course+%24%2B%2B%22 saved successfully in Hospitality_Enterprise_Major_-_Bachelor_of_International_Hospitality….txt.\n",
      "Content from https://www.aut.ac.nz/s/redirect?collection=aut-ac-nz-meta-dev&url=https%3A%2F%2Fwww.aut.ac.nz%2Fstudy%2Fstudy-options%2Fhealth-sciences%2Fcourses%2Fmaster-of-health-practice%2Fmaori-health&auth=dG%2FX%2BZ3GXNSOVnAO4X2udQ&profile=_default&rank=150&query=%7CT%3A%22%24%2B%2B+Course+%24%2B%2B%22 saved successfully in Māori_Health_-_Master_of_Health_Practice.txt.\n",
      "Content from https://www.aut.ac.nz/s/redirect?collection=aut-ac-nz-meta-dev&url=https%3A%2F%2Fwww.aut.ac.nz%2Fcourses%2Fbachelor-of-arts%2Finternational-studies-major&auth=V%2F9ltjKRSsmOJiGAHPfvIw&profile=_default&rank=151&query=%7CT%3A%22%24%2B%2B+Course+%24%2B%2B%22 saved successfully in International_Studies_Major_-_Bachelor_of_Arts.txt.\n",
      "Content from https://www.aut.ac.nz/s/redirect?collection=aut-ac-nz-meta-dev&url=https%3A%2F%2Fwww.aut.ac.nz%2Fstudy%2Fstudy-options%2Fhealth-sciences%2Fcourses%2Fpostgraduate-certificate-in-health-science%2Fleadership-and-management&auth=SOiXpB5Ho64PQ%2Bwds2F7dA&profile=_default&rank=152&query=%7CT%3A%22%24%2B%2B+Course+%24%2B%2B%22 saved successfully in Leadership_and_Management_-_Postgraduate_Certificate_in_Health_Science.txt.\n",
      "Content from https://www.aut.ac.nz/s/redirect?collection=aut-ac-nz-meta-dev&url=https%3A%2F%2Fwww.aut.ac.nz%2Fstudy%2Fstudy-options%2Fhealth-sciences%2Fcourses%2Fpostgraduate-diploma-in-health-science%2Fviolence-and-trauma-studies&auth=rxopZKw8BuVL5FpjJqociQ&profile=_default&rank=153&query=%7CT%3A%22%24%2B%2B+Course+%24%2B%2B%22 saved successfully in Violence_and_Trauma_Studies_-_Postgraduate_Diploma_in_Health_Science.txt.\n",
      "Content from https://www.aut.ac.nz/s/redirect?collection=aut-ac-nz-meta-dev&url=https%3A%2F%2Fwww.aut.ac.nz%2Fcourses%2Fbachelor-of-arts-honours%2Fpsychology-bachelor-of-arts-honours&auth=Nbf4kvPz5r9NNQb18Iz1og&profile=_default&rank=154&query=%7CT%3A%22%24%2B%2B+Course+%24%2B%2B%22 saved successfully in Psychology_-_Bachelor_of_Arts_(Honours).txt.\n",
      "Content from https://www.aut.ac.nz/s/redirect?collection=aut-ac-nz-meta-dev&url=https%3A%2F%2Fwww.aut.ac.nz%2Fstudy%2Fstudy-options%2Fengineering-computer-and-mathematical-sciences%2Fcourses%2Fmaster-of-it-project-management&auth=E%2FLDJZEGAuK8CBkOcIDOYw&profile=_default&rank=155&query=%7CT%3A%22%24%2B%2B+Course+%24%2B%2B%22 saved successfully in Master_of_IT_Project_Management.txt.\n",
      "Content from https://www.aut.ac.nz/s/redirect?collection=aut-ac-nz-meta-dev&url=https%3A%2F%2Fwww.aut.ac.nz%2Fstudy%2Fstudy-options%2Fbusiness%2Fcourses%2Fpostgraduate-certificate-in-business-studies&auth=v9qfa%2BSr1hFekU3GW7OlDg&profile=_default&rank=156&query=%7CT%3A%22%24%2B%2B+Course+%24%2B%2B%22 saved successfully in Postgraduate_Certificate_in_Business_Studies.txt.\n",
      "Content from https://www.aut.ac.nz/s/redirect?collection=aut-ac-nz-meta-dev&url=https%3A%2F%2Fwww.aut.ac.nz%2Fstudy%2Fstudy-options%2Feducation%2Fcourses%2Fpostgraduate-certificate-in-education%2Feducational-leadership-specialisation-postgraduate-certificate-in-education&auth=RdfqIDmZFdND3cpxFjcmyA&profile=_default&rank=157&query=%7CT%3A%22%24%2B%2B+Course+%24%2B%2B%22 saved successfully in Educational_Leadership_specialisation_-_Postgraduate_Certificate_in….txt.\n",
      "Content from https://www.aut.ac.nz/s/redirect?collection=aut-ac-nz-meta-dev&url=https%3A%2F%2Fwww.aut.ac.nz%2Fstudy%2Fstudy-options%2Feducation%2Fcourses%2Fgraduate-diploma-in-secondary-teaching&auth=dEqPp5ako%2B%2FqaUiu2IPdgA&profile=_default&rank=158&query=%7CT%3A%22%24%2B%2B+Course+%24%2B%2B%22 saved successfully in Graduate_Diploma_in_Secondary_Teaching.txt.\n",
      "Content from https://www.aut.ac.nz/s/redirect?collection=aut-ac-nz-meta-dev&url=https%3A%2F%2Fwww.aut.ac.nz%2Fstudy%2Fstudy-options%2Fbusiness%2Fcourses%2Fpostgraduate-certificate-in-business&auth=gTDy%2FR7N0ze6hrpZj%2FAyRw&profile=_default&rank=159&query=%7CT%3A%22%24%2B%2B+Course+%24%2B%2B%22 saved successfully in Postgraduate_Certificate_in_Business.txt.\n",
      "Content from https://www.aut.ac.nz/s/redirect?collection=aut-ac-nz-meta-dev&url=https%3A%2F%2Fwww.aut.ac.nz%2Fstudy%2Fstudy-options%2Fbusiness%2Fcourses%2Fpostgraduate-diploma-in-business-management&auth=zVD8A%2FFSZfA0kNoeyxo6Mw&profile=_default&rank=160&query=%7CT%3A%22%24%2B%2B+Course+%24%2B%2B%22 saved successfully in Postgraduate_Diploma_in_Business_Management.txt.\n",
      "Content from https://www.aut.ac.nz/s/redirect?collection=aut-ac-nz-meta-dev&url=https%3A%2F%2Fwww.aut.ac.nz%2Fstudy%2Fstudy-options%2Fbusiness%2Fcourses%2Fmaster-of-business-administration&auth=TB%2FVzrk1J9fO0IHDaqZ8Dg&profile=_default&rank=161&query=%7CT%3A%22%24%2B%2B+Course+%24%2B%2B%22 saved successfully in Master_of_Business_Administration.txt.\n",
      "Content from https://www.aut.ac.nz/s/redirect?collection=aut-ac-nz-meta-dev&url=https%3A%2F%2Fwww.aut.ac.nz%2Fstudy%2Fstudy-options%2Fengineering-computer-and-mathematical-sciences%2Fcourses%2Fmaster-of-construction-management&auth=o5vU9jnN96yfaT3SmRXQ9A&profile=_default&rank=162&query=%7CT%3A%22%24%2B%2B+Course+%24%2B%2B%22 saved successfully in Master_of_Construction_Management.txt.\n",
      "Content from https://www.aut.ac.nz/s/redirect?collection=aut-ac-nz-meta-dev&url=https%3A%2F%2Fwww.aut.ac.nz%2Fstudy%2Fstudy-options%2Fcommunication-studies%2Fcourses%2Fbachelor-of-communication-studies%2Fradio-audio-media-major&auth=Iwp4MiEeELNrYh8YDiLNug&profile=_default&rank=163&query=%7CT%3A%22%24%2B%2B+Course+%24%2B%2B%22 saved successfully in Radio_and_Audio_Media_Major_-_Bachelor_of_Communication_Studies.txt.\n",
      "Content from https://www.aut.ac.nz/s/redirect?collection=aut-ac-nz-meta-dev&url=https%3A%2F%2Fwww.aut.ac.nz%2Fstudy%2Fstudy-options%2Fbusiness%2Fcourses%2Fpostgraduate-certificate-in-business-administration&auth=46x5Z5Xqcnutv4kkhcto5w&profile=_default&rank=164&query=%7CT%3A%22%24%2B%2B+Course+%24%2B%2B%22 saved successfully in Postgraduate_Certificate_in_Business_Administration.txt.\n",
      "Content from https://www.aut.ac.nz/s/redirect?collection=aut-ac-nz-meta-dev&url=https%3A%2F%2Fwww.aut.ac.nz%2Fstudy%2Fstudy-options%2Fhealth-sciences%2Fcourses%2Fpostgraduate-diploma-in-health-science%2Fmaori-health&auth=YkwDqCkq83ab%2BMOnI56Vcw&profile=_default&rank=165&query=%7CT%3A%22%24%2B%2B+Course+%24%2B%2B%22 saved successfully in Māori_Health_-_Postgraduate_Diploma_in_Health_Science.txt.\n"
     ]
    },
    {
     "name": "stdout",
     "output_type": "stream",
     "text": [
      "Content from https://www.aut.ac.nz/s/redirect?collection=aut-ac-nz-meta-dev&url=https%3A%2F%2Fwww.aut.ac.nz%2Fcourses%2Fdoctor-of-philosophy&auth=pHi1QNWyQpIQsulj4D663Q&profile=_default&rank=166&query=%7CT%3A%22%24%2B%2B+Course+%24%2B%2B%22 saved successfully in Doctor_of_Philosophy_(PhD).txt.\n",
      "Content from https://www.aut.ac.nz/s/redirect?collection=aut-ac-nz-meta-dev&url=https%3A%2F%2Fwww.aut.ac.nz%2Fcourses%2Fbachelor-of-arts%2Fglobal-tourism-major-bachelor-of-arts&auth=%2F%2FkU2ATSYiQTXwKS5Cpr6Q&profile=_default&rank=167&query=%7CT%3A%22%24%2B%2B+Course+%24%2B%2B%22 saved successfully in Global_Tourism_Major_-_Bachelor_of_Arts.txt.\n",
      "Content from https://www.aut.ac.nz/s/redirect?collection=aut-ac-nz-meta-dev&url=https%3A%2F%2Fwww.aut.ac.nz%2Fcourses%2Fbachelor-of-science%2Fmathematical-modelling-and-computation-major&auth=4UlJSmOFjoOpT8Xbm8V7jw&profile=_default&rank=168&query=%7CT%3A%22%24%2B%2B+Course+%24%2B%2B%22 saved successfully in Mathematical_Modelling_and_Computation_Major_-_Bachelor_of_Science.txt.\n",
      "Content from https://www.aut.ac.nz/s/redirect?collection=aut-ac-nz-meta-dev&url=https%3A%2F%2Fwww.aut.ac.nz%2Fstudy%2Fstudy-options%2Feducation%2Fcourses%2Fbachelor-of-education%2Fearly-childhood-teaching-major&auth=pSOJUAkNxQaaEoUjrleSNA&profile=_default&rank=169&query=%7CT%3A%22%24%2B%2B+Course+%24%2B%2B%22 saved successfully in Early_Childhood_Teaching_-_Bachelor_of_Education.txt.\n",
      "Content from https://www.aut.ac.nz/s/redirect?collection=aut-ac-nz-meta-dev&url=https%3A%2F%2Fwww.aut.ac.nz%2Fstudy%2Fstudy-options%2Fengineering-computer-and-mathematical-sciences%2Fcourses%2Fbachelor-of-engineering-technology&auth=VPjklklGkrl2oK7aoMO4cg&profile=_default&rank=170&query=%7CT%3A%22%24%2B%2B+Course+%24%2B%2B%22 saved successfully in Bachelor_of_Engineering_Technology.txt.\n",
      "Content from https://www.aut.ac.nz/s/redirect?collection=aut-ac-nz-meta-dev&url=https%3A%2F%2Fwww.aut.ac.nz%2Fstudy%2Fstudy-options%2Fhealth-sciences%2Fcourses%2Fmaster-of-health-practice%2Fparamedicine&auth=Gjg0oAg1v4cb5%2FD0CtBeAw&profile=_default&rank=171&query=%7CT%3A%22%24%2B%2B+Course+%24%2B%2B%22 saved successfully in Paramedicine_-_Master_of_Health_Practice.txt.\n",
      "Content from https://www.aut.ac.nz/s/redirect?collection=aut-ac-nz-meta-dev&url=https%3A%2F%2Fwww.aut.ac.nz%2Fstudy%2Fstudy-options%2Fcommunication-studies%2Fcourses%2Fmaster-of-communication-studies&auth=AsFwQ%2BkVlCIWJ8bXdOHs6A&profile=_default&rank=172&query=%7CT%3A%22%24%2B%2B+Course+%24%2B%2B%22 saved successfully in Master_of_Communication_Studies.txt.\n",
      "Content from https://www.aut.ac.nz/s/redirect?collection=aut-ac-nz-meta-dev&url=https%3A%2F%2Fwww.aut.ac.nz%2Fstudy%2Fstudy-options%2Fsport-and-recreation%2Fcourses%2Fbody-composition-anthropometry-courses&auth=hMzkfVT%2F5CBCq6akYOjoDg&profile=_default&rank=173&query=%7CT%3A%22%24%2B%2B+Course+%24%2B%2B%22 saved successfully in Body_composition_(anthropometry)_courses_(ISAK).txt.\n",
      "Content from https://www.aut.ac.nz/s/redirect?collection=aut-ac-nz-meta-dev&url=https%3A%2F%2Fwww.aut.ac.nz%2Fcourses%2Fbachelor-of-arts-honours%2Feducation-bachelor-of-arts-honours&auth=Ypt1jfP%2FWX98Ahm%2FKdvgNw&profile=_default&rank=174&query=%7CT%3A%22%24%2B%2B+Course+%24%2B%2B%22 saved successfully in Education_-_Bachelor_of_Arts_(Honours).txt.\n",
      "Content from https://www.aut.ac.nz/s/redirect?collection=aut-ac-nz-meta-dev&url=https%3A%2F%2Fwww.aut.ac.nz%2Fstudy%2Fstudy-options%2Fbusiness%2Fcourses%2Fbachelor-of-business&auth=i82fWHVFLNEyJPWwbYYJ2g&profile=_default&rank=175&query=%7CT%3A%22%24%2B%2B+Course+%24%2B%2B%22 saved successfully in Bachelor_of_Business.txt.\n",
      "Content from https://www.aut.ac.nz/s/redirect?collection=aut-ac-nz-meta-dev&url=https%3A%2F%2Fwww.aut.ac.nz%2Fstudy%2Fstudy-options%2Fbusiness%2Fcourses%2Fbachelor-of-business-honours&auth=qjHJAxke1qIBThv56DbTgQ&profile=_default&rank=176&query=%7CT%3A%22%24%2B%2B+Course+%24%2B%2B%22 saved successfully in Bachelor_of_Business_(Honours).txt.\n",
      "Content from https://www.aut.ac.nz/s/redirect?collection=aut-ac-nz-meta-dev&url=https%3A%2F%2Fwww.aut.ac.nz%2Fstudy%2Fstudy-options%2Fhospitality-tourism-and-events%2Fcourses%2Fbachelor-of-international-hospitality-management%2Fhospitality-management-major-bachelor-of-international-hospitality-management&auth=P7w1Vud67aJhWeev9zatHw&profile=_default&rank=177&query=%7CT%3A%22%24%2B%2B+Course+%24%2B%2B%22 saved successfully in Hospitality_Management_Major_-_Bachelor_of_International_Hospitality….txt.\n",
      "Content from https://www.aut.ac.nz/s/redirect?collection=aut-ac-nz-meta-dev&url=https%3A%2F%2Fwww.aut.ac.nz%2Fcourses%2Fbachelor-of-arts%2Fsocial-sciences-major&auth=iaLoNjFCoaecLiXAEl7GQw&profile=_default&rank=178&query=%7CT%3A%22%24%2B%2B+Course+%24%2B%2B%22 saved successfully in Social_Sciences_Degree_-_Bachelor_of_Arts.txt.\n",
      "Content from https://www.aut.ac.nz/s/redirect?collection=aut-ac-nz-meta-dev&url=https%3A%2F%2Fwww.aut.ac.nz%2Fstudy%2Fstudy-options%2Fsport-and-recreation%2Fcourses%2Fbachelor-of-sport-exercise-and-health%2Fhealth-and-physical-education-major-bachelor-of-sport%2C-exercise-and-health&auth=VT95AL3JpS9kHYm4jhnMvw&profile=_default&rank=179&query=%7CT%3A%22%24%2B%2B+Course+%24%2B%2B%22 saved successfully in Health_and_Physical_Education_Major_-_Bachelor_of_Sport,_Exercise_and_….txt.\n",
      "Content from https://www.aut.ac.nz/s/redirect?collection=aut-ac-nz-meta-dev&url=https%3A%2F%2Fwww.aut.ac.nz%2Fcourses%2Fbachelor-of-engineering-honours%2Felectrical-and-electronic-engineering-major&auth=cMWNEBDnWyvAn4a05pKwgQ&profile=_default&rank=181&query=%7CT%3A%22%24%2B%2B+Course+%24%2B%2B%22 saved successfully in Electrical_and_Electronic_Engineering_Major_-_Bachelor_of_Engineering_….txt.\n",
      "Content from https://www.aut.ac.nz/s/redirect?collection=aut-ac-nz-meta-dev&url=https%3A%2F%2Fwww.aut.ac.nz%2Fstudy%2Fstudy-options%2Fbusiness%2Fcourses%2Fbachelor-of-business-honours%2Fsport-leadership-and-management-specialisation-bachelor-of-business-honours&auth=pzLclYbuFZxQWMhQPCzdrw&profile=_default&rank=182&query=%7CT%3A%22%24%2B%2B+Course+%24%2B%2B%22 saved successfully in Sport_Leadership_and_Management_Specialisation_-_Bachelor_of_Business_….txt.\n",
      "Content from https://www.aut.ac.nz/s/redirect?collection=aut-ac-nz-meta-dev&url=https%3A%2F%2Fwww.aut.ac.nz%2Fcourses%2Fbachelor-of-design-te-tohu-paetahi-mo-te-hoahoa%2Fspatial-design-major&auth=GgtnPeun6Re2ueEyUweUCg&profile=_default&rank=183&query=%7CT%3A%22%24%2B%2B+Course+%24%2B%2B%22 saved successfully in Spatial_and_Interior_Design_major_-_Bachelor_of_Design_Te_Tohu….txt.\n",
      "Content from https://www.aut.ac.nz/s/redirect?collection=aut-ac-nz-meta-dev&url=https%3A%2F%2Fwww.aut.ac.nz%2Fcourses%2Fbachelor-of-arts%2Fevent-management-major&auth=Wx43c25%2Fk2B61yap9kZI5w&profile=_default&rank=184&query=%7CT%3A%22%24%2B%2B+Course+%24%2B%2B%22 saved successfully in Event_Management_Major_-_Bachelor_of_Arts.txt.\n",
      "Content from https://www.aut.ac.nz/s/redirect?collection=aut-ac-nz-meta-dev&url=https%3A%2F%2Fwww.aut.ac.nz%2Fstudy%2Fstudy-options%2Feducation%2Fcourses%2Fmaster-of-education%2Feducational-leadership-specialisation-master-of-education&auth=sWPR6ojnlyGJZK1giM4a4A&profile=_default&rank=185&query=%7CT%3A%22%24%2B%2B+Course+%24%2B%2B%22 saved successfully in Educational_Leadership_specialisation_-_Master_of_Education.txt.\n",
      "Content from https://www.aut.ac.nz/s/redirect?collection=aut-ac-nz-meta-dev&url=https%3A%2F%2Fwww.aut.ac.nz%2Fstudy%2Fstudy-options%2Fhealth-sciences%2Fcourses%2Fbachelor-of-health-science-physiotherapy-honours&auth=MwxEFmfVXNbdy3tZ2Tc8mw&profile=_default&rank=186&query=%7CT%3A%22%24%2B%2B+Course+%24%2B%2B%22 saved successfully in Bachelor_of_Health_Science_(Physiotherapy)_(Honours).txt.\n",
      "Content from https://www.aut.ac.nz/s/redirect?collection=aut-ac-nz-meta-dev&url=https%3A%2F%2Fwww.aut.ac.nz%2Fstudy%2Fstudy-options%2Farchitecture-and-built-environment%2Fcourses%2Fbachelor-of-construction%2Fconstruction-management-major-bachelor-of-construction&auth=jyT3EQsPvu7PK%2FNBvZJJhg&profile=_default&rank=187&query=%7CT%3A%22%24%2B%2B+Course+%24%2B%2B%22 saved successfully in Construction_Management_Major_–_Bachelor_of_Construction.txt.\n",
      "Content from https://www.aut.ac.nz/s/redirect?collection=aut-ac-nz-meta-dev&url=https%3A%2F%2Fwww.aut.ac.nz%2Fstudy%2Fstudy-options%2Fcommunication-studies%2Fcourses%2Fpostgraduate-diploma-in-communication-studies&auth=v2I3XJ3ruILWteS%2Bdgkk2g&profile=_default&rank=188&query=%7CT%3A%22%24%2B%2B+Course+%24%2B%2B%22 saved successfully in Postgraduate_Diploma_in_Communication_Studies.txt.\n"
     ]
    },
    {
     "name": "stdout",
     "output_type": "stream",
     "text": [
      "Content from https://www.aut.ac.nz/s/redirect?collection=aut-ac-nz-meta-dev&url=https%3A%2F%2Fwww.aut.ac.nz%2Fstudy%2Fstudy-options%2Feducation%2Fcourses%2Fbachelor-of-education%2Fprimary-teaching-major&auth=6PV5G92oYP4Gqw6fyDX4hA&profile=_default&rank=190&query=%7CT%3A%22%24%2B%2B+Course+%24%2B%2B%22 saved successfully in Primary_Teaching_-_Bachelor_of_Education.txt.\n",
      "Content from https://www.aut.ac.nz/s/redirect?collection=aut-ac-nz-meta-dev&url=https%3A%2F%2Fwww.aut.ac.nz%2Fstudy%2Fstudy-options%2Fengineering-computer-and-mathematical-sciences%2Fcourses%2Fmaster-of-engineering&auth=yLcZlOJ6EnQxYcpMfmj19Q&profile=_default&rank=191&query=%7CT%3A%22%24%2B%2B+Course+%24%2B%2B%22 saved successfully in Master_of_Engineering.txt.\n",
      "Content from https://www.aut.ac.nz/s/redirect?collection=aut-ac-nz-meta-dev&url=https%3A%2F%2Fwww.aut.ac.nz%2Fcourses%2Fbachelor-of-arts&auth=KNw2C3h3sEE9KgqOQh39%2FA&profile=_default&rank=192&query=%7CT%3A%22%24%2B%2B+Course+%24%2B%2B%22 saved successfully in Bachelor_of_Arts.txt.\n",
      "Content from https://www.aut.ac.nz/s/redirect?collection=aut-ac-nz-meta-dev&url=https%3A%2F%2Fwww.aut.ac.nz%2Fstudy%2Fstudy-options%2Fengineering-computer-and-mathematical-sciences%2Fcourses%2Fdiploma-in-computer-and-information-sciences&auth=M%2FAjPXRwnqaDZysggpn7HA&profile=_default&rank=193&query=%7CT%3A%22%24%2B%2B+Course+%24%2B%2B%22 saved successfully in Diploma_in_Computer_and_Information_Sciences.txt.\n",
      "Content from https://www.aut.ac.nz/s/redirect?collection=aut-ac-nz-meta-dev&url=https%3A%2F%2Fwww.aut.ac.nz%2Fcourses%2Fbachelor-of-science%2Fanalytics-major&auth=IZIfAut3R6%2FGpHD5c3ZdhQ&profile=_default&rank=194&query=%7CT%3A%22%24%2B%2B+Course+%24%2B%2B%22 saved successfully in Analytics_Major_-_Bachelor_of_Science.txt.\n",
      "Content from https://www.aut.ac.nz/s/redirect?collection=aut-ac-nz-meta-dev&url=https%3A%2F%2Fwww.aut.ac.nz%2Fcourses%2Fdoctor-of-philosophy%2Four-phd-students-and-alumni&auth=5UTWpaKgHAq1zujkzGYOFw&profile=_default&rank=195&query=%7CT%3A%22%24%2B%2B+Course+%24%2B%2B%22 saved successfully in Our_PhD_students_and_alumni.txt.\n",
      "Content from https://www.aut.ac.nz/s/redirect?collection=aut-ac-nz-meta-dev&url=https%3A%2F%2Fwww.aut.ac.nz%2Fstudy%2Fstudy-options%2Fbusiness%2Fcourses%2Fpostgraduate-diploma-in-business-administration&auth=TzTE95XuSuDgEmJUG2%2F6zg&profile=_default&rank=196&query=%7CT%3A%22%24%2B%2B+Course+%24%2B%2B%22 saved successfully in Postgraduate_Diploma_in_Business_Administration.txt.\n",
      "Content from https://www.aut.ac.nz/s/redirect?collection=aut-ac-nz-meta-dev&url=https%3A%2F%2Fwww.aut.ac.nz%2Fstudy%2Fstudy-options%2Fhospitality-tourism-and-events%2Fcourses%2Fmaster-of-international-hospitality-management&auth=9d4FiPlPK9IB%2FJeFP5VC2g&profile=_default&rank=197&query=%7CT%3A%22%24%2B%2B+Course+%24%2B%2B%22 saved successfully in Master_of_International_Hospitality_Management.txt.\n",
      "Content from https://www.aut.ac.nz/s/redirect?collection=aut-ac-nz-meta-dev&url=https%3A%2F%2Fwww.aut.ac.nz%2Fstudy%2Fstudy-options%2Fbusiness%2Fcourses%2Fbachelor-of-business%2Ffinance-major&auth=MfJKBJ4%2BQbsJqQZ%2BbYGhNg&profile=_default&rank=198&query=%7CT%3A%22%24%2B%2B+Course+%24%2B%2B%22 saved successfully in Finance_Major_-_Bachelor_of_Business.txt.\n",
      "Content from https://www.aut.ac.nz/s/redirect?collection=aut-ac-nz-meta-dev&url=https%3A%2F%2Fwww.aut.ac.nz%2Fstudy%2Fstudy-options%2Fhealth-sciences%2Fcourses%2Fgraduate-diploma-in-psychotherapy-studies&auth=BNWx6swyCXIv7UHwkGaNMQ&profile=_default&rank=199&query=%7CT%3A%22%24%2B%2B+Course+%24%2B%2B%22 saved successfully in Graduate_Diploma_in_Psychotherapy_Studies.txt.\n",
      "Content from https://www.aut.ac.nz/s/redirect?collection=aut-ac-nz-meta-dev&url=https%3A%2F%2Fwww.aut.ac.nz%2Fstudy%2Fstudy-options%2Farchitecture-and-built-environment%2Fcourses%2Fgraduate-diploma-in-architecture&auth=Wv%2B48uenex7Cm0gwc3Bd5g&profile=_default&rank=200&query=%7CT%3A%22%24%2B%2B+Course+%24%2B%2B%22 saved successfully in Graduate_Diploma_in_Architecture.txt.\n",
      "Content from https://www.aut.ac.nz/s/redirect?collection=aut-ac-nz-meta-dev&url=https%3A%2F%2Fwww.aut.ac.nz%2Fstudy%2Fstudy-options%2Fhospitality-tourism-and-events%2Fcourses%2Fbachelor-of-international-hospitality-management&auth=7Z4BGT7BulxY7eJaQyB3bw&profile=_default&rank=202&query=%7CT%3A%22%24%2B%2B+Course+%24%2B%2B%22 saved successfully in Bachelor_of_International_Hospitality_Management.txt.\n",
      "Content from https://www.aut.ac.nz/s/redirect?collection=aut-ac-nz-meta-dev&url=https%3A%2F%2Fwww.aut.ac.nz%2Fcourses%2Fbachelor-of-arts%2Fmaori-media-major-bachelor-of-arts&auth=21ERCnboS9aLAQQPpsYREA&profile=_default&rank=203&query=%7CT%3A%22%24%2B%2B+Course+%24%2B%2B%22 saved successfully in Māori_Media_major_-_Bachelor_of_Arts.txt.\n",
      "Content from https://www.aut.ac.nz/s/redirect?collection=aut-ac-nz-meta-dev&url=https%3A%2F%2Fwww.aut.ac.nz%2Fcourses%2Fbachelor-of-engineering-honours&auth=3JJJQM%2FFW4VNJt5d2%2BTLLA&profile=_default&rank=204&query=%7CT%3A%22%24%2B%2B+Course+%24%2B%2B%22 saved successfully in Bachelor_of_Engineering_(Honours).txt.\n",
      "Content from https://www.aut.ac.nz/s/redirect?collection=aut-ac-nz-meta-dev&url=https%3A%2F%2Fwww.aut.ac.nz%2Fstudy%2Fstudy-options%2Fhealth-sciences%2Fcourses%2Fmaster-of-physiotherapy-practice&auth=oGnYLBnf4cljUC9xGiuOrQ&profile=_default&rank=205&query=%7CT%3A%22%24%2B%2B+Course+%24%2B%2B%22 saved successfully in Master_of_Physiotherapy_Practice.txt.\n",
      "Content from https://www.aut.ac.nz/s/redirect?collection=aut-ac-nz-meta-dev&url=https%3A%2F%2Fwww.aut.ac.nz%2Fcourses%2Fbachelor-of-science%2Fmarine-science-major&auth=97bpT7PaJ%2FHB%2BceND%2Bx1hg&profile=_default&rank=206&query=%7CT%3A%22%24%2B%2B+Course+%24%2B%2B%22 saved successfully in Marine_Science_Major_-_Bachelor_of_Science.txt.\n",
      "Content from https://www.aut.ac.nz/s/redirect?collection=aut-ac-nz-meta-dev&url=https%3A%2F%2Fwww.aut.ac.nz%2Fstudy%2Fstudy-options%2Fcommunication-studies%2Fcourses%2Fbachelor-of-communication-studies%2Fpublic-relations-major&auth=eHUw928vPTXGai5qArKDLw&profile=_default&rank=207&query=%7CT%3A%22%24%2B%2B+Course+%24%2B%2B%22 saved successfully in Public_Relations_Major_-_Bachelor_of_Communication_Studies.txt.\n",
      "Content from https://www.aut.ac.nz/s/redirect?collection=aut-ac-nz-meta-dev&url=https%3A%2F%2Fwww.aut.ac.nz%2Fstudy%2Fstudy-options%2Fhealth-sciences%2Fcourses%2Fpostgraduate-diploma-in-health-science%2Fleadership-and-management&auth=SAD%2FRCBuTYp9B%2BaemRBjkQ&profile=_default&rank=209&query=%7CT%3A%22%24%2B%2B+Course+%24%2B%2B%22 saved successfully in Leadership_and_Management_-_Postgraduate_Diploma_in_Health_Science.txt.\n",
      "Content from https://www.aut.ac.nz/s/redirect?collection=aut-ac-nz-meta-dev&url=https%3A%2F%2Fwww.aut.ac.nz%2Fstudy%2Fstudy-options%2Feducation%2Fcourses%2Fmaster-of-teaching-and-learning&auth=pQhSJ8ZZd%2FUxZjCwG32mVA&profile=_default&rank=210&query=%7CT%3A%22%24%2B%2B+Course+%24%2B%2B%22 saved successfully in Master_of_Teaching_and_Learning.txt.\n",
      "Content from https://www.aut.ac.nz/s/redirect?collection=aut-ac-nz-meta-dev&url=https%3A%2F%2Fwww.aut.ac.nz%2Fstudy%2Fstudy-options%2Fhealth-sciences%2Fcourses%2Fpostgraduate-diploma-in-health-science%2Fmusculoskeletal-physiotherapy&auth=9Z%2B1nD1NpsmuHnyYUqBCsw&profile=_default&rank=211&query=%7CT%3A%22%24%2B%2B+Course+%24%2B%2B%22 saved successfully in Musculoskeletal_Physiotherapy_-_Postgraduate_Diploma_in_Health_Science.txt.\n",
      "Content from https://www.aut.ac.nz/s/redirect?collection=aut-ac-nz-meta-dev&url=https%3A%2F%2Fwww.aut.ac.nz%2Fcourses%2Fbachelor-of-arts%2Finterpreting-major&auth=%2F7z6TFf7jsFOPZz0mFaMhw&profile=_default&rank=212&query=%7CT%3A%22%24%2B%2B+Course+%24%2B%2B%22 saved successfully in Interpreting_Major_-_Bachelor_of_Arts.txt.\n",
      "Content from https://www.aut.ac.nz/s/redirect?collection=aut-ac-nz-meta-dev&url=https%3A%2F%2Fwww.aut.ac.nz%2Fstudy%2Fstudy-options%2Fhealth-sciences%2Fcourses%2Fbachelor-of-health-science%2Fparamedicine-major&auth=O3pTK1OW7XnVGhxfwG4%2FBg&profile=_default&rank=213&query=%7CT%3A%22%24%2B%2B+Course+%24%2B%2B%22 saved successfully in Paramedicine_Major_-_Bachelor_of_Health_Science.txt.\n",
      "Content from https://www.aut.ac.nz/s/redirect?collection=aut-ac-nz-meta-dev&url=https%3A%2F%2Fwww.aut.ac.nz%2Fcourses%2Fbachelor-of-arts%2Fhistory-major-bachelor-of-arts&auth=vf4FC4acQzpt29xH7%2FtMfw&profile=_default&rank=214&query=%7CT%3A%22%24%2B%2B+Course+%24%2B%2B%22 saved successfully in History_Major_-_Bachelor_of_Arts.txt.\n"
     ]
    },
    {
     "name": "stdout",
     "output_type": "stream",
     "text": [
      "Content from https://www.aut.ac.nz/s/redirect?collection=aut-ac-nz-meta-dev&url=https%3A%2F%2Fwww.aut.ac.nz%2Fcourses%2Fbachelor-of-science-honours&auth=nMHkq%2BCk5W1u%2BG2sS%2Fklgw&profile=_default&rank=215&query=%7CT%3A%22%24%2B%2B+Course+%24%2B%2B%22 saved successfully in Bachelor_of_Science_(Honours).txt.\n",
      "Content from https://www.aut.ac.nz/s/redirect?collection=aut-ac-nz-meta-dev&url=https%3A%2F%2Fwww.aut.ac.nz%2Fcourses%2Fbachelor-of-design-te-tohu-paetahi-mo-te-hoahoa%2Findustrial-design-major&auth=Cw1FQuunrLOb3YdLyZkr0Q&profile=_default&rank=216&query=%7CT%3A%22%24%2B%2B+Course+%24%2B%2B%22 saved successfully in Study_Industrial_Design_-_Bachelor_of_Design_Te_Tohu_Paetahi_mō_te….txt.\n",
      "Content from https://www.aut.ac.nz/s/redirect?collection=aut-ac-nz-meta-dev&url=https%3A%2F%2Fwww.aut.ac.nz%2Fstudy%2Fstudy-options%2Fbusiness%2Fcourses%2Fbachelor-of-business%2Fbusiness-information-systems-major&auth=chIGEInB9p%2F4Ny7nofuUBA&profile=_default&rank=217&query=%7CT%3A%22%24%2B%2B+Course+%24%2B%2B%22 saved successfully in Information_Systems_Major_-_Bachelor_of_Business.txt.\n",
      "Content from https://www.aut.ac.nz/s/redirect?collection=aut-ac-nz-meta-dev&url=https%3A%2F%2Fwww.aut.ac.nz%2Fstudy%2Fstudy-options%2Fhealth-sciences%2Fcourses%2Fmaster-of-disaster-risk-management-and-development&auth=Bn3nwZkbC5DaNz%2BlW9RzSA&profile=_default&rank=218&query=%7CT%3A%22%24%2B%2B+Course+%24%2B%2B%22 saved successfully in Master_of_Disaster_Risk_Management_and_Development.txt.\n",
      "Content from https://www.aut.ac.nz/s/redirect?collection=aut-ac-nz-meta-dev&url=https%3A%2F%2Fwww.aut.ac.nz%2Fstudy%2Fstudy-options%2Fbusiness%2Fcourses%2Fpostgraduate-certificate-in-professional-accounting&auth=CtPvDLyGuYiDoS%2B4i81mRw&profile=_default&rank=219&query=%7CT%3A%22%24%2B%2B+Course+%24%2B%2B%22 saved successfully in Postgraduate_Certificate_in_Professional_Accounting.txt.\n",
      "Content from https://www.aut.ac.nz/s/redirect?collection=aut-ac-nz-meta-dev&url=https%3A%2F%2Fwww.aut.ac.nz%2Fstudy%2Fstudy-options%2Fhealth-sciences%2Fcourses%2Fbachelor-of-health-science%2Fpsychology-major&auth=xqYO2KjUf5HBUjXwBejNsw&profile=_default&rank=220&query=%7CT%3A%22%24%2B%2B+Course+%24%2B%2B%22 saved successfully in Psychology_Major_-_Bachelor_of_Health_Science.txt.\n",
      "Content from https://www.aut.ac.nz/s/redirect?collection=aut-ac-nz-meta-dev&url=https%3A%2F%2Fwww.aut.ac.nz%2Fcourses%2Fbachelor-of-arts%2Fmaori-development-major&auth=NPn4cKsrFUKYJt%2BlybJzpg&profile=_default&rank=221&query=%7CT%3A%22%24%2B%2B+Course+%24%2B%2B%22 saved successfully in Māori_Development_major_-_Bachelor_of_Arts.txt.\n",
      "Content from https://www.aut.ac.nz/s/redirect?collection=aut-ac-nz-meta-dev&url=https%3A%2F%2Fwww.aut.ac.nz%2Fstudy%2Fstudy-options%2Farchitecture-and-built-environment%2Fcourses%2Fbachelor-of-construction&auth=GqR8TtDmPK2OIEJfYFzkBA&profile=_default&rank=222&query=%7CT%3A%22%24%2B%2B+Course+%24%2B%2B%22 saved successfully in Bachelor_of_Construction.txt.\n",
      "Content from https://www.aut.ac.nz/s/redirect?collection=aut-ac-nz-meta-dev&url=https%3A%2F%2Fwww.aut.ac.nz%2Fstudy%2Fstudy-options%2Fengineering-computer-and-mathematical-sciences%2Fcourses%2Fbachelor-of-computer-and-information-sciences&auth=CTt%2FtkRuDOnM6o80VaTyCQ&profile=_default&rank=223&query=%7CT%3A%22%24%2B%2B+Course+%24%2B%2B%22 saved successfully in Bachelor_of_Computer_and_Information_Sciences.txt.\n",
      "Content from https://www.aut.ac.nz/s/redirect?collection=aut-ac-nz-meta-dev&url=https%3A%2F%2Fwww.aut.ac.nz%2Fcourses%2Fbachelor-of-arts%2Fcriminology-major&auth=vOp6CRferoGdUKmi3mFU1A&profile=_default&rank=224&query=%7CT%3A%22%24%2B%2B+Course+%24%2B%2B%22 saved successfully in Study_Criminology_and_Criminal_Justice_-_Bachelor_of_Arts.txt.\n",
      "Content from https://www.aut.ac.nz/s/redirect?collection=aut-ac-nz-meta-dev&url=https%3A%2F%2Fwww.aut.ac.nz%2Fcourses%2Fbachelor-of-arts%2Feconomics-major&auth=3aUNFm4dWuTkWAsgJuW23A&profile=_default&rank=225&query=%7CT%3A%22%24%2B%2B+Course+%24%2B%2B%22 saved successfully in Economics_Major_-_Bachelor_of_Arts.txt.\n",
      "Content from https://www.aut.ac.nz/s/redirect?collection=aut-ac-nz-meta-dev&url=https%3A%2F%2Fwww.aut.ac.nz%2Fstudy%2Fstudy-options%2Fbusiness%2Fcourses%2Fdiploma-in-business&auth=MbTQYDoc%2BLNgETcriOH91g&profile=_default&rank=226&query=%7CT%3A%22%24%2B%2B+Course+%24%2B%2B%22 saved successfully in Diploma_in_Business.txt.\n",
      "Content from https://www.aut.ac.nz/s/redirect?collection=aut-ac-nz-meta-dev&url=https%3A%2F%2Fwww.aut.ac.nz%2Fcourses%2Fbachelor-of-design-te-tohu-paetahi-mo-te-hoahoa%2Fcommunication-design-major&auth=45%2FGHVdzwtczPEPdapQoxA&profile=_default&rank=227&query=%7CT%3A%22%24%2B%2B+Course+%24%2B%2B%22 saved successfully in Communication_Design_Major_-_Bachelor_of_Design_Te_Tohu_Paetahi_mō_te_….txt.\n",
      "Content from https://www.aut.ac.nz/s/redirect?collection=aut-ac-nz-meta-dev&url=https%3A%2F%2Fwww.aut.ac.nz%2Fstudy%2Fstudy-options%2Fhealth-sciences%2Fcourses%2Fpostgraduate-certificate-in-public-health&auth=aBson22M44ETNhNQ7BzA0g&profile=_default&rank=228&query=%7CT%3A%22%24%2B%2B+Course+%24%2B%2B%22 saved successfully in Postgraduate_Certificate_in_Public_Health.txt.\n",
      "Content from https://www.aut.ac.nz/s/redirect?collection=aut-ac-nz-meta-dev&url=https%3A%2F%2Fwww.aut.ac.nz%2Fstudy%2Fstudy-options%2Fengineering-computer-and-mathematical-sciences%2Fcourses%2Fmaster-of-computer-and-information-sciences&auth=VT3QPauOTMPX6yjrE63Crg&profile=_default&rank=229&query=%7CT%3A%22%24%2B%2B+Course+%24%2B%2B%22 saved successfully in Master_of_Computer_and_Information_Sciences.txt.\n",
      "Content from https://www.aut.ac.nz/s/redirect?collection=aut-ac-nz-meta-dev&url=https%3A%2F%2Fwww.aut.ac.nz%2Fstudy%2Fstudy-options%2Fsocial-sciences-and-public-policy%2Fcourses%2Fmaster-of-criminology-and-criminal-justice&auth=rqRqcir2teTJueSpOvQ7UQ&profile=_default&rank=231&query=%7CT%3A%22%24%2B%2B+Course+%24%2B%2B%22 saved successfully in Master_of_Criminology_and_Criminal_Justice.txt.\n",
      "Content from https://www.aut.ac.nz/s/redirect?collection=aut-ac-nz-meta-dev&url=https%3A%2F%2Fwww.aut.ac.nz%2Fstudy%2Fstudy-options%2Fsport-and-recreation%2Fcourses%2Fgraduate-certificate-in-sport-and-exercise&auth=i6Mq7xBiCd2hVxRIJO0hLA&profile=_default&rank=233&query=%7CT%3A%22%24%2B%2B+Course+%24%2B%2B%22 saved successfully in Graduate_Certificate_in_Sport_and_Exercise.txt.\n",
      "Content from https://www.aut.ac.nz/s/redirect?collection=aut-ac-nz-meta-dev&url=https%3A%2F%2Fwww.aut.ac.nz%2Fstudy%2Fstudy-options%2Fsport-and-recreation%2Fcourses%2Fbachelor-of-sport-and-recreation-honours&auth=Z2QKSN3WDJt%2BdazKo9Kkmw&profile=_default&rank=234&query=%7CT%3A%22%24%2B%2B+Course+%24%2B%2B%22 saved successfully in Bachelor_of_Sport_and_Recreation_(Honours).txt.\n",
      "Content from https://www.aut.ac.nz/s/redirect?collection=aut-ac-nz-meta-dev&url=https%3A%2F%2Fwww.aut.ac.nz%2Fstudy%2Fstudy-options%2Fbusiness%2Fcourses%2Fmaster-of-business%2Fsport-leadership-and-management&auth=B75qefbnqIsszjexvJ6LDQ&profile=_default&rank=235&query=%7CT%3A%22%24%2B%2B+Course+%24%2B%2B%22 saved successfully in Sport_Leadership_and_Management_Specialisation_-_Master_of_Business.txt.\n",
      "Content from https://www.aut.ac.nz/s/redirect?collection=aut-ac-nz-meta-dev&url=https%3A%2F%2Fwww.aut.ac.nz%2Fcourses%2Fbachelor-of-science%2Fchemistry-major&auth=o08otNLhLIEGaEfxIf0aAg&profile=_default&rank=236&query=%7CT%3A%22%24%2B%2B+Course+%24%2B%2B%22 saved successfully in Study_Chemistry_-_Bachelor_of_Science.txt.\n",
      "Content from https://www.aut.ac.nz/s/redirect?collection=aut-ac-nz-meta-dev&url=https%3A%2F%2Fwww.aut.ac.nz%2Fstudy%2Fstudy-options%2Fart-and-design%2Fcourses%2Fbachelor-of-visual-arts%2Fphotography-sculpture-and-moving-image-major&auth=w%2FCS8%2F1QJZw7%2B85YjZfhFg&profile=_default&rank=237&query=%7CT%3A%22%24%2B%2B+Course+%24%2B%2B%22 saved successfully in Photography,_Sculpture_and_Moving-image_Major_–_Bachelor_of_Visual….txt.\n",
      "Content from https://www.aut.ac.nz/s/redirect?collection=aut-ac-nz-meta-dev&url=https%3A%2F%2Fwww.aut.ac.nz%2Fstudy%2Fstudy-options%2Fhealth-sciences%2Fcourses%2Fpostgraduate-diploma-in-health-science&auth=9xWeNgW%2BWQ%2FuZX8D4xTdQg&profile=_default&rank=238&query=%7CT%3A%22%24%2B%2B+Course+%24%2B%2B%22 saved successfully in Postgraduate_Diploma_in_Health_Science.txt.\n"
     ]
    },
    {
     "name": "stdout",
     "output_type": "stream",
     "text": [
      "Content from https://www.aut.ac.nz/s/redirect?collection=aut-ac-nz-meta-dev&url=https%3A%2F%2Fwww.aut.ac.nz%2Fstudy%2Fstudy-options%2Fart-and-design%2Fcourses%2Fbachelor-of-visual-arts%2Fpainting-printmaking-and-drawing-major&auth=o1ONWCfn7L6%2B5KgCf1xtLA&profile=_default&rank=239&query=%7CT%3A%22%24%2B%2B+Course+%24%2B%2B%22 saved successfully in Painting,_Printmaking_and_Drawing_major_–_Bachelor_of_Visual_Arts_Te….txt.\n",
      "Content from https://www.aut.ac.nz/s/redirect?collection=aut-ac-nz-meta-dev&url=https%3A%2F%2Fwww.aut.ac.nz%2Fstudy%2Fstudy-options%2Feducation%2Fcourses%2Fpostgraduate-diploma-in-teaching-and-learning&auth=%2BUtDm41uc9KoLW8Psqceqw&profile=_default&rank=240&query=%7CT%3A%22%24%2B%2B+Course+%24%2B%2B%22 saved successfully in Postgraduate_Diploma_in_Teaching_and_Learning.txt.\n",
      "Content from https://www.aut.ac.nz/s/redirect?collection=aut-ac-nz-meta-dev&url=https%3A%2F%2Fwww.aut.ac.nz%2Fstudy%2Fstudy-options%2Fsport-and-recreation%2Fcourses%2Fgraduate-diploma-in-sport-and-exercise&auth=iGFFIOM%2Bu7VxCTSYU4mqvQ&profile=_default&rank=241&query=%7CT%3A%22%24%2B%2B+Course+%24%2B%2B%22 saved successfully in Graduate_Diploma_in_Sport_and_Exercise.txt.\n",
      "Content from https://www.aut.ac.nz/s/redirect?collection=aut-ac-nz-meta-dev&url=https%3A%2F%2Fwww.aut.ac.nz%2Fstudy%2Fstudy-options%2Fcreative-technologies%2Fcourses%2Fmaster-of-creative-technologies&auth=5OFTOAiJ4EDfjW%2Bl1kfJhw&profile=_default&rank=242&query=%7CT%3A%22%24%2B%2B+Course+%24%2B%2B%22 saved successfully in Master_of_Creative_Technologies.txt.\n",
      "Content from https://www.aut.ac.nz/s/redirect?collection=aut-ac-nz-meta-dev&url=https%3A%2F%2Fwww.aut.ac.nz%2Fstudy%2Fstudy-options%2Fengineering-computer-and-mathematical-sciences%2Fcourses%2Fpostgraduate-diploma-in-engineering&auth=MNUfgBWeBy1hnJyZzyBFSQ&profile=_default&rank=243&query=%7CT%3A%22%24%2B%2B+Course+%24%2B%2B%22 saved successfully in Postgraduate_Diploma_in_Engineering.txt.\n",
      "Content from https://www.aut.ac.nz/s/redirect?collection=aut-ac-nz-meta-dev&url=https%3A%2F%2Fwww.aut.ac.nz%2Fstudy%2Fstudy-options%2Fsport-and-recreation%2Fcourses%2Fbachelor-of-sport-exercise-and-health&auth=dT5Wx8ZJFwbi6OZDAQO4%2BQ&profile=_default&rank=244&query=%7CT%3A%22%24%2B%2B+Course+%24%2B%2B%22 saved successfully in Bachelor_of_Sport,_Exercise_and_Health.txt.\n",
      "Content from https://www.aut.ac.nz/s/redirect?collection=aut-ac-nz-meta-dev&url=https%3A%2F%2Fwww.aut.ac.nz%2Fstudy%2Fstudy-options%2Fbusiness%2Fcourses%2Fbachelor-of-business%2Finternational-business-major&auth=BLbp3jtU6nD9brQcKH48gg&profile=_default&rank=245&query=%7CT%3A%22%24%2B%2B+Course+%24%2B%2B%22 saved successfully in International_Business_and_Strategy_-_Bachelor_of_Business.txt.\n",
      "Content from https://www.aut.ac.nz/s/redirect?collection=aut-ac-nz-meta-dev&url=https%3A%2F%2Fwww.aut.ac.nz%2Fstudy%2Fstudy-options%2Fhealth-sciences%2Fcourses%2Fmaster-of-health-science&auth=lGhhC286tvt3ARD%2Fyd2xcA&profile=_default&rank=246&query=%7CT%3A%22%24%2B%2B+Course+%24%2B%2B%22 saved successfully in Master_of_Health_Science.txt.\n",
      "Content from https://www.aut.ac.nz/s/redirect?collection=aut-ac-nz-meta-dev&url=https%3A%2F%2Fwww.aut.ac.nz%2Fstudy%2Fstudy-options%2Flaw%2Fcourses%2Fbachelor-of-laws-honours&auth=MAbfSgoF2d0kHP5%2B7RbIDw&profile=_default&rank=247&query=%7CT%3A%22%24%2B%2B+Course+%24%2B%2B%22 saved successfully in Bachelor_of_Laws_(Honours).txt.\n",
      "Content from https://www.aut.ac.nz/s/redirect?collection=aut-ac-nz-meta-dev&url=https%3A%2F%2Fwww.aut.ac.nz%2Fstudy%2Fstudy-options%2Fcommunication-studies%2Fcourses%2Fbachelor-of-communication-studies%2Fadvertising-creativity-major&auth=EPbxNOk6gLHJbwxtUbquQA&profile=_default&rank=248&query=%7CT%3A%22%24%2B%2B+Course+%24%2B%2B%22 saved successfully in Advertising_and_Brand_Creativity_Major_-_Bachelor_of_Communication….txt.\n",
      "Content from https://www.aut.ac.nz/s/redirect?collection=aut-ac-nz-meta-dev&url=https%3A%2F%2Fwww.aut.ac.nz%2Fstudy%2Fstudy-options%2Farchitecture-and-built-environment%2Fcourses%2Fbachelor-of-architecture-and-future-environments&auth=cGclkgZeEdwxF8pxYOzErw&profile=_default&rank=249&query=%7CT%3A%22%24%2B%2B+Course+%24%2B%2B%22 saved successfully in Bachelor_of_Architecture_and_Future_Environments.txt.\n",
      "Content from https://www.aut.ac.nz/s/redirect?collection=aut-ac-nz-meta-dev&url=https%3A%2F%2Fwww.aut.ac.nz%2Fstudy%2Fstudy-options%2Fhealth-sciences%2Fcourses%2Fgraduate-certificate-in-health-science&auth=D489vxv%2BOCbnYD1PD4QSvA&profile=_default&rank=250&query=%7CT%3A%22%24%2B%2B+Course+%24%2B%2B%22 saved successfully in Graduate_Certificate_in_Health_Science.txt.\n",
      "Content from https://www.aut.ac.nz/s/redirect?collection=aut-ac-nz-meta-dev&url=https%3A%2F%2Fwww.aut.ac.nz%2Fcourses%2Fbachelor-of-science%2Fenvironmental-science-major&auth=4Ycp7WKf24O4MG4EK01t6A&profile=_default&rank=251&query=%7CT%3A%22%24%2B%2B+Course+%24%2B%2B%22 saved successfully in Environmental_Science_Degree_-_Bachelor_of_Science.txt.\n",
      "Content from https://www.aut.ac.nz/s/redirect?collection=aut-ac-nz-meta-dev&url=https%3A%2F%2Fwww.aut.ac.nz%2Fstudy%2Fstudy-options%2Fbusiness%2Fcourses%2Fmaster-of-business%2Feconomics&auth=EQqNYatUZcSKK0uXkq%2BYYw&profile=_default&rank=252&query=%7CT%3A%22%24%2B%2B+Course+%24%2B%2B%22 saved successfully in Economics_Specialisation_-_Master_of_Business.txt.\n",
      "Content from https://www.aut.ac.nz/s/redirect?collection=aut-ac-nz-meta-dev&url=https%3A%2F%2Fwww.aut.ac.nz%2Fstudy%2Fstudy-options%2Fbusiness%2Fcourses%2Fbachelor-of-business-honours%2Faccounting-specialisation-bachelor-of-business-honours&auth=RcpQnYbioz2CJGtXqZdrcg&profile=_default&rank=253&query=%7CT%3A%22%24%2B%2B+Course+%24%2B%2B%22 saved successfully in Accounting_Specialisation_-_Bachelor_of_Business_(Honours).txt.\n",
      "Content from https://www.aut.ac.nz/s/redirect?collection=aut-ac-nz-meta-dev&url=https%3A%2F%2Fwww.aut.ac.nz%2Fstudy%2Fstudy-options%2Fhealth-sciences%2Fcourses%2Fbachelor-of-health-science%2Fperioperative-practice-major-bachelor-of-health-science&auth=Pj%2Fg9WhGphYIp4lpP81DRQ&profile=_default&rank=254&query=%7CT%3A%22%24%2B%2B+Course+%24%2B%2B%22 saved successfully in Perioperative_Practice_Major_-_Bachelor_of_Health_Science.txt.\n",
      "Content from https://www.aut.ac.nz/s/redirect?collection=aut-ac-nz-meta-dev&url=https%3A%2F%2Fwww.aut.ac.nz%2Fstudy%2Fstudy-options%2Flaw%2Fcourses%2Fmaster-of-laws&auth=6L8SRCmT1JO164zICV5NLA&profile=_default&rank=255&query=%7CT%3A%22%24%2B%2B+Course+%24%2B%2B%22 saved successfully in Master_of_Laws.txt.\n",
      "Content from https://www.aut.ac.nz/s/redirect?collection=aut-ac-nz-meta-dev&url=https%3A%2F%2Fwww.aut.ac.nz%2Fstudy%2Fstudy-options%2Fhealth-sciences%2Fcourses%2Fpostgraduate-certificate-in-health-science%2Frehabilitation&auth=mNeNge1QLP0xHeK%2FQH8j5w&profile=_default&rank=256&query=%7CT%3A%22%24%2B%2B+Course+%24%2B%2B%22 saved successfully in Rehabilitation_-_Postgraduate_Certificate_in_Health_Science.txt.\n",
      "Content from https://www.aut.ac.nz/s/redirect?collection=aut-ac-nz-meta-dev&url=https%3A%2F%2Fwww.aut.ac.nz%2Fstudy%2Fstudy-options%2Fhealth-sciences%2Fcourses%2Fpostgraduate-diploma-in-health-science%2Facupuncture&auth=ePVa3esuUyoAeBMGEk0icQ&profile=_default&rank=257&query=%7CT%3A%22%24%2B%2B+Course+%24%2B%2B%22 saved successfully in Acupuncture_-_Postgraduate_Diploma_in_Health_Science.txt.\n",
      "Content from https://www.aut.ac.nz/s/redirect?collection=aut-ac-nz-meta-dev&url=https%3A%2F%2Fwww.aut.ac.nz%2Fstudy%2Fstudy-options%2Fhealth-sciences%2Fcourses%2Fdoctor-of-health-science&auth=84W%2Fnm%2BRwbkaYrB35QCxkw&profile=_default&rank=258&query=%7CT%3A%22%24%2B%2B+Course+%24%2B%2B%22 saved successfully in Doctor_of_Health_Science.txt.\n",
      "Content from https://www.aut.ac.nz/s/redirect?collection=aut-ac-nz-meta-dev&url=https%3A%2F%2Fwww.aut.ac.nz%2Fstudy%2Fstudy-options%2Fhealth-sciences%2Fcourses%2Fpostgraduate-diploma-in-public-health&auth=wdpq46Kn0K9HsonRC7%2ByxQ&profile=_default&rank=259&query=%7CT%3A%22%24%2B%2B+Course+%24%2B%2B%22 saved successfully in Postgraduate_Diploma_in_Public_Health.txt.\n",
      "Content from https://www.aut.ac.nz/s/redirect?collection=aut-ac-nz-meta-dev&url=https%3A%2F%2Fwww.aut.ac.nz%2Fcourses%2Fbachelor-of-science%2Fbiological-science-major-bachelor-of-science&auth=pf6qcAHOqAPFeQNyXH%2BWnA&profile=_default&rank=260&query=%7CT%3A%22%24%2B%2B+Course+%24%2B%2B%22 saved successfully in Biological_Science_Major_-_Bachelor_of_Science.txt.\n"
     ]
    },
    {
     "name": "stdout",
     "output_type": "stream",
     "text": [
      "Content from https://www.aut.ac.nz/s/redirect?collection=aut-ac-nz-meta-dev&url=https%3A%2F%2Fwww.aut.ac.nz%2Fstudy%2Fstudy-options%2Fhealth-sciences%2Fcourses%2Fpostgraduate-diploma-in-health-science%2Fmidwifery&auth=WonDZKXPKoPC7aNo5dTUug&profile=_default&rank=261&query=%7CT%3A%22%24%2B%2B+Course+%24%2B%2B%22 saved successfully in Midwifery_-_Postgraduate_Diploma_in_Health_Science.txt.\n",
      "Content from https://www.aut.ac.nz/s/redirect?collection=aut-ac-nz-meta-dev&url=https%3A%2F%2Fwww.aut.ac.nz%2Fstudy%2Fstudy-options%2Fart-and-design%2Fcourses%2Fmaster-of-design&auth=Lis6%2BlxHgR4FyZISn%2BtcdQ&profile=_default&rank=262&query=%7CT%3A%22%24%2B%2B+Course+%24%2B%2B%22 saved successfully in Master_of_Design_degree.txt.\n",
      "Content from https://www.aut.ac.nz/s/redirect?collection=aut-ac-nz-meta-dev&url=https%3A%2F%2Fwww.aut.ac.nz%2Fstudy%2Fstudy-options%2Farchitecture-and-built-environment%2Fcourses%2Fmaster-of-architecture-professional&auth=mpvhlqgEYSnFmEn2YoSXig&profile=_default&rank=263&query=%7CT%3A%22%24%2B%2B+Course+%24%2B%2B%22 saved successfully in Master_of_Architecture_(Professional).txt.\n",
      "Content from https://www.aut.ac.nz/s/redirect?collection=aut-ac-nz-meta-dev&url=https%3A%2F%2Fwww.aut.ac.nz%2Fstudy%2Fstudy-options%2Fbusiness%2Fcourses%2Fmaster-of-business%2Finformation-systems&auth=lFMznUFC44yr5Xyoz2oiCw&profile=_default&rank=264&query=%7CT%3A%22%24%2B%2B+Course+%24%2B%2B%22 saved successfully in Information_Systems_Specialisation_-_Master_of_Business.txt.\n",
      "Content from https://www.aut.ac.nz/s/redirect?collection=aut-ac-nz-meta-dev&url=https%3A%2F%2Fwww.aut.ac.nz%2Fstudy%2Fstudy-options%2Fbusiness%2Fcourses%2Fbachelor-of-business%2Faccounting-major&auth=OQ8uKcZ3Zky4AZoXXpTZMg&profile=_default&rank=265&query=%7CT%3A%22%24%2B%2B+Course+%24%2B%2B%22 saved successfully in Accounting_Major_-_Bachelor_of_Business.txt.\n",
      "Content from https://www.aut.ac.nz/s/redirect?collection=aut-ac-nz-meta-dev&url=https%3A%2F%2Fwww.aut.ac.nz%2Fstudy%2Fstudy-options%2Fhealth-sciences%2Fcourses%2Fmaster-of-health-practice%2Fnursing&auth=Q47f43VRXZ0e6wljdEIT8A&profile=_default&rank=266&query=%7CT%3A%22%24%2B%2B+Course+%24%2B%2B%22 saved successfully in Nursing_-_Master_of_Health_Practice.txt.\n",
      "Content from https://www.aut.ac.nz/s/redirect?collection=aut-ac-nz-meta-dev&url=https%3A%2F%2Fwww.aut.ac.nz%2Fcourses%2Fbachelor-of-science%2Ffood-science-major&auth=ks8pMpXdcGNC0IbAtWhJKw&profile=_default&rank=267&query=%7CT%3A%22%24%2B%2B+Course+%24%2B%2B%22 saved successfully in Study_Food_Science_-_Bachelor_of_Science.txt.\n",
      "Content from https://www.aut.ac.nz/s/redirect?collection=aut-ac-nz-meta-dev&url=https%3A%2F%2Fwww.aut.ac.nz%2Fcourses%2Fbachelor-of-science%2Fbiomedical-science-major&auth=ZBdCIOYAZPxJVEmJq2iTPQ&profile=_default&rank=268&query=%7CT%3A%22%24%2B%2B+Course+%24%2B%2B%22 saved successfully in Biomedical_Science_Degree_-_Bachelor_of_Science.txt.\n",
      "Content from https://www.aut.ac.nz/s/redirect?collection=aut-ac-nz-meta-dev&url=https%3A%2F%2Fwww.aut.ac.nz%2Fstudy%2Fstudy-options%2Fbusiness%2Fcourses%2Fbachelor-of-business%2Fhuman-resource-management-and-employment-relation-major&auth=wKDplsU%2BGxdT4suw2XH0Gw&profile=_default&rank=269&query=%7CT%3A%22%24%2B%2B+Course+%24%2B%2B%22 saved successfully in Human_Resource_Management_and_Employment_Relations_-_Bachelor_of….txt.\n",
      "Content from https://www.aut.ac.nz/s/redirect?collection=aut-ac-nz-meta-dev&url=https%3A%2F%2Fwww.aut.ac.nz%2Fstudy%2Fstudy-options%2Fhealth-sciences%2Fcourses%2Fmaster-of-health-science%2Fpsychology-master-of-health-science&auth=dQfmJRLSSK%2FxuNSqf%2B9ZZA&profile=_default&rank=270&query=%7CT%3A%22%24%2B%2B+Course+%24%2B%2B%22 saved successfully in Psychology_-_Master_of_Health_Science.txt.\n",
      "Content from https://www.aut.ac.nz/s/redirect?collection=aut-ac-nz-meta-dev&url=https%3A%2F%2Fwww.aut.ac.nz%2Fstudy%2Fstudy-options%2Fhealth-sciences%2Fcourses%2Fpostgraduate-diploma-in-health-science%2Fhealth-care-ethics&auth=8sP029cdV85N5N9%2BziQ7zg&profile=_default&rank=271&query=%7CT%3A%22%24%2B%2B+Course+%24%2B%2B%22 saved successfully in Health_Care_Ethics_-_Postgraduate_Diploma_in_Health_Science.txt.\n",
      "Content from https://www.aut.ac.nz/s/redirect?collection=aut-ac-nz-meta-dev&url=https%3A%2F%2Fwww.aut.ac.nz%2Fstudy%2Fstudy-options%2Fhealth-sciences%2Fcourses%2Fpostgraduate-diploma-in-health-science%2Fadvanced-nursing-practice&auth=8P9PhpuL4bKEjae8siERxA&profile=_default&rank=272&query=%7CT%3A%22%24%2B%2B+Course+%24%2B%2B%22 saved successfully in Advanced_Nursing_Practice_-_Postgraduate_Diploma_in_Health_Science.txt.\n",
      "Content from https://www.aut.ac.nz/s/redirect?collection=aut-ac-nz-meta-dev&url=https%3A%2F%2Fwww.aut.ac.nz%2Fstudy%2Fstudy-options%2Fhealth-sciences%2Fcourses%2Fmaster-of-psychotherapy&auth=eAFnyXTnM5u0skNv%2Fns4oA&profile=_default&rank=273&query=%7CT%3A%22%24%2B%2B+Course+%24%2B%2B%22 saved successfully in Master_of_Psychotherapy.txt.\n",
      "Content from https://www.aut.ac.nz/s/redirect?collection=aut-ac-nz-meta-dev&url=https%3A%2F%2Fwww.aut.ac.nz%2Fcourses%2Fbachelor-of-arts-honours%2Fcriminology-and-criminal-justice-bachelor-of-arts-honours&auth=%2BjKOwCCquPgJWZMGS4holw&profile=_default&rank=274&query=%7CT%3A%22%24%2B%2B+Course+%24%2B%2B%22 saved successfully in Criminology_and_Criminal_Justice_-_Bachelor_of_Arts_(Honours).txt.\n",
      "Content from https://www.aut.ac.nz/s/redirect?collection=aut-ac-nz-meta-dev&url=https%3A%2F%2Fwww.aut.ac.nz%2Fstudy%2Fstudy-options%2Fengineering-computer-and-mathematical-sciences%2Fcourses%2Fpostgraduate-certificate-in-engineering&auth=4jNogJwrZRJLGkpUCXTlEg&profile=_default&rank=275&query=%7CT%3A%22%24%2B%2B+Course+%24%2B%2B%22 saved successfully in Postgraduate_Certificate_in_Engineering.txt.\n",
      "Content from https://www.aut.ac.nz/s/redirect?collection=aut-ac-nz-meta-dev&url=https%3A%2F%2Fwww.aut.ac.nz%2Fstudy%2Fstudy-options%2Fhealth-sciences%2Fcourses%2Fgraduate-diploma-in-health-science&auth=w82418TGFOGjaVKvPHAorw&profile=_default&rank=276&query=%7CT%3A%22%24%2B%2B+Course+%24%2B%2B%22 saved successfully in Graduate_Diploma_in_Health_Science.txt.\n",
      "Content from https://www.aut.ac.nz/s/redirect?collection=aut-ac-nz-meta-dev&url=https%3A%2F%2Fwww.aut.ac.nz%2Fstudy%2Fstudy-options%2Fhealth-sciences%2Fcourses%2Fpostgraduate-certificate-in-health-science%2Fchild-health&auth=zaR4PvxsDuN1U7MhyEKaVQ&profile=_default&rank=277&query=%7CT%3A%22%24%2B%2B+Course+%24%2B%2B%22 saved successfully in Child_Health_-_Postgraduate_Certificate_in_Health_Science.txt.\n",
      "Content from https://www.aut.ac.nz/s/redirect?collection=aut-ac-nz-meta-dev&url=https%3A%2F%2Fwww.aut.ac.nz%2Fstudy%2Fstudy-options%2Fhospitality-tourism-and-events%2Fcourses%2Fgraduate-diploma-in-international-hospitality-management&auth=Lzk7cz2Xv1Izta9XOHKErA&profile=_default&rank=279&query=%7CT%3A%22%24%2B%2B+Course+%24%2B%2B%22 saved successfully in Graduate_Diploma_in_International_Hospitality_Management.txt.\n",
      "Content from https://www.aut.ac.nz/s/redirect?collection=aut-ac-nz-meta-dev&url=https%3A%2F%2Fwww.aut.ac.nz%2Fstudy%2Fstudy-options%2Fbusiness%2Fcourses%2Fgraduate-diploma-in-business&auth=RgSPAFQtX9viPBhjV3V8mA&profile=_default&rank=280&query=%7CT%3A%22%24%2B%2B+Course+%24%2B%2B%22 saved successfully in Graduate_Diploma_in_Business.txt.\n",
      "Content from https://www.aut.ac.nz/s/redirect?collection=aut-ac-nz-meta-dev&url=https%3A%2F%2Fwww.aut.ac.nz%2Fcourses%2Fbachelor-of-arts%2Feducation-major&auth=OFcdXK%2B9JKDZavxBDJUSyw&profile=_default&rank=281&query=%7CT%3A%22%24%2B%2B+Course+%24%2B%2B%22 saved successfully in Education_Major_-_Bachelor_of_Arts.txt.\n",
      "Content from https://www.aut.ac.nz/s/redirect?collection=aut-ac-nz-meta-dev&url=https%3A%2F%2Fwww.aut.ac.nz%2Fstudy%2Fstudy-options%2Fhospitality-tourism-and-events%2Fcourses%2Fgraduate-certificate-in-international-hospitality-management&auth=ssuUxC2WEzARHTcBEnvJvA&profile=_default&rank=282&query=%7CT%3A%22%24%2B%2B+Course+%24%2B%2B%22 saved successfully in Graduate_Certificate_in_International_Hospitality_Management.txt.\n",
      "Content from https://www.aut.ac.nz/s/redirect?collection=aut-ac-nz-meta-dev&url=https%3A%2F%2Fwww.aut.ac.nz%2Fstudy%2Fstudy-options%2Fbusiness%2Fcourses%2Fmaster-of-business%2Fmarketing%2C-advertising%2C-retailing%2C-sales&auth=x0I4vMTGraskPm7TXFxdTg&profile=_default&rank=283&query=%7CT%3A%22%24%2B%2B+Course+%24%2B%2B%22 saved successfully in Marketing_Specialisation_-_Master_of_Business.txt.\n"
     ]
    },
    {
     "name": "stdout",
     "output_type": "stream",
     "text": [
      "Content from https://www.aut.ac.nz/s/redirect?collection=aut-ac-nz-meta-dev&url=https%3A%2F%2Fwww.aut.ac.nz%2Fstudy%2Fstudy-options%2Fhealth-sciences%2Fcourses%2Fbachelor-of-health-science%2Findividual-pathway-major&auth=GabG4TeLm1nxEc2yF3E%2BUw&profile=_default&rank=284&query=%7CT%3A%22%24%2B%2B+Course+%24%2B%2B%22 saved successfully in Individual_pathway_-_Bachelor_of_Health_Science.txt.\n",
      "Content from https://www.aut.ac.nz/s/redirect?collection=aut-ac-nz-meta-dev&url=https%3A%2F%2Fwww.aut.ac.nz%2Fstudy%2Fstudy-options%2Fbusiness%2Fcourses%2Fbachelor-of-business%2Fmanagement-major&auth=ACHz9TKKgSnzbovqZduUxA&profile=_default&rank=285&query=%7CT%3A%22%24%2B%2B+Course+%24%2B%2B%22 saved successfully in Management_and_Leadership_Major_-_Bachelor_of_Business.txt.\n",
      "Content from https://www.aut.ac.nz/s/redirect?collection=aut-ac-nz-meta-dev&url=https%3A%2F%2Fwww.aut.ac.nz%2Fstudy%2Fstudy-options%2Fhealth-sciences%2Fcourses%2Fpostgraduate-diploma-in-counselling-psychology&auth=JZAlYavvsSDczVb522u%2BKA&profile=_default&rank=286&query=%7CT%3A%22%24%2B%2B+Course+%24%2B%2B%22 saved successfully in Postgraduate_Diploma_in_Counselling_Psychology.txt.\n",
      "Content from https://www.aut.ac.nz/s/redirect?collection=aut-ac-nz-meta-dev&url=https%3A%2F%2Fwww.aut.ac.nz%2Fstudy%2Fstudy-options%2Fbusiness%2Fcourses%2Fbachelor-of-business%2Fmarketing%2C-advertising%2C-retailing%2C-sales-major&auth=3ruWR%2Brxvc%2F72poMALChIg&profile=_default&rank=287&query=%7CT%3A%22%24%2B%2B+Course+%24%2B%2B%22 saved successfully in Marketing_Major_-_Bachelor_of_Business.txt.\n",
      "Content from https://www.aut.ac.nz/s/redirect?collection=aut-ac-nz-meta-dev&url=https%3A%2F%2Fwww.aut.ac.nz%2Fcourses%2Fbachelor-of-arts-honours&auth=yGvreqr9Os4pwu1XvXjukg&profile=_default&rank=288&query=%7CT%3A%22%24%2B%2B+Course+%24%2B%2B%22 saved successfully in Bachelor_of_Arts_(Honours).txt.\n",
      "Content from https://www.aut.ac.nz/s/redirect?collection=aut-ac-nz-meta-dev&url=https%3A%2F%2Fwww.aut.ac.nz%2Fstudy%2Fstudy-options%2Fbusiness%2Fcourses%2Fbachelor-of-business-honours%2Fmarketing-specialisation-bachelor-of-business-honours&auth=xjdGMKFVaA2kayHV2pro%2Fw&profile=_default&rank=289&query=%7CT%3A%22%24%2B%2B+Course+%24%2B%2B%22 saved successfully in Marketing_Specialisation_-_Bachelor_of_Business_(Honours).txt.\n",
      "Content from https://www.aut.ac.nz/s/redirect?collection=aut-ac-nz-meta-dev&url=https%3A%2F%2Fwww.aut.ac.nz%2Fstudy%2Fstudy-options%2Fbusiness%2Fcourses%2Fbachelor-of-business%2Feconomics-major&auth=S7javpLSWZfUHTG61YlOXQ&profile=_default&rank=290&query=%7CT%3A%22%24%2B%2B+Course+%24%2B%2B%22 saved successfully in Economics_Major_-_Bachelor_of_Business.txt.\n",
      "Content from https://www.aut.ac.nz/s/redirect?collection=aut-ac-nz-meta-dev&url=https%3A%2F%2Fwww.aut.ac.nz%2Fstudy%2Fstudy-options%2Fbusiness%2Fcourses%2Fmaster-of-business%2Faccounting&auth=0ibmz4UbFMAKAhOmiyHPIw&profile=_default&rank=291&query=%7CT%3A%22%24%2B%2B+Course+%24%2B%2B%22 saved successfully in Accounting_Specialisation_-_Master_of_Business.txt.\n",
      "Content from https://www.aut.ac.nz/s/redirect?collection=aut-ac-nz-meta-dev&url=https%3A%2F%2Fwww.aut.ac.nz%2Fstudy%2Fstudy-options%2Fhealth-sciences%2Fcourses%2Fpostgraduate-certificate-in-health-science%2Facupuncture&auth=6klUJfUnZZMTszmJ%2BfZW%2Fg&profile=_default&rank=292&query=%7CT%3A%22%24%2B%2B+Course+%24%2B%2B%22 saved successfully in Acupuncture_-_Postgraduate_Certificate_in_Health_Science.txt.\n",
      "Content from https://www.aut.ac.nz/s/redirect?collection=aut-ac-nz-meta-dev&url=https%3A%2F%2Fwww.aut.ac.nz%2Fstudy%2Fstudy-options%2Fhealth-sciences%2Fcourses%2Fpostgraduate-diploma-in-health-science%2Fparamedicine&auth=rBEoWEulFzL0PCYesWBzAg&profile=_default&rank=293&query=%7CT%3A%22%24%2B%2B+Course+%24%2B%2B%22 saved successfully in Paramedicine_-_Postgraduate_Diploma_in_Health_Science.txt.\n",
      "Content from https://www.aut.ac.nz/s/redirect?collection=aut-ac-nz-meta-dev&url=https%3A%2F%2Fwww.aut.ac.nz%2Fstudy%2Fstudy-options%2Fengineering-computer-and-mathematical-sciences%2Fcourses%2Fgraduate-diploma-in-computer-and-information-sciences&auth=PZN6JRPIc99R%2BILbGfulwQ&profile=_default&rank=294&query=%7CT%3A%22%24%2B%2B+Course+%24%2B%2B%22 saved successfully in Graduate_Diploma_in_Computer_and_Information_Sciences.txt.\n",
      "Content from https://www.aut.ac.nz/s/redirect?collection=aut-ac-nz-meta-dev&url=https%3A%2F%2Fwww.aut.ac.nz%2Fstudy%2Fstudy-options%2Fengineering-computer-and-mathematical-sciences%2Fcourses%2Fgraduate-certificate-in-computer-and-information-sciences&auth=Slr1L4Svo%2BQF%2B89cAyhsvA&profile=_default&rank=296&query=%7CT%3A%22%24%2B%2B+Course+%24%2B%2B%22 saved successfully in Graduate_Certificate_in_Computer_and_Information_Sciences.txt.\n",
      "Content from https://www.aut.ac.nz/s/redirect?collection=aut-ac-nz-meta-dev&url=https%3A%2F%2Fwww.aut.ac.nz%2Fstudy%2Fstudy-options%2Fbusiness%2Fcourses%2Fgraduate-certificate-in-business&auth=UnykzlkdwWCteYtkmRm%2BXg&profile=_default&rank=297&query=%7CT%3A%22%24%2B%2B+Course+%24%2B%2B%22 saved successfully in Graduate_Certificate_in_Business.txt.\n",
      "Content from https://www.aut.ac.nz/s/redirect?collection=aut-ac-nz-meta-dev&url=https%3A%2F%2Fwww.aut.ac.nz%2Fstudy%2Fstudy-options%2Fhealth-sciences%2Fcourses%2Fmaster-of-health-practice%2Frehabilitation&auth=uo4vTwuHcAh8d1itukEAkw&profile=_default&rank=298&query=%7CT%3A%22%24%2B%2B+Course+%24%2B%2B%22 saved successfully in Study_Rehabilitation_-_Master_of_Health_Practice.txt.\n",
      "Content from https://www.aut.ac.nz/s/redirect?collection=aut-ac-nz-meta-dev&url=https%3A%2F%2Fwww.aut.ac.nz%2Fstudy%2Fstudy-options%2Fbusiness%2Fcourses%2Fbachelor-of-business-honours%2Feconomics-specialisation-bachelor-of-business-honours&auth=ui1TF%2FONKZKbONKphEnnOw&profile=_default&rank=299&query=%7CT%3A%22%24%2B%2B+Course+%24%2B%2B%22 saved successfully in Economics_Specialisation_-_Bachelor_of_Business_(Honours).txt.\n",
      "Content from https://www.aut.ac.nz/s/redirect?collection=aut-ac-nz-meta-dev&url=https%3A%2F%2Fwww.aut.ac.nz%2Fstudy%2Fstudy-options%2Fhealth-sciences%2Fcourses%2Fmaster-of-public-health&auth=1xXG%2F5t8fh135q4%2FfkVT2w&profile=_default&rank=300&query=%7CT%3A%22%24%2B%2B+Course+%24%2B%2B%22 saved successfully in Master_of_Public_Health.txt.\n",
      "Content from https://www.aut.ac.nz/s/redirect?collection=aut-ac-nz-meta-dev&url=https%3A%2F%2Fwww.aut.ac.nz%2Fstudy%2Fstudy-options%2Fbusiness%2Fcourses%2Fbachelor-of-business-honours%2Fbusiness-information-systems-specialisation-bachelor-of-business-honours&auth=SK2dk%2By2s%2FtE8Sg%2BeFyg3Q&profile=_default&rank=301&query=%7CT%3A%22%24%2B%2B+Course+%24%2B%2B%22 saved successfully in Information_Systems_Specialisation_-_Bachelor_of_Business_(Honours).txt.\n",
      "Content from https://www.aut.ac.nz/s/redirect?collection=aut-ac-nz-meta-dev&url=https%3A%2F%2Fwww.aut.ac.nz%2Fstudy%2Fstudy-options%2Fhealth-sciences%2Fcourses%2Fpostgraduate-certificate-in-health-science%2Fmidwifery&auth=K5i62YFPKqrxbCK6ZcUsXQ&profile=_default&rank=302&query=%7CT%3A%22%24%2B%2B+Course+%24%2B%2B%22 saved successfully in Midwifery_-_Postgraduate_Certificate_in_Health_Science.txt.\n",
      "Content from https://www.aut.ac.nz/s/redirect?collection=aut-ac-nz-meta-dev&url=https%3A%2F%2Fwww.aut.ac.nz%2Fstudy%2Fstudy-options%2Fbusiness%2Fcourses%2Fbachelor-of-business-honours%2Ffinance-specialisation-bachelor-of-business-honours&auth=gwgsFiFqeB2eG2kKQXjxbw&profile=_default&rank=303&query=%7CT%3A%22%24%2B%2B+Course+%24%2B%2B%22 saved successfully in Finance_Specialisation_-_Bachelor_of_Business_(Honours).txt.\n",
      "Content from https://www.aut.ac.nz/s/redirect?collection=aut-ac-nz-meta-dev&url=https%3A%2F%2Fwww.aut.ac.nz%2Fstudy%2Fstudy-options%2Fscience%2Fcourses%2Fmaster-of-science-research&auth=o1RAJYnRQzMz%2FIsOq8pvjg&profile=_default&rank=305&query=%7CT%3A%22%24%2B%2B+Course+%24%2B%2B%22 saved successfully in Master_of_Science_(Research).txt.\n",
      "Content from https://www.aut.ac.nz/s/redirect?collection=aut-ac-nz-meta-dev&url=https%3A%2F%2Fwww.aut.ac.nz%2Fstudy%2Fstudy-options%2Fbusiness%2Fcourses%2Fbachelor-of-business-honours%2Fmanagement-specialisation-bachelor-of-business-honours&auth=ei0ZU7%2FZ76ondPeb0VPw9w&profile=_default&rank=306&query=%7CT%3A%22%24%2B%2B+Course+%24%2B%2B%22 saved successfully in Management_Specialisation_-_Bachelor_of_Business_(Honours).txt.\n"
     ]
    },
    {
     "name": "stdout",
     "output_type": "stream",
     "text": [
      "Content from https://www.aut.ac.nz/s/redirect?collection=aut-ac-nz-meta-dev&url=https%3A%2F%2Fwww.aut.ac.nz%2Fstudy%2Fstudy-options%2Fcreative-technologies%2Fcourses%2Fpostgraduate-certificate-in-creative-technologies&auth=MUdbISWqavkKb%2BBCx2vDLg&profile=_default&rank=307&query=%7CT%3A%22%24%2B%2B+Course+%24%2B%2B%22 saved successfully in Postgraduate_Certificate_in_Creative_Technologies.txt.\n",
      "Content from https://www.aut.ac.nz/s/redirect?collection=aut-ac-nz-meta-dev&url=https%3A%2F%2Fwww.aut.ac.nz%2Fstudy%2Fstudy-options%2Fhealth-sciences%2Fcourses%2Fpostgraduate-diploma-in-health-science%2Frehabilitation&auth=u%2BbNl%2BBL2yeU0KRzdpkdow&profile=_default&rank=308&query=%7CT%3A%22%24%2B%2B+Course+%24%2B%2B%22 saved successfully in Rehabilitation_-_Postgraduate_Diploma_in_Health_Science.txt.\n",
      "Content from https://www.aut.ac.nz/s/redirect?collection=aut-ac-nz-meta-dev&url=https%3A%2F%2Fwww.aut.ac.nz%2Fstudy%2Fstudy-options%2Fhealth-sciences%2Fcourses%2Fmaster-of-health-science%2Fadvanced-nursing-practice&auth=lg%2Fpwem1b4na9Nm5w5XRbg&profile=_default&rank=309&query=%7CT%3A%22%24%2B%2B+Course+%24%2B%2B%22 saved successfully in Advanced_Nursing_Practice_-_Master_of_Health_Science.txt.\n",
      "Content from https://www.aut.ac.nz/s/redirect?collection=aut-ac-nz-meta-dev&url=https%3A%2F%2Fwww.aut.ac.nz%2Fstudy%2Fstudy-options%2Fhealth-sciences%2Fcourses%2Fpostgraduate-certificate-in-health-science%2Fmental-health-and-addictions&auth=u7EBQcAi12PMT%2Fpo%2B4ZmEg&profile=_default&rank=310&query=%7CT%3A%22%24%2B%2B+Course+%24%2B%2B%22 saved successfully in Mental_Health_and_Addictions_-_Postgraduate_Certificate_in_Health….txt.\n",
      "Content from https://www.aut.ac.nz/s/redirect?collection=aut-ac-nz-meta-dev&url=https%3A%2F%2Fwww.aut.ac.nz%2Fstudy%2Fstudy-options%2Fbusiness%2Fcourses%2Fmaster-of-business%2Fmanagement&auth=IsPi3BwT%2FWkQ7ZJG0CetwQ&profile=_default&rank=311&query=%7CT%3A%22%24%2B%2B+Course+%24%2B%2B%22 saved successfully in Management_Specialisation_-_Master_of_Business.txt.\n",
      "Content from https://www.aut.ac.nz/s/redirect?collection=aut-ac-nz-meta-dev&url=https%3A%2F%2Fwww.aut.ac.nz%2Fcourses%2Fmaster-of-science&auth=jJ%2BvxvKx89CEvDdnwzrI0Q&profile=_default&rank=312&query=%7CT%3A%22%24%2B%2B+Course+%24%2B%2B%22 saved successfully in Master_of_Science.txt.\n",
      "Content from https://www.aut.ac.nz/s/redirect?collection=aut-ac-nz-meta-dev&url=https%3A%2F%2Fwww.aut.ac.nz%2Fstudy%2Fstudy-options%2Fbusiness%2Fcourses%2Fmaster-of-business%2Ffinance&auth=uz26f2mIl21%2Bn%2FtL20oafA&profile=_default&rank=313&query=%7CT%3A%22%24%2B%2B+Course+%24%2B%2B%22 saved successfully in Finance_Specialisation_-_Master_of_Business.txt.\n",
      "Content from https://www.aut.ac.nz/s/redirect?collection=aut-ac-nz-meta-dev&url=https%3A%2F%2Fwww.aut.ac.nz%2Fcourses%2Fpostgraduate-diploma-in-science&auth=BUNIeofntVHcNb04b4uRNA&profile=_default&rank=314&query=%7CT%3A%22%24%2B%2B+Course+%24%2B%2B%22 saved successfully in Postgraduate_Diploma_in_Science.txt.\n",
      "Content from https://www.aut.ac.nz/s/redirect?collection=aut-ac-nz-meta-dev&url=https%3A%2F%2Fwww.aut.ac.nz%2Fstudy%2Fstudy-options%2Fhealth-sciences%2Fcourses%2Fpostgraduate-certificate-in-health-science%2Fresuscitation&auth=RjVUk4mLAoxyhIrL2Iw%2BNw&profile=_default&rank=315&query=%7CT%3A%22%24%2B%2B+Course+%24%2B%2B%22 saved successfully in Resuscitation_-_Postgraduate_Certificate_in_Health_Science.txt.\n",
      "Content from https://www.aut.ac.nz/s/redirect?collection=aut-ac-nz-meta-dev&url=https%3A%2F%2Fwww.aut.ac.nz%2Fstudy%2Fstudy-options%2Fsport-and-recreation%2Fcourses%2Fmaster-of-sport%2C-exercise-and-health&auth=TTTCqwBZ8PDOuhE6G%2Blb2A&profile=_default&rank=316&query=%7CT%3A%22%24%2B%2B+Course+%24%2B%2B%22 saved successfully in Master_of_Sport,_Exercise_and_Health.txt.\n",
      "Content from https://www.aut.ac.nz/s/redirect?collection=aut-ac-nz-meta-dev&url=https%3A%2F%2Fwww.aut.ac.nz%2Fstudy%2Fstudy-options%2Flaw%2Fcourses%2Fpostgraduate-certificate-in-law&auth=ayyeQMshiLZBs0vvDCHiBA&profile=_default&rank=317&query=%7CT%3A%22%24%2B%2B+Course+%24%2B%2B%22 saved successfully in Postgraduate_Certificate_in_Law.txt.\n",
      "Content from https://www.aut.ac.nz/s/redirect?collection=aut-ac-nz-meta-dev&url=https%3A%2F%2Fwww.aut.ac.nz%2Fcourses&auth=q6i1r%2FiQ5UXNTYomx0PNqA&profile=_default&rank=318&query=%7CT%3A%22%24%2B%2B+Course+%24%2B%2B%22 saved successfully in Courses.txt.\n",
      "All links processed.\n"
     ]
    }
   ],
   "source": [
    "import requests\n",
    "from bs4 import BeautifulSoup\n",
    "import re\n",
    "import pandas as pd\n",
    "\n",
    "\n",
    "# Loop through each link in the DataFrame\n",
    "for index, row in df.iterrows():\n",
    "    url = row['Link']\n",
    "    degree_name = row['Degree Name'].replace(\" \", \"_\")  # Replace spaces with underscores for file name\n",
    "    \n",
    "    try:\n",
    "        # Send a GET request to the URL\n",
    "        response = requests.get(url)\n",
    "        \n",
    "        # Check if the request was successful\n",
    "        if response.status_code == 200:\n",
    "            # Parse the HTML content using BeautifulSoup\n",
    "            soup = BeautifulSoup(response.text, 'html.parser')\n",
    "            \n",
    "            # Find the div with id=\"body\"\n",
    "            body_div = soup.find('div', id='body')\n",
    "            \n",
    "            # Extract the text from the div and clean it up using regex\n",
    "            if body_div:\n",
    "                text = body_div.get_text(separator='\\n', strip=True)\n",
    "                \n",
    "                # Ensure each sentence or section ends up on a new line\n",
    "                cleaned_text = re.sub(r'\\s+', ' ', text)\n",
    "                lines = cleaned_text.split('. ')\n",
    "                \n",
    "                # Create a filename based on the Degree Name\n",
    "                filename = f\"{degree_name}.txt\"\n",
    "                \n",
    "                # Write the URL and the text into the file\n",
    "                with open(filename, 'w', encoding='utf-8') as file:\n",
    "                    file.write(f\"URL: {url}\\n\")  # Write the link at the top\n",
    "                    for line in lines:\n",
    "                        file.write(line.strip() + '\\n')  # Write each line\n",
    "                    file.write('\\n')  # Add a newline for separation between different links\n",
    "                \n",
    "                print(f\"Content from {url} saved successfully in {filename}.\")\n",
    "            else:\n",
    "                print(f\"Div with id='body' not found for {url}.\")\n",
    "        else:\n",
    "            print(f\"Failed to retrieve {url}: Status code {response.status_code}\")\n",
    "    \n",
    "    except Exception as e:\n",
    "        print(f\"An error occurred while processing {url}: {e}\")\n",
    "\n",
    "print(\"All links processed.\")\n"
   ]
  },
  {
   "cell_type": "code",
   "execution_count": null,
   "metadata": {},
   "outputs": [],
   "source": []
  }
 ],
 "metadata": {
  "kernelspec": {
   "display_name": "Python 3",
   "language": "python",
   "name": "python3"
  },
  "language_info": {
   "codemirror_mode": {
    "name": "ipython",
    "version": 3
   },
   "file_extension": ".py",
   "mimetype": "text/x-python",
   "name": "python",
   "nbconvert_exporter": "python",
   "pygments_lexer": "ipython3",
   "version": "3.8.5"
  }
 },
 "nbformat": 4,
 "nbformat_minor": 4
}
