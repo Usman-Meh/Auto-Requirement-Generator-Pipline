{
 "cells": [
  {
   "cell_type": "code",
   "execution_count": 1,
   "metadata": {},
   "outputs": [],
   "source": [
    "import pandas as pd"
   ]
  },
  {
   "cell_type": "code",
   "execution_count": 2,
   "metadata": {},
   "outputs": [],
   "source": [
    "df= pd.read_csv(\"degrees_links.csv\")"
   ]
  },
  {
   "cell_type": "code",
   "execution_count": 4,
   "metadata": {},
   "outputs": [
    {
     "data": {
      "text/plain": [
       "Degree Name    298\n",
       "Link           299\n",
       "dtype: int64"
      ]
     },
     "execution_count": 4,
     "metadata": {},
     "output_type": "execute_result"
    }
   ],
   "source": [
    "df.nunique()"
   ]
  },
  {
   "cell_type": "code",
   "execution_count": 57,
   "metadata": {},
   "outputs": [
    {
     "ename": "FileNotFoundError",
     "evalue": "[Errno 2] No such file or directory: 'certificate_in_arts_body.txt'",
     "output_type": "error",
     "traceback": [
      "\u001b[1;31m---------------------------------------------------------------------------\u001b[0m",
      "\u001b[1;31mFileNotFoundError\u001b[0m                         Traceback (most recent call last)",
      "\u001b[1;32m<ipython-input-57-2e7ebfa07a79>\u001b[0m in \u001b[0;36m<module>\u001b[1;34m\u001b[0m\n\u001b[0;32m      1\u001b[0m \u001b[1;31m# Open and read the text file\u001b[0m\u001b[1;33m\u001b[0m\u001b[1;33m\u001b[0m\u001b[1;33m\u001b[0m\u001b[0m\n\u001b[1;32m----> 2\u001b[1;33m \u001b[1;32mwith\u001b[0m \u001b[0mopen\u001b[0m\u001b[1;33m(\u001b[0m\u001b[1;34m'certificate_in_arts_body.txt'\u001b[0m\u001b[1;33m,\u001b[0m \u001b[1;34m'r'\u001b[0m\u001b[1;33m,\u001b[0m \u001b[0mencoding\u001b[0m\u001b[1;33m=\u001b[0m\u001b[1;34m'utf-8'\u001b[0m\u001b[1;33m)\u001b[0m \u001b[1;32mas\u001b[0m \u001b[0mfile\u001b[0m\u001b[1;33m:\u001b[0m\u001b[1;33m\u001b[0m\u001b[1;33m\u001b[0m\u001b[0m\n\u001b[0m\u001b[0;32m      3\u001b[0m     \u001b[1;31m# Store the entire content in a variable\u001b[0m\u001b[1;33m\u001b[0m\u001b[1;33m\u001b[0m\u001b[1;33m\u001b[0m\u001b[0m\n\u001b[0;32m      4\u001b[0m     \u001b[0mfile_content\u001b[0m \u001b[1;33m=\u001b[0m \u001b[0mfile\u001b[0m\u001b[1;33m.\u001b[0m\u001b[0mread\u001b[0m\u001b[1;33m(\u001b[0m\u001b[1;33m)\u001b[0m\u001b[1;33m\u001b[0m\u001b[1;33m\u001b[0m\u001b[0m\n\u001b[0;32m      5\u001b[0m \u001b[1;33m\u001b[0m\u001b[0m\n",
      "\u001b[1;31mFileNotFoundError\u001b[0m: [Errno 2] No such file or directory: 'certificate_in_arts_body.txt'"
     ]
    }
   ],
   "source": [
    "\n",
    "# Open and read the text file\n",
    "with open('certificate_in_arts_body.txt', 'r', encoding='utf-8') as file:\n",
    "    # Store the entire content in a variable\n",
    "    file_content = file.read()\n",
    "\n",
    "# Search for the phrase \"200 and 300-level\" in the content\n",
    "search_phrase = \" 5.0 in other bands, \"\n",
    "\n",
    "# Check if the phrase exists in the file content\n",
    "if search_phrase in file_content:\n",
    "    print(f\"The phrase '{search_phrase}' was found in the file.\")\n",
    "else:\n",
    "    print(f\"The phrase '{search_phrase}' was NOT found in the file.\")\n",
    "\n"
   ]
  },
  {
   "cell_type": "markdown",
   "metadata": {},
   "source": [
    "# Extracted link"
   ]
  },
  {
   "cell_type": "code",
   "execution_count": null,
   "metadata": {},
   "outputs": [],
   "source": []
  },
  {
   "cell_type": "code",
   "execution_count": 43,
   "metadata": {},
   "outputs": [],
   "source": [
    "a=[1]\n",
    "b=0\n",
    "c=[]\n",
    "c.append(a)"
   ]
  },
  {
   "cell_type": "code",
   "execution_count": 54,
   "metadata": {},
   "outputs": [
    {
     "name": "stdout",
     "output_type": "stream",
     "text": [
      "Data successfully saved to all_degree_links.csv\n"
     ]
    }
   ],
   "source": [
    "import requests\n",
    "from bs4 import BeautifulSoup\n",
    "import csv\n",
    "\n",
    "# Base URL of the website with placeholders for pagination\n",
    "base_url = \"https://www.aut.ac.nz/s/search.html?collection=aut-ac-nz-meta-dev&f.Tabs%7CT=Course&form=simple&query=&sitetheme=&start_rank={}&tab=Course\"\n",
    "\n",
    "# CSV file to save the data\n",
    "csv_file = \"all_degree_links.csv\"\n",
    "\n",
    "# Open the CSV file for writing\n",
    "with open(csv_file, mode='w', newline='', encoding='utf-8') as file:\n",
    "    writer = csv.writer(file)\n",
    "    # Write the header row\n",
    "    writer.writerow([\"Degree Name\", \"Link\"])\n",
    "\n",
    "    # Loop through pages (start_rank from 1 to 241, with a step of 10)\n",
    "    for start_rank in range(1, 320, 10):\n",
    "        # Format the URL with the current start_rank\n",
    "        url = base_url.format(start_rank)\n",
    "\n",
    "        # Send a GET request to the webpage\n",
    "        response = requests.get(url)\n",
    "\n",
    "        # Parse the HTML content with BeautifulSoup\n",
    "        soup = BeautifulSoup(response.text, 'html.parser')\n",
    "\n",
    "        # Find all course items (li elements with class 'courseItem')\n",
    "        courses = soup.find_all('li', class_='courseItem')\n",
    "        b+=1\n",
    "        # Extract the degree name and URL for each course\n",
    "        \n",
    "        for course in courses:\n",
    "            degree_name = course.find('h3').get_text(strip=True)  # Get the degree name\n",
    "            link = course.find('a')['href']  # Get the link\n",
    "            full_link = f\"https://www.aut.ac.nz{link}\"  # Complete the URL\n",
    "            a.append(1)\n",
    "            \n",
    "\n",
    "            # Write the data to the CSV file\n",
    "            writer.writerow([degree_name, full_link])\n",
    "\n",
    "#             # Print each entry (for reference)\n",
    "#             print(f\"Degree Name: {degree_name}\")\n",
    "#             print(f\"Link: {full_link}\")\n",
    "#             print()\n",
    "        c.append(a)\n",
    "\n",
    "print(f\"Data successfully saved to {csv_file}\")\n"
   ]
  },
  {
   "cell_type": "code",
   "execution_count": 56,
   "metadata": {},
   "outputs": [
    {
     "data": {
      "text/plain": [
       "Degree Name    298\n",
       "Link           299\n",
       "dtype: int64"
      ]
     },
     "execution_count": 56,
     "metadata": {},
     "output_type": "execute_result"
    }
   ],
   "source": [
    "import pandas as pd\n",
    "df =pd.read_csv('all_degree_links.csv')\n",
    "df.count()\n",
    "df.nunique()"
   ]
  },
  {
   "cell_type": "markdown",
   "metadata": {},
   "source": [
    "# Single code extraion"
   ]
  },
  {
   "cell_type": "code",
   "execution_count": 58,
   "metadata": {},
   "outputs": [
    {
     "name": "stdout",
     "output_type": "stream",
     "text": [
      "Text saved and printed line by line successfully.\n"
     ]
    }
   ],
   "source": [
    "import requests\n",
    "from bs4 import BeautifulSoup\n",
    "import re\n",
    "\n",
    "# URL to scrape\n",
    "url = \"https://www.aut.ac.nz/courses/certificate-in-arts\"\n",
    "\n",
    "# Send a GET request to the URL\n",
    "response = requests.get(url)\n",
    "\n",
    "# Parse the HTML content using BeautifulSoup\n",
    "soup = BeautifulSoup(response.text, 'html.parser')\n",
    "\n",
    "# Find the div with id=\"body\"\n",
    "body_div = soup.find('div', id='body')\n",
    "\n",
    "# Extract the text from the div and clean it up using regex\n",
    "if body_div:\n",
    "    text = body_div.get_text(separator='\\n', strip=True)\n",
    "    \n",
    "    # Ensure each sentence or section ends up on a new line\n",
    "    # This regex replaces multiple spaces with single space\n",
    "    cleaned_text = re.sub(r'\\s+', ' ', text)\n",
    "    \n",
    "    # Now split by actual line breaks to preserve the structure\n",
    "    lines = cleaned_text.split('. ')  # You can split by period if you want lines based on sentences\n",
    "    \n",
    "    # Write line by line into the file\n",
    "    with open('certificate_in_arts_body.txt', 'w', encoding='utf-8') as file:\n",
    "        for line in lines:\n",
    "            file.write(line.strip() + '\\n')  # Ensures each line is written separately with a newline\n",
    "            #print(line.strip())  # Prints line by line\n",
    "    \n",
    "    print(\"Text saved and printed line by line successfully.\")\n",
    "else:\n",
    "    print(\"Div with id='body' not found.\")\n"
   ]
  },
  {
   "cell_type": "code",
   "execution_count": 71,
   "metadata": {},
   "outputs": [
    {
     "data": {
      "text/html": [
       "<div>\n",
       "<style scoped>\n",
       "    .dataframe tbody tr th:only-of-type {\n",
       "        vertical-align: middle;\n",
       "    }\n",
       "\n",
       "    .dataframe tbody tr th {\n",
       "        vertical-align: top;\n",
       "    }\n",
       "\n",
       "    .dataframe thead th {\n",
       "        text-align: right;\n",
       "    }\n",
       "</style>\n",
       "<table border=\"1\" class=\"dataframe\">\n",
       "  <thead>\n",
       "    <tr style=\"text-align: right;\">\n",
       "      <th></th>\n",
       "      <th>Unnamed: 0</th>\n",
       "      <th>Degree Name</th>\n",
       "      <th>Link</th>\n",
       "    </tr>\n",
       "  </thead>\n",
       "  <tbody>\n",
       "    <tr>\n",
       "      <th>0</th>\n",
       "      <td>0</td>\n",
       "      <td>Learn te reo Māori language courses</td>\n",
       "      <td>https://www.aut.ac.nz/study/study-options/maor...</td>\n",
       "    </tr>\n",
       "    <tr>\n",
       "      <th>1</th>\n",
       "      <td>1</td>\n",
       "      <td>3 Lead ECG Interpretation online short course</td>\n",
       "      <td>https://www.aut.ac.nz/study/study-options/heal...</td>\n",
       "    </tr>\n",
       "    <tr>\n",
       "      <th>2</th>\n",
       "      <td>2</td>\n",
       "      <td>Prehospital Paediatric Care online short course</td>\n",
       "      <td>https://www.aut.ac.nz/study/study-options/heal...</td>\n",
       "    </tr>\n",
       "    <tr>\n",
       "      <th>3</th>\n",
       "      <td>3</td>\n",
       "      <td>Learn te reo Māori language courses</td>\n",
       "      <td>https://www.aut.ac.nz/study/study-options/maor...</td>\n",
       "    </tr>\n",
       "    <tr>\n",
       "      <th>4</th>\n",
       "      <td>4</td>\n",
       "      <td>3 Lead ECG Interpretation online short course</td>\n",
       "      <td>https://www.aut.ac.nz/study/study-options/heal...</td>\n",
       "    </tr>\n",
       "  </tbody>\n",
       "</table>\n",
       "</div>"
      ],
      "text/plain": [
       "   Unnamed: 0                                      Degree Name  \\\n",
       "0           0              Learn te reo Māori language courses   \n",
       "1           1    3 Lead ECG Interpretation online short course   \n",
       "2           2  Prehospital Paediatric Care online short course   \n",
       "3           3              Learn te reo Māori language courses   \n",
       "4           4    3 Lead ECG Interpretation online short course   \n",
       "\n",
       "                                                Link  \n",
       "0  https://www.aut.ac.nz/study/study-options/maor...  \n",
       "1  https://www.aut.ac.nz/study/study-options/heal...  \n",
       "2  https://www.aut.ac.nz/study/study-options/heal...  \n",
       "3  https://www.aut.ac.nz/study/study-options/maor...  \n",
       "4  https://www.aut.ac.nz/study/study-options/heal...  "
      ]
     },
     "execution_count": 71,
     "metadata": {},
     "output_type": "execute_result"
    }
   ],
   "source": [
    "import pandas as pd\n",
    "df=pd.read_csv('remaining_links.csv')\n",
    "df.nunique()\n",
    "df.head(5)"
   ]
  },
  {
   "cell_type": "code",
   "execution_count": 68,
   "metadata": {},
   "outputs": [],
   "source": [
    "df.drop(df['Unnamed: 0'],inplace=True)"
   ]
  },
  {
   "cell_type": "markdown",
   "metadata": {},
   "source": [
    "# extract all file data"
   ]
  },
  {
   "cell_type": "code",
   "execution_count": 73,
   "metadata": {},
   "outputs": [
    {
     "name": "stdout",
     "output_type": "stream",
     "text": [
      "Content from https://www.aut.ac.nz/study/study-options/maori-and-indigenous-development/courses/te-reo-maori-courses saved successfully in Learn_te_reo_Māori_language_courses.txt.\n",
      "Content from https://www.aut.ac.nz/study/study-options/health-sciences/courses/3-lead-ecg-interpretation-online-short-course saved successfully in 3_Lead_ECG_Interpretation_online_short_course.txt.\n",
      "Content from https://www.aut.ac.nz/study/study-options/health-sciences/courses/pre-hospital-paediatrics-short-course saved successfully in Prehospital_Paediatric_Care_online_short_course.txt.\n",
      "Content from https://www.aut.ac.nz/study/study-options/maori-and-indigenous-development/courses/te-reo-maori-courses saved successfully in Learn_te_reo_Māori_language_courses.txt.\n",
      "Content from https://www.aut.ac.nz/study/study-options/health-sciences/courses/3-lead-ecg-interpretation-online-short-course saved successfully in 3_Lead_ECG_Interpretation_online_short_course.txt.\n",
      "Content from https://www.aut.ac.nz/study/study-options/health-sciences/courses/pre-hospital-paediatrics-short-course saved successfully in Prehospital_Paediatric_Care_online_short_course.txt.\n",
      "Content from https://www.aut.ac.nz/study/study-options/sport-and-recreation/courses/certificate-of-proficiency-in-pacific-nutrition saved successfully in Certificate_of_Proficiency_in_Pacific_Nutrition.txt.\n",
      "Content from https://www.aut.ac.nz/study/study-options/sport-and-recreation/courses/fitness-instructing saved successfully in Certificate_of_Proficiency_in_Fitness_Instructing.txt.\n",
      "Content from https://www.aut.ac.nz/study/study-options/sport-and-recreation/courses/sports-massage-advanced saved successfully in Sports_Massage_Advanced.txt.\n",
      "Content from https://www.aut.ac.nz/study/study-options/sport-and-recreation/courses/fitness-foundations saved successfully in Certificate_of_Proficiency_in_Fitness_Foundations.txt.\n",
      "Content from https://www.aut.ac.nz/study/study-options/health-sciences/courses/short-course-in-medical-terminology saved successfully in Medical_Terminology_course_-_Certificate_of_Proficiency.txt.\n",
      "Content from https://www.aut.ac.nz/study/study-options/sport-and-recreation/courses/sports-massage saved successfully in Sports_Massage.txt.\n",
      "Content from https://www.aut.ac.nz/study/study-options/health-sciences/courses/Pre-Hospital-Antenatal-Care-Short-Course saved successfully in Prehospital_Antenatal_Care_online_short_course.txt.\n",
      "Content from https://www.aut.ac.nz/study/study-options/hospitality-tourism-and-events/courses/barista-beginner saved successfully in Barista_Course_(Beginner).txt.\n",
      "Content from https://www.aut.ac.nz/study/study-options/sport-and-recreation/courses/certificate-of-proficiency-in-group-fitness-instructing saved successfully in Certificate_of_Proficiency_in_Group_Fitness_Instructing.txt.\n",
      "Content from https://www.aut.ac.nz/study/study-options/health-sciences/courses/drug-assisted-airway-management-daam-refresher-short-course saved successfully in Drug_Assisted_Airway_Management_(DAAM)_refresher_short_course.txt.\n",
      "Content from https://www.aut.ac.nz/study/study-options/maori-and-indigenous-development/courses/te-reo-maori-courses saved successfully in Learn_te_reo_Māori_language_courses.txt.\n",
      "Content from https://www.aut.ac.nz/study/study-options/health-sciences/courses/3-lead-ecg-interpretation-online-short-course saved successfully in 3_Lead_ECG_Interpretation_online_short_course.txt.\n",
      "All links processed.\n"
     ]
    }
   ],
   "source": [
    "import requests\n",
    "from bs4 import BeautifulSoup\n",
    "import re\n",
    "import pandas as pd\n",
    "\n",
    "\n",
    "# Loop through each link in the DataFrame\n",
    "for index, row in df.iterrows():\n",
    "    url = row['Link']\n",
    "    degree_name = row['Degree Name'].replace(\" \", \"_\")  # Replace spaces with underscores for file name\n",
    "    \n",
    "    try:\n",
    "        # Send a GET request to the URL\n",
    "        response = requests.get(url)\n",
    "        \n",
    "        # Check if the request was successful\n",
    "        if response.status_code == 200:\n",
    "            # Parse the HTML content using BeautifulSoup\n",
    "            soup = BeautifulSoup(response.text, 'html.parser')\n",
    "            \n",
    "            # Find the div with id=\"body\"\n",
    "            body_div = soup.find('div', id='body')\n",
    "            \n",
    "            # Extract the text from the div and clean it up using regex\n",
    "            if body_div:\n",
    "                text = body_div.get_text(separator='\\n', strip=True)\n",
    "                \n",
    "                # Ensure each sentence or section ends up on a new line\n",
    "                cleaned_text = re.sub(r'\\s+', ' ', text)\n",
    "                lines = cleaned_text.split('. ')\n",
    "                \n",
    "                # Create a filename based on the Degree Name\n",
    "                filename = f\"{degree_name}.txt\"\n",
    "                \n",
    "                # Write the URL and the text into the file\n",
    "                with open(filename, 'w', encoding='utf-8') as file:\n",
    "                    file.write(f\"URL: {url}\\n\")  # Write the link at the top\n",
    "                    for line in lines:\n",
    "                        file.write(line.strip() + '\\n')  # Write each line\n",
    "                    file.write('\\n')  # Add a newline for separation between different links\n",
    "                \n",
    "                print(f\"Content from {url} saved successfully in {filename}.\")\n",
    "            else:\n",
    "                print(f\"Div with id='body' not found for {url}.\")\n",
    "        else:\n",
    "            print(f\"Failed to retrieve {url}: Status code {response.status_code}\")\n",
    "    \n",
    "    except Exception as e:\n",
    "        print(f\"An error occurred while processing {url}: {e}\")\n",
    "\n",
    "print(\"All links processed.\")\n"
   ]
  },
  {
   "cell_type": "code",
   "execution_count": null,
   "metadata": {},
   "outputs": [],
   "source": []
  }
 ],
 "metadata": {
  "kernelspec": {
   "display_name": "Python 3",
   "language": "python",
   "name": "python3"
  },
  "language_info": {
   "codemirror_mode": {
    "name": "ipython",
    "version": 3
   },
   "file_extension": ".py",
   "mimetype": "text/x-python",
   "name": "python",
   "nbconvert_exporter": "python",
   "pygments_lexer": "ipython3",
   "version": "3.8.5"
  }
 },
 "nbformat": 4,
 "nbformat_minor": 4
}
